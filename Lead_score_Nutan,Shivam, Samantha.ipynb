{
 "cells": [
  {
   "cell_type": "markdown",
   "id": "53971de3",
   "metadata": {},
   "source": [
    "# Problem Statement\n",
    "\n",
    "\n",
    "X Education, an online course selling education company, needs assistance in recognising and selecting promising leads that will most likely convert to paying customers. Our aim is to analyse and identify variables which leads to higher customer conversion rate.  This is done by assigning lead scores to each of the leads such that customers with high lead score indicate high chance of conversion.\n"
   ]
  },
  {
   "cell_type": "markdown",
   "id": "96981810",
   "metadata": {},
   "source": [
    "# Workflow\n",
    "- Step 1 : Importing the data set\n",
    "- Step 2 : Inspecting the dataframe\n",
    "- Step 3 : Handling missing values\n",
    "- Step 4 : Data Preparation\n",
    "- Step 5 : Outlier Treatment for continuous variables\n",
    "- Step 6 : EDA\n",
    "- Step 7 : Creating dummy variables for categorical columns\n",
    "- Step 8 : Splitting the Data into Training and Testing Sets\n",
    "- Step 9 : Feature scaling\n",
    "- Step 10 : First Training Model\n",
    "- Step 11 : Feature Selection Using RFE\n",
    "- Step 12 : Model Building\n",
    "- Step 13 : Model Evaluation: Accuracy, Sensitivity, and Specificity\n",
    "- Step 14 : Plotting the ROC Curve\n",
    "- Step 15 : Finding Optimal Cut-off Point\n",
    "- Step 16 : Making predictions on the test set\n",
    "- Step 17 : Adding lead score to the data file\n",
    "- Conclusions\n",
    "\n",
    "\n",
    "\n"
   ]
  },
  {
   "cell_type": "code",
   "execution_count": 2,
   "id": "2d62adda",
   "metadata": {},
   "outputs": [],
   "source": [
    "#importing warnings\n",
    "import warnings\n",
    "warnings.filterwarnings('ignore')"
   ]
  },
  {
   "cell_type": "code",
   "execution_count": 3,
   "id": "9c639667",
   "metadata": {},
   "outputs": [],
   "source": [
    "#importing packages\n",
    "import numpy as np\n",
    "import pandas as pd\n",
    "import statsmodels\n",
    "import statsmodels.api as sm\n",
    "import sklearn"
   ]
  },
  {
   "cell_type": "code",
   "execution_count": 4,
   "id": "592212fe",
   "metadata": {},
   "outputs": [],
   "source": [
    "import matplotlib.pyplot as plt\n",
    "import seaborn as sns"
   ]
  },
  {
   "cell_type": "code",
   "execution_count": 5,
   "id": "e490abfd",
   "metadata": {},
   "outputs": [],
   "source": [
    "pd.set_option(\"display.max_rows\", 500)\n",
    "pd.set_option(\"display.max_columns\",500)"
   ]
  },
  {
   "cell_type": "markdown",
   "id": "06ecb129",
   "metadata": {},
   "source": [
    "# Step 1 : Importing the data set"
   ]
  },
  {
   "cell_type": "code",
   "execution_count": 6,
   "id": "4ef76977",
   "metadata": {
    "scrolled": true
   },
   "outputs": [
    {
     "data": {
      "text/html": [
       "<div>\n",
       "<style scoped>\n",
       "    .dataframe tbody tr th:only-of-type {\n",
       "        vertical-align: middle;\n",
       "    }\n",
       "\n",
       "    .dataframe tbody tr th {\n",
       "        vertical-align: top;\n",
       "    }\n",
       "\n",
       "    .dataframe thead th {\n",
       "        text-align: right;\n",
       "    }\n",
       "</style>\n",
       "<table border=\"1\" class=\"dataframe\">\n",
       "  <thead>\n",
       "    <tr style=\"text-align: right;\">\n",
       "      <th></th>\n",
       "      <th>Prospect ID</th>\n",
       "      <th>Lead Number</th>\n",
       "      <th>Lead Origin</th>\n",
       "      <th>Lead Source</th>\n",
       "      <th>Do Not Email</th>\n",
       "      <th>Do Not Call</th>\n",
       "      <th>Converted</th>\n",
       "      <th>TotalVisits</th>\n",
       "      <th>Total Time Spent on Website</th>\n",
       "      <th>Page Views Per Visit</th>\n",
       "      <th>Last Activity</th>\n",
       "      <th>Country</th>\n",
       "      <th>Specialization</th>\n",
       "      <th>How did you hear about X Education</th>\n",
       "      <th>What is your current occupation</th>\n",
       "      <th>What matters most to you in choosing a course</th>\n",
       "      <th>Search</th>\n",
       "      <th>Magazine</th>\n",
       "      <th>Newspaper Article</th>\n",
       "      <th>X Education Forums</th>\n",
       "      <th>Newspaper</th>\n",
       "      <th>Digital Advertisement</th>\n",
       "      <th>Through Recommendations</th>\n",
       "      <th>Receive More Updates About Our Courses</th>\n",
       "      <th>Tags</th>\n",
       "      <th>Lead Quality</th>\n",
       "      <th>Update me on Supply Chain Content</th>\n",
       "      <th>Get updates on DM Content</th>\n",
       "      <th>Lead Profile</th>\n",
       "      <th>City</th>\n",
       "      <th>Asymmetrique Activity Index</th>\n",
       "      <th>Asymmetrique Profile Index</th>\n",
       "      <th>Asymmetrique Activity Score</th>\n",
       "      <th>Asymmetrique Profile Score</th>\n",
       "      <th>I agree to pay the amount through cheque</th>\n",
       "      <th>A free copy of Mastering The Interview</th>\n",
       "      <th>Last Notable Activity</th>\n",
       "    </tr>\n",
       "  </thead>\n",
       "  <tbody>\n",
       "    <tr>\n",
       "      <th>0</th>\n",
       "      <td>7927b2df-8bba-4d29-b9a2-b6e0beafe620</td>\n",
       "      <td>660737</td>\n",
       "      <td>API</td>\n",
       "      <td>Olark Chat</td>\n",
       "      <td>No</td>\n",
       "      <td>No</td>\n",
       "      <td>0</td>\n",
       "      <td>0.0</td>\n",
       "      <td>0</td>\n",
       "      <td>0.0</td>\n",
       "      <td>Page Visited on Website</td>\n",
       "      <td>NaN</td>\n",
       "      <td>Select</td>\n",
       "      <td>Select</td>\n",
       "      <td>Unemployed</td>\n",
       "      <td>Better Career Prospects</td>\n",
       "      <td>No</td>\n",
       "      <td>No</td>\n",
       "      <td>No</td>\n",
       "      <td>No</td>\n",
       "      <td>No</td>\n",
       "      <td>No</td>\n",
       "      <td>No</td>\n",
       "      <td>No</td>\n",
       "      <td>Interested in other courses</td>\n",
       "      <td>Low in Relevance</td>\n",
       "      <td>No</td>\n",
       "      <td>No</td>\n",
       "      <td>Select</td>\n",
       "      <td>Select</td>\n",
       "      <td>02.Medium</td>\n",
       "      <td>02.Medium</td>\n",
       "      <td>15.0</td>\n",
       "      <td>15.0</td>\n",
       "      <td>No</td>\n",
       "      <td>No</td>\n",
       "      <td>Modified</td>\n",
       "    </tr>\n",
       "    <tr>\n",
       "      <th>1</th>\n",
       "      <td>2a272436-5132-4136-86fa-dcc88c88f482</td>\n",
       "      <td>660728</td>\n",
       "      <td>API</td>\n",
       "      <td>Organic Search</td>\n",
       "      <td>No</td>\n",
       "      <td>No</td>\n",
       "      <td>0</td>\n",
       "      <td>5.0</td>\n",
       "      <td>674</td>\n",
       "      <td>2.5</td>\n",
       "      <td>Email Opened</td>\n",
       "      <td>India</td>\n",
       "      <td>Select</td>\n",
       "      <td>Select</td>\n",
       "      <td>Unemployed</td>\n",
       "      <td>Better Career Prospects</td>\n",
       "      <td>No</td>\n",
       "      <td>No</td>\n",
       "      <td>No</td>\n",
       "      <td>No</td>\n",
       "      <td>No</td>\n",
       "      <td>No</td>\n",
       "      <td>No</td>\n",
       "      <td>No</td>\n",
       "      <td>Ringing</td>\n",
       "      <td>NaN</td>\n",
       "      <td>No</td>\n",
       "      <td>No</td>\n",
       "      <td>Select</td>\n",
       "      <td>Select</td>\n",
       "      <td>02.Medium</td>\n",
       "      <td>02.Medium</td>\n",
       "      <td>15.0</td>\n",
       "      <td>15.0</td>\n",
       "      <td>No</td>\n",
       "      <td>No</td>\n",
       "      <td>Email Opened</td>\n",
       "    </tr>\n",
       "    <tr>\n",
       "      <th>2</th>\n",
       "      <td>8cc8c611-a219-4f35-ad23-fdfd2656bd8a</td>\n",
       "      <td>660727</td>\n",
       "      <td>Landing Page Submission</td>\n",
       "      <td>Direct Traffic</td>\n",
       "      <td>No</td>\n",
       "      <td>No</td>\n",
       "      <td>1</td>\n",
       "      <td>2.0</td>\n",
       "      <td>1532</td>\n",
       "      <td>2.0</td>\n",
       "      <td>Email Opened</td>\n",
       "      <td>India</td>\n",
       "      <td>Business Administration</td>\n",
       "      <td>Select</td>\n",
       "      <td>Student</td>\n",
       "      <td>Better Career Prospects</td>\n",
       "      <td>No</td>\n",
       "      <td>No</td>\n",
       "      <td>No</td>\n",
       "      <td>No</td>\n",
       "      <td>No</td>\n",
       "      <td>No</td>\n",
       "      <td>No</td>\n",
       "      <td>No</td>\n",
       "      <td>Will revert after reading the email</td>\n",
       "      <td>Might be</td>\n",
       "      <td>No</td>\n",
       "      <td>No</td>\n",
       "      <td>Potential Lead</td>\n",
       "      <td>Mumbai</td>\n",
       "      <td>02.Medium</td>\n",
       "      <td>01.High</td>\n",
       "      <td>14.0</td>\n",
       "      <td>20.0</td>\n",
       "      <td>No</td>\n",
       "      <td>Yes</td>\n",
       "      <td>Email Opened</td>\n",
       "    </tr>\n",
       "    <tr>\n",
       "      <th>3</th>\n",
       "      <td>0cc2df48-7cf4-4e39-9de9-19797f9b38cc</td>\n",
       "      <td>660719</td>\n",
       "      <td>Landing Page Submission</td>\n",
       "      <td>Direct Traffic</td>\n",
       "      <td>No</td>\n",
       "      <td>No</td>\n",
       "      <td>0</td>\n",
       "      <td>1.0</td>\n",
       "      <td>305</td>\n",
       "      <td>1.0</td>\n",
       "      <td>Unreachable</td>\n",
       "      <td>India</td>\n",
       "      <td>Media and Advertising</td>\n",
       "      <td>Word Of Mouth</td>\n",
       "      <td>Unemployed</td>\n",
       "      <td>Better Career Prospects</td>\n",
       "      <td>No</td>\n",
       "      <td>No</td>\n",
       "      <td>No</td>\n",
       "      <td>No</td>\n",
       "      <td>No</td>\n",
       "      <td>No</td>\n",
       "      <td>No</td>\n",
       "      <td>No</td>\n",
       "      <td>Ringing</td>\n",
       "      <td>Not Sure</td>\n",
       "      <td>No</td>\n",
       "      <td>No</td>\n",
       "      <td>Select</td>\n",
       "      <td>Mumbai</td>\n",
       "      <td>02.Medium</td>\n",
       "      <td>01.High</td>\n",
       "      <td>13.0</td>\n",
       "      <td>17.0</td>\n",
       "      <td>No</td>\n",
       "      <td>No</td>\n",
       "      <td>Modified</td>\n",
       "    </tr>\n",
       "    <tr>\n",
       "      <th>4</th>\n",
       "      <td>3256f628-e534-4826-9d63-4a8b88782852</td>\n",
       "      <td>660681</td>\n",
       "      <td>Landing Page Submission</td>\n",
       "      <td>Google</td>\n",
       "      <td>No</td>\n",
       "      <td>No</td>\n",
       "      <td>1</td>\n",
       "      <td>2.0</td>\n",
       "      <td>1428</td>\n",
       "      <td>1.0</td>\n",
       "      <td>Converted to Lead</td>\n",
       "      <td>India</td>\n",
       "      <td>Select</td>\n",
       "      <td>Other</td>\n",
       "      <td>Unemployed</td>\n",
       "      <td>Better Career Prospects</td>\n",
       "      <td>No</td>\n",
       "      <td>No</td>\n",
       "      <td>No</td>\n",
       "      <td>No</td>\n",
       "      <td>No</td>\n",
       "      <td>No</td>\n",
       "      <td>No</td>\n",
       "      <td>No</td>\n",
       "      <td>Will revert after reading the email</td>\n",
       "      <td>Might be</td>\n",
       "      <td>No</td>\n",
       "      <td>No</td>\n",
       "      <td>Select</td>\n",
       "      <td>Mumbai</td>\n",
       "      <td>02.Medium</td>\n",
       "      <td>01.High</td>\n",
       "      <td>15.0</td>\n",
       "      <td>18.0</td>\n",
       "      <td>No</td>\n",
       "      <td>No</td>\n",
       "      <td>Modified</td>\n",
       "    </tr>\n",
       "  </tbody>\n",
       "</table>\n",
       "</div>"
      ],
      "text/plain": [
       "                            Prospect ID  Lead Number              Lead Origin  \\\n",
       "0  7927b2df-8bba-4d29-b9a2-b6e0beafe620       660737                      API   \n",
       "1  2a272436-5132-4136-86fa-dcc88c88f482       660728                      API   \n",
       "2  8cc8c611-a219-4f35-ad23-fdfd2656bd8a       660727  Landing Page Submission   \n",
       "3  0cc2df48-7cf4-4e39-9de9-19797f9b38cc       660719  Landing Page Submission   \n",
       "4  3256f628-e534-4826-9d63-4a8b88782852       660681  Landing Page Submission   \n",
       "\n",
       "      Lead Source Do Not Email Do Not Call  Converted  TotalVisits  \\\n",
       "0      Olark Chat           No          No          0          0.0   \n",
       "1  Organic Search           No          No          0          5.0   \n",
       "2  Direct Traffic           No          No          1          2.0   \n",
       "3  Direct Traffic           No          No          0          1.0   \n",
       "4          Google           No          No          1          2.0   \n",
       "\n",
       "   Total Time Spent on Website  Page Views Per Visit            Last Activity  \\\n",
       "0                            0                   0.0  Page Visited on Website   \n",
       "1                          674                   2.5             Email Opened   \n",
       "2                         1532                   2.0             Email Opened   \n",
       "3                          305                   1.0              Unreachable   \n",
       "4                         1428                   1.0        Converted to Lead   \n",
       "\n",
       "  Country           Specialization How did you hear about X Education  \\\n",
       "0     NaN                   Select                             Select   \n",
       "1   India                   Select                             Select   \n",
       "2   India  Business Administration                             Select   \n",
       "3   India    Media and Advertising                      Word Of Mouth   \n",
       "4   India                   Select                              Other   \n",
       "\n",
       "  What is your current occupation  \\\n",
       "0                      Unemployed   \n",
       "1                      Unemployed   \n",
       "2                         Student   \n",
       "3                      Unemployed   \n",
       "4                      Unemployed   \n",
       "\n",
       "  What matters most to you in choosing a course Search Magazine  \\\n",
       "0                       Better Career Prospects     No       No   \n",
       "1                       Better Career Prospects     No       No   \n",
       "2                       Better Career Prospects     No       No   \n",
       "3                       Better Career Prospects     No       No   \n",
       "4                       Better Career Prospects     No       No   \n",
       "\n",
       "  Newspaper Article X Education Forums Newspaper Digital Advertisement  \\\n",
       "0                No                 No        No                    No   \n",
       "1                No                 No        No                    No   \n",
       "2                No                 No        No                    No   \n",
       "3                No                 No        No                    No   \n",
       "4                No                 No        No                    No   \n",
       "\n",
       "  Through Recommendations Receive More Updates About Our Courses  \\\n",
       "0                      No                                     No   \n",
       "1                      No                                     No   \n",
       "2                      No                                     No   \n",
       "3                      No                                     No   \n",
       "4                      No                                     No   \n",
       "\n",
       "                                  Tags      Lead Quality  \\\n",
       "0          Interested in other courses  Low in Relevance   \n",
       "1                              Ringing               NaN   \n",
       "2  Will revert after reading the email          Might be   \n",
       "3                              Ringing          Not Sure   \n",
       "4  Will revert after reading the email          Might be   \n",
       "\n",
       "  Update me on Supply Chain Content Get updates on DM Content    Lead Profile  \\\n",
       "0                                No                        No          Select   \n",
       "1                                No                        No          Select   \n",
       "2                                No                        No  Potential Lead   \n",
       "3                                No                        No          Select   \n",
       "4                                No                        No          Select   \n",
       "\n",
       "     City Asymmetrique Activity Index Asymmetrique Profile Index  \\\n",
       "0  Select                   02.Medium                  02.Medium   \n",
       "1  Select                   02.Medium                  02.Medium   \n",
       "2  Mumbai                   02.Medium                    01.High   \n",
       "3  Mumbai                   02.Medium                    01.High   \n",
       "4  Mumbai                   02.Medium                    01.High   \n",
       "\n",
       "   Asymmetrique Activity Score  Asymmetrique Profile Score  \\\n",
       "0                         15.0                        15.0   \n",
       "1                         15.0                        15.0   \n",
       "2                         14.0                        20.0   \n",
       "3                         13.0                        17.0   \n",
       "4                         15.0                        18.0   \n",
       "\n",
       "  I agree to pay the amount through cheque  \\\n",
       "0                                       No   \n",
       "1                                       No   \n",
       "2                                       No   \n",
       "3                                       No   \n",
       "4                                       No   \n",
       "\n",
       "  A free copy of Mastering The Interview Last Notable Activity  \n",
       "0                                     No              Modified  \n",
       "1                                     No          Email Opened  \n",
       "2                                    Yes          Email Opened  \n",
       "3                                     No              Modified  \n",
       "4                                     No              Modified  "
      ]
     },
     "execution_count": 6,
     "metadata": {},
     "output_type": "execute_result"
    }
   ],
   "source": [
    "# reading data \n",
    "df = pd.read_csv('Leads.csv')\n",
    "df.head()"
   ]
  },
  {
   "cell_type": "markdown",
   "id": "34429e26",
   "metadata": {},
   "source": [
    "# Step 2 : Inspecting the dataframe"
   ]
  },
  {
   "cell_type": "code",
   "execution_count": 7,
   "id": "83378c97",
   "metadata": {},
   "outputs": [
    {
     "data": {
      "text/plain": [
       "(9240, 37)"
      ]
     },
     "execution_count": 7,
     "metadata": {},
     "output_type": "execute_result"
    }
   ],
   "source": [
    "df.shape"
   ]
  },
  {
   "cell_type": "code",
   "execution_count": 8,
   "id": "3e9e2cf2",
   "metadata": {
    "scrolled": true
   },
   "outputs": [
    {
     "data": {
      "text/html": [
       "<div>\n",
       "<style scoped>\n",
       "    .dataframe tbody tr th:only-of-type {\n",
       "        vertical-align: middle;\n",
       "    }\n",
       "\n",
       "    .dataframe tbody tr th {\n",
       "        vertical-align: top;\n",
       "    }\n",
       "\n",
       "    .dataframe thead th {\n",
       "        text-align: right;\n",
       "    }\n",
       "</style>\n",
       "<table border=\"1\" class=\"dataframe\">\n",
       "  <thead>\n",
       "    <tr style=\"text-align: right;\">\n",
       "      <th></th>\n",
       "      <th>Lead Number</th>\n",
       "      <th>Converted</th>\n",
       "      <th>TotalVisits</th>\n",
       "      <th>Total Time Spent on Website</th>\n",
       "      <th>Page Views Per Visit</th>\n",
       "      <th>Asymmetrique Activity Score</th>\n",
       "      <th>Asymmetrique Profile Score</th>\n",
       "    </tr>\n",
       "  </thead>\n",
       "  <tbody>\n",
       "    <tr>\n",
       "      <th>count</th>\n",
       "      <td>9240.000000</td>\n",
       "      <td>9240.000000</td>\n",
       "      <td>9103.000000</td>\n",
       "      <td>9240.000000</td>\n",
       "      <td>9103.000000</td>\n",
       "      <td>5022.000000</td>\n",
       "      <td>5022.000000</td>\n",
       "    </tr>\n",
       "    <tr>\n",
       "      <th>mean</th>\n",
       "      <td>617188.435606</td>\n",
       "      <td>0.385390</td>\n",
       "      <td>3.445238</td>\n",
       "      <td>487.698268</td>\n",
       "      <td>2.362820</td>\n",
       "      <td>14.306252</td>\n",
       "      <td>16.344883</td>\n",
       "    </tr>\n",
       "    <tr>\n",
       "      <th>std</th>\n",
       "      <td>23405.995698</td>\n",
       "      <td>0.486714</td>\n",
       "      <td>4.854853</td>\n",
       "      <td>548.021466</td>\n",
       "      <td>2.161418</td>\n",
       "      <td>1.386694</td>\n",
       "      <td>1.811395</td>\n",
       "    </tr>\n",
       "    <tr>\n",
       "      <th>min</th>\n",
       "      <td>579533.000000</td>\n",
       "      <td>0.000000</td>\n",
       "      <td>0.000000</td>\n",
       "      <td>0.000000</td>\n",
       "      <td>0.000000</td>\n",
       "      <td>7.000000</td>\n",
       "      <td>11.000000</td>\n",
       "    </tr>\n",
       "    <tr>\n",
       "      <th>25%</th>\n",
       "      <td>596484.500000</td>\n",
       "      <td>0.000000</td>\n",
       "      <td>1.000000</td>\n",
       "      <td>12.000000</td>\n",
       "      <td>1.000000</td>\n",
       "      <td>14.000000</td>\n",
       "      <td>15.000000</td>\n",
       "    </tr>\n",
       "    <tr>\n",
       "      <th>50%</th>\n",
       "      <td>615479.000000</td>\n",
       "      <td>0.000000</td>\n",
       "      <td>3.000000</td>\n",
       "      <td>248.000000</td>\n",
       "      <td>2.000000</td>\n",
       "      <td>14.000000</td>\n",
       "      <td>16.000000</td>\n",
       "    </tr>\n",
       "    <tr>\n",
       "      <th>75%</th>\n",
       "      <td>637387.250000</td>\n",
       "      <td>1.000000</td>\n",
       "      <td>5.000000</td>\n",
       "      <td>936.000000</td>\n",
       "      <td>3.000000</td>\n",
       "      <td>15.000000</td>\n",
       "      <td>18.000000</td>\n",
       "    </tr>\n",
       "    <tr>\n",
       "      <th>max</th>\n",
       "      <td>660737.000000</td>\n",
       "      <td>1.000000</td>\n",
       "      <td>251.000000</td>\n",
       "      <td>2272.000000</td>\n",
       "      <td>55.000000</td>\n",
       "      <td>18.000000</td>\n",
       "      <td>20.000000</td>\n",
       "    </tr>\n",
       "  </tbody>\n",
       "</table>\n",
       "</div>"
      ],
      "text/plain": [
       "         Lead Number    Converted  TotalVisits  Total Time Spent on Website  \\\n",
       "count    9240.000000  9240.000000  9103.000000                  9240.000000   \n",
       "mean   617188.435606     0.385390     3.445238                   487.698268   \n",
       "std     23405.995698     0.486714     4.854853                   548.021466   \n",
       "min    579533.000000     0.000000     0.000000                     0.000000   \n",
       "25%    596484.500000     0.000000     1.000000                    12.000000   \n",
       "50%    615479.000000     0.000000     3.000000                   248.000000   \n",
       "75%    637387.250000     1.000000     5.000000                   936.000000   \n",
       "max    660737.000000     1.000000   251.000000                  2272.000000   \n",
       "\n",
       "       Page Views Per Visit  Asymmetrique Activity Score  \\\n",
       "count           9103.000000                  5022.000000   \n",
       "mean               2.362820                    14.306252   \n",
       "std                2.161418                     1.386694   \n",
       "min                0.000000                     7.000000   \n",
       "25%                1.000000                    14.000000   \n",
       "50%                2.000000                    14.000000   \n",
       "75%                3.000000                    15.000000   \n",
       "max               55.000000                    18.000000   \n",
       "\n",
       "       Asymmetrique Profile Score  \n",
       "count                 5022.000000  \n",
       "mean                    16.344883  \n",
       "std                      1.811395  \n",
       "min                     11.000000  \n",
       "25%                     15.000000  \n",
       "50%                     16.000000  \n",
       "75%                     18.000000  \n",
       "max                     20.000000  "
      ]
     },
     "execution_count": 8,
     "metadata": {},
     "output_type": "execute_result"
    }
   ],
   "source": [
    "df.describe()"
   ]
  },
  {
   "cell_type": "code",
   "execution_count": 9,
   "id": "ce1f17eb",
   "metadata": {},
   "outputs": [
    {
     "data": {
      "text/plain": [
       "(9240, 37)"
      ]
     },
     "execution_count": 9,
     "metadata": {},
     "output_type": "execute_result"
    }
   ],
   "source": [
    "#checking for duplicates\n",
    "dup = df.copy()\n",
    "dup.drop_duplicates(inplace = True)\n",
    "dup.shape"
   ]
  },
  {
   "cell_type": "markdown",
   "id": "f2bc76ae",
   "metadata": {},
   "source": [
    "Shape is unchanged - impying that there is no duplicates in the dataset"
   ]
  },
  {
   "cell_type": "markdown",
   "id": "33505553",
   "metadata": {},
   "source": [
    "# Step 3 : Handling missing values"
   ]
  },
  {
   "cell_type": "code",
   "execution_count": 10,
   "id": "081fca2e",
   "metadata": {},
   "outputs": [],
   "source": [
    "#Converting 'Select' values to NaN as customer has not selected the option.\n",
    "df = df.replace('Select',np.nan)"
   ]
  },
  {
   "cell_type": "code",
   "execution_count": 11,
   "id": "ce2b568e",
   "metadata": {},
   "outputs": [
    {
     "data": {
      "text/plain": [
       "Prospect ID                                       0.00\n",
       "Lead Number                                       0.00\n",
       "Lead Origin                                       0.00\n",
       "Lead Source                                       0.39\n",
       "Do Not Email                                      0.00\n",
       "Do Not Call                                       0.00\n",
       "Converted                                         0.00\n",
       "TotalVisits                                       1.48\n",
       "Total Time Spent on Website                       0.00\n",
       "Page Views Per Visit                              1.48\n",
       "Last Activity                                     1.11\n",
       "Country                                          26.63\n",
       "Specialization                                   36.58\n",
       "How did you hear about X Education               78.46\n",
       "What is your current occupation                  29.11\n",
       "What matters most to you in choosing a course    29.32\n",
       "Search                                            0.00\n",
       "Magazine                                          0.00\n",
       "Newspaper Article                                 0.00\n",
       "X Education Forums                                0.00\n",
       "Newspaper                                         0.00\n",
       "Digital Advertisement                             0.00\n",
       "Through Recommendations                           0.00\n",
       "Receive More Updates About Our Courses            0.00\n",
       "Tags                                             36.29\n",
       "Lead Quality                                     51.59\n",
       "Update me on Supply Chain Content                 0.00\n",
       "Get updates on DM Content                         0.00\n",
       "Lead Profile                                     74.19\n",
       "City                                             39.71\n",
       "Asymmetrique Activity Index                      45.65\n",
       "Asymmetrique Profile Index                       45.65\n",
       "Asymmetrique Activity Score                      45.65\n",
       "Asymmetrique Profile Score                       45.65\n",
       "I agree to pay the amount through cheque          0.00\n",
       "A free copy of Mastering The Interview            0.00\n",
       "Last Notable Activity                             0.00\n",
       "dtype: float64"
      ]
     },
     "execution_count": 11,
     "metadata": {},
     "output_type": "execute_result"
    }
   ],
   "source": [
    "# checking for missing values (percentage)\n",
    "round(100*df.isnull().sum()/df.shape[0],2)"
   ]
  },
  {
   "cell_type": "code",
   "execution_count": 12,
   "id": "be64311c",
   "metadata": {},
   "outputs": [],
   "source": [
    "# dropping columns with 45 or more than 45 missing value percentage.\n",
    "\n",
    "columns = df.columns #column names of df\n",
    "\n",
    "for i in columns:\n",
    "    if round(100*df[i].isnull().sum()/df.shape[0],2) >= 45:\n",
    "        df.drop(i,1,inplace = True)"
   ]
  },
  {
   "cell_type": "code",
   "execution_count": 13,
   "id": "8c7e9df2",
   "metadata": {},
   "outputs": [
    {
     "data": {
      "text/plain": [
       "(9240, 30)"
      ]
     },
     "execution_count": 13,
     "metadata": {},
     "output_type": "execute_result"
    }
   ],
   "source": [
    "df.shape  #7 columns have been dropped"
   ]
  },
  {
   "cell_type": "code",
   "execution_count": 14,
   "id": "4d4576ac",
   "metadata": {},
   "outputs": [
    {
     "data": {
      "text/plain": [
       "NaN                            3669\n",
       "Mumbai                         3222\n",
       "Thane & Outskirts               752\n",
       "Other Cities                    686\n",
       "Other Cities of Maharashtra     457\n",
       "Other Metro Cities              380\n",
       "Tier II Cities                   74\n",
       "Name: City, dtype: int64"
      ]
     },
     "execution_count": 14,
     "metadata": {},
     "output_type": "execute_result"
    }
   ],
   "source": [
    "# city\n",
    "#lets have a look at the entries of column city as it has the highest missing value percentage \n",
    "df.City.value_counts(dropna=False)"
   ]
  },
  {
   "cell_type": "markdown",
   "id": "757fbb03",
   "metadata": {},
   "source": [
    "- Since the count of missing values is higher than the mode (Mumbai) we do not want to impute the missing values with mode. So  dropping this column from df"
   ]
  },
  {
   "cell_type": "code",
   "execution_count": 15,
   "id": "e06cb258",
   "metadata": {},
   "outputs": [],
   "source": [
    "df.drop('City',1,inplace = True)"
   ]
  },
  {
   "cell_type": "code",
   "execution_count": 16,
   "id": "97e7e6ce",
   "metadata": {},
   "outputs": [
    {
     "data": {
      "text/plain": [
       "NaN                                  3380\n",
       "Finance Management                    976\n",
       "Human Resource Management             848\n",
       "Marketing Management                  838\n",
       "Operations Management                 503\n",
       "Business Administration               403\n",
       "IT Projects Management                366\n",
       "Supply Chain Management               349\n",
       "Banking, Investment And Insurance     338\n",
       "Travel and Tourism                    203\n",
       "Media and Advertising                 203\n",
       "International Business                178\n",
       "Healthcare Management                 159\n",
       "Hospitality Management                114\n",
       "E-COMMERCE                            112\n",
       "Retail Management                     100\n",
       "Rural and Agribusiness                 73\n",
       "E-Business                             57\n",
       "Services Excellence                    40\n",
       "Name: Specialization, dtype: int64"
      ]
     },
     "execution_count": 16,
     "metadata": {},
     "output_type": "execute_result"
    }
   ],
   "source": [
    "# specialization\n",
    "# checking the entries in specialization column\n",
    "df.Specialization.value_counts(dropna=False)"
   ]
  },
  {
   "cell_type": "markdown",
   "id": "0cccf405",
   "metadata": {},
   "source": [
    "- Here also the missing value count is higher than the mode(Finance Management ), So we do not want to impute the missing values with mode. Since we think this is a relevant column, we do not want to drop this column either. So we will replace the missing values as 'Not mentioned'.\n"
   ]
  },
  {
   "cell_type": "code",
   "execution_count": 17,
   "id": "745bd642",
   "metadata": {},
   "outputs": [],
   "source": [
    "df.Specialization = df.Specialization.replace(np.nan,'Not mentioned')"
   ]
  },
  {
   "cell_type": "code",
   "execution_count": 18,
   "id": "454aceb5",
   "metadata": {},
   "outputs": [
    {
     "data": {
      "text/plain": [
       "NaN                                                  3353\n",
       "Will revert after reading the email                  2072\n",
       "Ringing                                              1203\n",
       "Interested in other courses                           513\n",
       "Already a student                                     465\n",
       "Closed by Horizzon                                    358\n",
       "switched off                                          240\n",
       "Busy                                                  186\n",
       "Lost to EINS                                          175\n",
       "Not doing further education                           145\n",
       "Interested  in full time MBA                          117\n",
       "Graduation in progress                                111\n",
       "invalid number                                         83\n",
       "Diploma holder (Not Eligible)                          63\n",
       "wrong number given                                     47\n",
       "opp hangup                                             33\n",
       "number not provided                                    27\n",
       "in touch with EINS                                     12\n",
       "Lost to Others                                          7\n",
       "Still Thinking                                          6\n",
       "Want to take admission but has financial problems       6\n",
       "In confusion whether part time or DLP                   5\n",
       "Interested in Next batch                                5\n",
       "Lateral student                                         3\n",
       "Shall take in the next coming month                     2\n",
       "University not recognized                               2\n",
       "Recognition issue (DEC approval)                        1\n",
       "Name: Tags, dtype: int64"
      ]
     },
     "execution_count": 18,
     "metadata": {},
     "output_type": "execute_result"
    }
   ],
   "source": [
    "# tags\n",
    "# let's check the entries in tags\n",
    "df.Tags.value_counts(dropna=False)"
   ]
  },
  {
   "cell_type": "code",
   "execution_count": 19,
   "id": "566dbaa8",
   "metadata": {},
   "outputs": [],
   "source": [
    "# replacing np.nan with 'Not specified'\n",
    "df.Tags = df.Tags.replace(np.nan, 'Not specified')"
   ]
  },
  {
   "cell_type": "code",
   "execution_count": 20,
   "id": "77f6030b",
   "metadata": {},
   "outputs": [],
   "source": [
    "# grouping categories having less than 100 counts to remove the bias while building the model\n",
    "df.Tags = df.Tags.replace(['invalid number','Diploma holder (Not Eligible)',\n",
    "                           'wrong number given','opp hangup','number not provided',\n",
    "                           'in touch with EINS','Lost to Others','Still Thinking',\n",
    "                           'Want to take admission but has financial problems',\n",
    "                           'In confusion whether part time or DLP','Interested in Next batch',\n",
    "                           'Lateral student','Shall take in the next coming month',\n",
    "                           'University not recognized','Recognition issue (DEC approval)'],'Others')"
   ]
  },
  {
   "cell_type": "code",
   "execution_count": 21,
   "id": "02f8df9f",
   "metadata": {},
   "outputs": [
    {
     "data": {
      "text/plain": [
       "Better Career Prospects      6528\n",
       "NaN                          2709\n",
       "Flexibility & Convenience       2\n",
       "Other                           1\n",
       "Name: What matters most to you in choosing a course, dtype: int64"
      ]
     },
     "execution_count": 21,
     "metadata": {},
     "output_type": "execute_result"
    }
   ],
   "source": [
    "#  'What matters most to you in choosing a course '\n",
    "df['What matters most to you in choosing a course'].value_counts(dropna=False)"
   ]
  },
  {
   "cell_type": "markdown",
   "id": "9c496bdb",
   "metadata": {},
   "source": [
    "- Since we have very high number of missing values and  there are only 3 customers  who have chosen categories other than 'Better Career Prospects',  let's remove this column"
   ]
  },
  {
   "cell_type": "code",
   "execution_count": 22,
   "id": "6e91ec5a",
   "metadata": {},
   "outputs": [],
   "source": [
    "df.drop('What matters most to you in choosing a course',axis = 1, inplace = True)"
   ]
  },
  {
   "cell_type": "code",
   "execution_count": 23,
   "id": "c904b2d4",
   "metadata": {},
   "outputs": [
    {
     "data": {
      "text/plain": [
       "(9240, 28)"
      ]
     },
     "execution_count": 23,
     "metadata": {},
     "output_type": "execute_result"
    }
   ],
   "source": [
    "df.shape"
   ]
  },
  {
   "cell_type": "code",
   "execution_count": 24,
   "id": "c263a40f",
   "metadata": {},
   "outputs": [
    {
     "data": {
      "text/plain": [
       "Unemployed              5600\n",
       "NaN                     2690\n",
       "Working Professional     706\n",
       "Student                  210\n",
       "Other                     16\n",
       "Housewife                 10\n",
       "Businessman                8\n",
       "Name: What is your current occupation, dtype: int64"
      ]
     },
     "execution_count": 24,
     "metadata": {},
     "output_type": "execute_result"
    }
   ],
   "source": [
    "# checking entries in 'What is your current occupation' column\n",
    "df['What is your current occupation'].value_counts(dropna = False)"
   ]
  },
  {
   "cell_type": "code",
   "execution_count": 25,
   "id": "22b28688",
   "metadata": {},
   "outputs": [],
   "source": [
    "# replacing the missing values with 'Not mentioned'\n",
    "df['What is your current occupation'] = df['What is your current occupation'].replace(np.nan,'Not mentioned')"
   ]
  },
  {
   "cell_type": "code",
   "execution_count": 26,
   "id": "2183b5f1",
   "metadata": {},
   "outputs": [],
   "source": [
    "# Since the number of Housewives and Businessmen are very low, let's combine them with 'Other'\n",
    "df['What is your current occupation'] = df['What is your current occupation'].replace(['Businessman',\n",
    "                                                                                      'Housewife'],'Other') "
   ]
  },
  {
   "cell_type": "code",
   "execution_count": 27,
   "id": "3738f2e6",
   "metadata": {},
   "outputs": [
    {
     "data": {
      "text/plain": [
       "India                   6492\n",
       "NaN                     2461\n",
       "United States             69\n",
       "United Arab Emirates      53\n",
       "Singapore                 24\n",
       "Saudi Arabia              21\n",
       "United Kingdom            15\n",
       "Australia                 13\n",
       "Qatar                     10\n",
       "Bahrain                    7\n",
       "Hong Kong                  7\n",
       "Oman                       6\n",
       "France                     6\n",
       "unknown                    5\n",
       "Kuwait                     4\n",
       "South Africa               4\n",
       "Canada                     4\n",
       "Nigeria                    4\n",
       "Germany                    4\n",
       "Sweden                     3\n",
       "Philippines                2\n",
       "Uganda                     2\n",
       "Italy                      2\n",
       "Bangladesh                 2\n",
       "Netherlands                2\n",
       "Asia/Pacific Region        2\n",
       "China                      2\n",
       "Belgium                    2\n",
       "Ghana                      2\n",
       "Kenya                      1\n",
       "Sri Lanka                  1\n",
       "Tanzania                   1\n",
       "Malaysia                   1\n",
       "Liberia                    1\n",
       "Switzerland                1\n",
       "Denmark                    1\n",
       "Russia                     1\n",
       "Vietnam                    1\n",
       "Indonesia                  1\n",
       "Name: Country, dtype: int64"
      ]
     },
     "execution_count": 27,
     "metadata": {},
     "output_type": "execute_result"
    }
   ],
   "source": [
    "# checking the entries in 'country' column\n",
    "df.Country.value_counts(dropna=False)"
   ]
  },
  {
   "cell_type": "code",
   "execution_count": 28,
   "id": "8bec2cc8",
   "metadata": {},
   "outputs": [
    {
     "data": {
      "text/plain": [
       "India                   0.702597\n",
       "NaN                     0.266342\n",
       "United States           0.007468\n",
       "United Arab Emirates    0.005736\n",
       "Singapore               0.002597\n",
       "Saudi Arabia            0.002273\n",
       "United Kingdom          0.001623\n",
       "Australia               0.001407\n",
       "Qatar                   0.001082\n",
       "Bahrain                 0.000758\n",
       "Hong Kong               0.000758\n",
       "Oman                    0.000649\n",
       "France                  0.000649\n",
       "unknown                 0.000541\n",
       "Kuwait                  0.000433\n",
       "South Africa            0.000433\n",
       "Canada                  0.000433\n",
       "Nigeria                 0.000433\n",
       "Germany                 0.000433\n",
       "Sweden                  0.000325\n",
       "Philippines             0.000216\n",
       "Uganda                  0.000216\n",
       "Italy                   0.000216\n",
       "Bangladesh              0.000216\n",
       "Netherlands             0.000216\n",
       "Asia/Pacific Region     0.000216\n",
       "China                   0.000216\n",
       "Belgium                 0.000216\n",
       "Ghana                   0.000216\n",
       "Kenya                   0.000108\n",
       "Sri Lanka               0.000108\n",
       "Tanzania                0.000108\n",
       "Malaysia                0.000108\n",
       "Liberia                 0.000108\n",
       "Switzerland             0.000108\n",
       "Denmark                 0.000108\n",
       "Russia                  0.000108\n",
       "Vietnam                 0.000108\n",
       "Indonesia               0.000108\n",
       "Name: Country, dtype: float64"
      ]
     },
     "execution_count": 28,
     "metadata": {},
     "output_type": "execute_result"
    }
   ],
   "source": [
    "#let's have a look at the proportion of each country in the column 'Country'\n",
    "df.Country.value_counts(dropna=False,normalize = True)"
   ]
  },
  {
   "cell_type": "markdown",
   "id": "44e33bf1",
   "metadata": {},
   "source": [
    "- Since more than 96% of the customers are either from India or have not mentioned their country, this column is of not much use.So let's drop this column"
   ]
  },
  {
   "cell_type": "code",
   "execution_count": 29,
   "id": "6a1646cc",
   "metadata": {},
   "outputs": [
    {
     "data": {
      "text/plain": [
       "(9240, 27)"
      ]
     },
     "execution_count": 29,
     "metadata": {},
     "output_type": "execute_result"
    }
   ],
   "source": [
    "df.drop('Country',1,inplace = True)\n",
    "df.shape"
   ]
  },
  {
   "cell_type": "code",
   "execution_count": 30,
   "id": "02e3b69f",
   "metadata": {},
   "outputs": [
    {
     "data": {
      "text/plain": [
       "count    9103.000000\n",
       "mean        3.445238\n",
       "std         4.854853\n",
       "min         0.000000\n",
       "25%         1.000000\n",
       "50%         3.000000\n",
       "75%         5.000000\n",
       "max       251.000000\n",
       "Name: TotalVisits, dtype: float64"
      ]
     },
     "execution_count": 30,
     "metadata": {},
     "output_type": "execute_result"
    }
   ],
   "source": [
    "# describing 'TotalVisits' column\n",
    "df.TotalVisits.describe()"
   ]
  },
  {
   "cell_type": "markdown",
   "id": "5fbf16be",
   "metadata": {},
   "source": [
    "- Here the mean and median of Totalvisits are nearly same\n",
    "- so we can assume that it follows a normal curve and impute the missing values with mean\n",
    "- But here the totalvisits is a count and it has to be a natural number, so imputting the missing value with median"
   ]
  },
  {
   "cell_type": "code",
   "execution_count": 31,
   "id": "4ee956fb",
   "metadata": {},
   "outputs": [],
   "source": [
    "df.TotalVisits = df.TotalVisits.replace(np.nan, df.TotalVisits.median())"
   ]
  },
  {
   "cell_type": "code",
   "execution_count": 32,
   "id": "f7817638",
   "metadata": {
    "scrolled": true
   },
   "outputs": [
    {
     "data": {
      "text/plain": [
       "count    9103.000000\n",
       "mean        2.362820\n",
       "std         2.161418\n",
       "min         0.000000\n",
       "25%         1.000000\n",
       "50%         2.000000\n",
       "75%         3.000000\n",
       "max        55.000000\n",
       "Name: Page Views Per Visit, dtype: float64"
      ]
     },
     "execution_count": 32,
     "metadata": {},
     "output_type": "execute_result"
    }
   ],
   "source": [
    "# describing 'Page Views Per Visit'\n",
    "df['Page Views Per Visit'].describe()"
   ]
  },
  {
   "cell_type": "code",
   "execution_count": 33,
   "id": "72fa6a6a",
   "metadata": {},
   "outputs": [
    {
     "data": {
      "text/plain": [
       "9.0"
      ]
     },
     "execution_count": 33,
     "metadata": {},
     "output_type": "execute_result"
    }
   ],
   "source": [
    "df['Page Views Per Visit'].quantile(.99)"
   ]
  },
  {
   "cell_type": "markdown",
   "id": "721c2a56",
   "metadata": {},
   "source": [
    "- Mean and median are very close \n",
    "- But there is a huge gap between 99th percentile and maximum value indicating presence of outliers \n",
    "- So imputing the missing values with median"
   ]
  },
  {
   "cell_type": "code",
   "execution_count": 34,
   "id": "7b182bb6",
   "metadata": {},
   "outputs": [],
   "source": [
    "df['Page Views Per Visit'] = df['Page Views Per Visit'].replace(np.nan,df['Page Views Per Visit'].median())"
   ]
  },
  {
   "cell_type": "code",
   "execution_count": 35,
   "id": "ecb42571",
   "metadata": {},
   "outputs": [
    {
     "data": {
      "text/plain": [
       "Email Opened                    3437\n",
       "SMS Sent                        2745\n",
       "Olark Chat Conversation          973\n",
       "Page Visited on Website          640\n",
       "Converted to Lead                428\n",
       "Email Bounced                    326\n",
       "Email Link Clicked               267\n",
       "Form Submitted on Website        116\n",
       "NaN                              103\n",
       "Unreachable                       93\n",
       "Unsubscribed                      61\n",
       "Had a Phone Conversation          30\n",
       "Approached upfront                 9\n",
       "View in browser link Clicked       6\n",
       "Email Received                     2\n",
       "Email Marked Spam                  2\n",
       "Visited Booth in Tradeshow         1\n",
       "Resubscribed to emails             1\n",
       "Name: Last Activity, dtype: int64"
      ]
     },
     "execution_count": 35,
     "metadata": {},
     "output_type": "execute_result"
    }
   ],
   "source": [
    "# checking the entries in 'Last Activity' column\n",
    "df['Last Activity'].value_counts(dropna=False)"
   ]
  },
  {
   "cell_type": "markdown",
   "id": "10183cbf",
   "metadata": {},
   "source": [
    "- Let's replace the NaN values with mode 'Email Opened'\n",
    "- Grouping categories with less than 100 count"
   ]
  },
  {
   "cell_type": "code",
   "execution_count": 36,
   "id": "3ac1d6d6",
   "metadata": {},
   "outputs": [],
   "source": [
    "df['Last Activity'] = df['Last Activity'].replace(np.nan, 'Email Opened')"
   ]
  },
  {
   "cell_type": "code",
   "execution_count": 37,
   "id": "9885e07a",
   "metadata": {},
   "outputs": [],
   "source": [
    "df['Last Activity'] = df['Last Activity'].replace(['Unreachable','Unsubscribed','Had a Phone Conversation',\n",
    "                                                  'Approached upfront','View in browser link Clicked',\n",
    "                                                  'Email Received','Email Marked Spam','Visited Booth in Tradeshow',\n",
    "                                                  'Resubscribed to emails'],'Others')"
   ]
  },
  {
   "cell_type": "code",
   "execution_count": 38,
   "id": "c730f798",
   "metadata": {},
   "outputs": [
    {
     "data": {
      "text/plain": [
       "Google               2868\n",
       "Direct Traffic       2543\n",
       "Olark Chat           1755\n",
       "Organic Search       1154\n",
       "Reference             534\n",
       "Welingak Website      142\n",
       "Referral Sites        125\n",
       "Facebook               55\n",
       "NaN                    36\n",
       "bing                    6\n",
       "google                  5\n",
       "Click2call              4\n",
       "Press_Release           2\n",
       "Social Media            2\n",
       "Live Chat               2\n",
       "youtubechannel          1\n",
       "testone                 1\n",
       "Pay per Click Ads       1\n",
       "welearnblog_Home        1\n",
       "WeLearn                 1\n",
       "blog                    1\n",
       "NC_EDM                  1\n",
       "Name: Lead Source, dtype: int64"
      ]
     },
     "execution_count": 38,
     "metadata": {},
     "output_type": "execute_result"
    }
   ],
   "source": [
    "# checking entries in 'Lead Source' column\n",
    "df['Lead Source'].value_counts(dropna=False)"
   ]
  },
  {
   "cell_type": "markdown",
   "id": "62a85001",
   "metadata": {},
   "source": [
    "- Replacing NaN values with mode 'Google'\n",
    "- Replacing 'google' with 'Google'\n",
    "- Grouping categories with less than 100 counts to 'Others'"
   ]
  },
  {
   "cell_type": "code",
   "execution_count": 39,
   "id": "4d314d97",
   "metadata": {},
   "outputs": [],
   "source": [
    "df['Lead Source'] = df['Lead Source'].replace([np.nan,'google'],'Google')"
   ]
  },
  {
   "cell_type": "code",
   "execution_count": 40,
   "id": "6d35b2fd",
   "metadata": {},
   "outputs": [],
   "source": [
    "df['Lead Source'] = df['Lead Source'].replace(['Facebook','bing','Click2call','Press_Release',\n",
    "                                               'Social Media','Live Chat','youtubechannel','testone',\n",
    "                                              'Pay per Click Ads','welearnblog_Home','WeLearn','blog',\n",
    "                                              'NC_EDM'], 'Others')"
   ]
  },
  {
   "cell_type": "code",
   "execution_count": 41,
   "id": "01e050c0",
   "metadata": {},
   "outputs": [
    {
     "data": {
      "text/plain": [
       "Prospect ID                                 0\n",
       "Lead Number                                 0\n",
       "Lead Origin                                 0\n",
       "Lead Source                                 0\n",
       "Do Not Email                                0\n",
       "Do Not Call                                 0\n",
       "Converted                                   0\n",
       "TotalVisits                                 0\n",
       "Total Time Spent on Website                 0\n",
       "Page Views Per Visit                        0\n",
       "Last Activity                               0\n",
       "Specialization                              0\n",
       "What is your current occupation             0\n",
       "Search                                      0\n",
       "Magazine                                    0\n",
       "Newspaper Article                           0\n",
       "X Education Forums                          0\n",
       "Newspaper                                   0\n",
       "Digital Advertisement                       0\n",
       "Through Recommendations                     0\n",
       "Receive More Updates About Our Courses      0\n",
       "Tags                                        0\n",
       "Update me on Supply Chain Content           0\n",
       "Get updates on DM Content                   0\n",
       "I agree to pay the amount through cheque    0\n",
       "A free copy of Mastering The Interview      0\n",
       "Last Notable Activity                       0\n",
       "dtype: int64"
      ]
     },
     "execution_count": 41,
     "metadata": {},
     "output_type": "execute_result"
    }
   ],
   "source": [
    "#missing values\n",
    "df.isnull().sum()"
   ]
  },
  {
   "cell_type": "markdown",
   "id": "c3afad17",
   "metadata": {},
   "source": [
    "- All the missing values in the dataframe have been taken care of"
   ]
  },
  {
   "cell_type": "markdown",
   "id": "b96b328c",
   "metadata": {},
   "source": [
    "# Step 4:  Data Preparation"
   ]
  },
  {
   "cell_type": "code",
   "execution_count": 42,
   "id": "0f237608",
   "metadata": {},
   "outputs": [
    {
     "data": {
      "text/plain": [
       "Index(['Prospect ID', 'Lead Number', 'Lead Origin', 'Lead Source',\n",
       "       'Do Not Email', 'Do Not Call', 'Converted', 'TotalVisits',\n",
       "       'Total Time Spent on Website', 'Page Views Per Visit', 'Last Activity',\n",
       "       'Specialization', 'What is your current occupation', 'Search',\n",
       "       'Magazine', 'Newspaper Article', 'X Education Forums', 'Newspaper',\n",
       "       'Digital Advertisement', 'Through Recommendations',\n",
       "       'Receive More Updates About Our Courses', 'Tags',\n",
       "       'Update me on Supply Chain Content', 'Get updates on DM Content',\n",
       "       'I agree to pay the amount through cheque',\n",
       "       'A free copy of Mastering The Interview', 'Last Notable Activity'],\n",
       "      dtype='object')"
      ]
     },
     "execution_count": 42,
     "metadata": {},
     "output_type": "execute_result"
    }
   ],
   "source": [
    "# Columns in our dataframe df\n",
    "df.columns"
   ]
  },
  {
   "cell_type": "markdown",
   "id": "67d81c58",
   "metadata": {},
   "source": [
    "-  we can drop 'Prospect ID' and 'Lead Number' as we do not fit these on the model"
   ]
  },
  {
   "cell_type": "code",
   "execution_count": 43,
   "id": "b7ae0d41",
   "metadata": {},
   "outputs": [],
   "source": [
    "df.drop(['Prospect ID', 'Lead Number'],1,inplace = True)"
   ]
  },
  {
   "cell_type": "code",
   "execution_count": 44,
   "id": "eb3524bc",
   "metadata": {},
   "outputs": [],
   "source": [
    "# creating an empty list to add all the column names which needs to dropped from the dataframe\n",
    "columns_to_drop = []"
   ]
  },
  {
   "cell_type": "markdown",
   "id": "359d36b7",
   "metadata": {},
   "source": [
    "#### Let's go through each column one by one to check if any of them needs to be dropped/modified"
   ]
  },
  {
   "cell_type": "code",
   "execution_count": 45,
   "id": "c30fcb70",
   "metadata": {},
   "outputs": [
    {
     "data": {
      "text/plain": [
       "No     8506\n",
       "Yes     734\n",
       "Name: Do Not Email, dtype: int64"
      ]
     },
     "execution_count": 45,
     "metadata": {},
     "output_type": "execute_result"
    }
   ],
   "source": [
    "# column -'Do Not Email'\n",
    "df['Do Not Email'].value_counts()"
   ]
  },
  {
   "cell_type": "code",
   "execution_count": 46,
   "id": "99e48b7d",
   "metadata": {},
   "outputs": [
    {
     "data": {
      "text/plain": [
       "No     9238\n",
       "Yes       2\n",
       "Name: Do Not Call, dtype: int64"
      ]
     },
     "execution_count": 46,
     "metadata": {},
     "output_type": "execute_result"
    }
   ],
   "source": [
    "# column- 'Do Not Call'\n",
    "df['Do Not Call'].value_counts() "
   ]
  },
  {
   "cell_type": "markdown",
   "id": "53497e7b",
   "metadata": {},
   "source": [
    "- adding 'Do Not Call' to columns_to_drop since almost every customer selected 'No'"
   ]
  },
  {
   "cell_type": "code",
   "execution_count": 47,
   "id": "09ea8c77",
   "metadata": {},
   "outputs": [],
   "source": [
    "columns_to_drop.append('Do Not Call')"
   ]
  },
  {
   "cell_type": "code",
   "execution_count": 48,
   "id": "873b86ad",
   "metadata": {},
   "outputs": [
    {
     "data": {
      "text/plain": [
       "Email Opened                 3540\n",
       "SMS Sent                     2745\n",
       "Olark Chat Conversation       973\n",
       "Page Visited on Website       640\n",
       "Converted to Lead             428\n",
       "Email Bounced                 326\n",
       "Email Link Clicked            267\n",
       "Others                        205\n",
       "Form Submitted on Website     116\n",
       "Name: Last Activity, dtype: int64"
      ]
     },
     "execution_count": 48,
     "metadata": {},
     "output_type": "execute_result"
    }
   ],
   "source": [
    "# column - 'Last Activity'\n",
    "df['Last Activity'].value_counts()"
   ]
  },
  {
   "cell_type": "code",
   "execution_count": 49,
   "id": "72eabbab",
   "metadata": {
    "scrolled": true
   },
   "outputs": [
    {
     "data": {
      "text/plain": [
       "Not mentioned                        3380\n",
       "Finance Management                    976\n",
       "Human Resource Management             848\n",
       "Marketing Management                  838\n",
       "Operations Management                 503\n",
       "Business Administration               403\n",
       "IT Projects Management                366\n",
       "Supply Chain Management               349\n",
       "Banking, Investment And Insurance     338\n",
       "Travel and Tourism                    203\n",
       "Media and Advertising                 203\n",
       "International Business                178\n",
       "Healthcare Management                 159\n",
       "Hospitality Management                114\n",
       "E-COMMERCE                            112\n",
       "Retail Management                     100\n",
       "Rural and Agribusiness                 73\n",
       "E-Business                             57\n",
       "Services Excellence                    40\n",
       "Name: Specialization, dtype: int64"
      ]
     },
     "execution_count": 49,
     "metadata": {},
     "output_type": "execute_result"
    }
   ],
   "source": [
    "# # column - 'Specialization'\n",
    "df['Specialization'].value_counts()"
   ]
  },
  {
   "cell_type": "code",
   "execution_count": 50,
   "id": "2de1bc25",
   "metadata": {},
   "outputs": [],
   "source": [
    "# let's group all the Management specializations and Business specializations to Management and Business domains respectively\n",
    "df['Specialization'] = df['Specialization'].replace(['Finance Management', 'Human Resource Management',\n",
    "                                                          'Marketing Management', 'Operations Management',\n",
    "                                                          'IT Projects Management', 'Supply Chain Management',\n",
    "                                                          'Healthcare Management', 'Hospitality Management',\n",
    "                                                          'Retail Management'], 'Management Specializations')\n",
    "# Business Specialization\n",
    "df['Specialization'] = df['Specialization'].replace(['International Business', 'Rural and Agribusiness',\n",
    "                                                          'E-Business'], 'Business Specializations')"
   ]
  },
  {
   "cell_type": "code",
   "execution_count": 51,
   "id": "b49600f0",
   "metadata": {},
   "outputs": [
    {
     "data": {
      "text/plain": [
       "Unemployed              5600\n",
       "Not mentioned           2690\n",
       "Working Professional     706\n",
       "Student                  210\n",
       "Other                     34\n",
       "Name: What is your current occupation, dtype: int64"
      ]
     },
     "execution_count": 51,
     "metadata": {},
     "output_type": "execute_result"
    }
   ],
   "source": [
    "# column - 'What is your current occupation'\n",
    "df['What is your current occupation'].value_counts()"
   ]
  },
  {
   "cell_type": "code",
   "execution_count": 52,
   "id": "760bbb9c",
   "metadata": {},
   "outputs": [
    {
     "data": {
      "text/plain": [
       "No     9226\n",
       "Yes      14\n",
       "Name: Search, dtype: int64"
      ]
     },
     "execution_count": 52,
     "metadata": {},
     "output_type": "execute_result"
    }
   ],
   "source": [
    "# column - 'Search'\n",
    "df.Search.value_counts() "
   ]
  },
  {
   "cell_type": "code",
   "execution_count": 53,
   "id": "41922b46",
   "metadata": {},
   "outputs": [
    {
     "data": {
      "text/plain": [
       "['Do Not Call', 'Search']"
      ]
     },
     "execution_count": 53,
     "metadata": {},
     "output_type": "execute_result"
    }
   ],
   "source": [
    "# adding 'Search' to columns_to_drop since almost every customer selected 'No'\n",
    "columns_to_drop.append('Search')\n",
    "columns_to_drop"
   ]
  },
  {
   "cell_type": "code",
   "execution_count": 54,
   "id": "c35ba52e",
   "metadata": {},
   "outputs": [
    {
     "data": {
      "text/plain": [
       "No    9240\n",
       "Name: Magazine, dtype: int64"
      ]
     },
     "execution_count": 54,
     "metadata": {},
     "output_type": "execute_result"
    }
   ],
   "source": [
    "# column - Magazine\n",
    "df.Magazine.value_counts()"
   ]
  },
  {
   "cell_type": "code",
   "execution_count": 55,
   "id": "03f12143",
   "metadata": {},
   "outputs": [
    {
     "data": {
      "text/plain": [
       "['Do Not Call', 'Search', 'Magazine']"
      ]
     },
     "execution_count": 55,
     "metadata": {},
     "output_type": "execute_result"
    }
   ],
   "source": [
    "# adding 'Magazine' to columns_to_drop since every customer selected 'No'\n",
    "columns_to_drop.append('Magazine')\n",
    "columns_to_drop"
   ]
  },
  {
   "cell_type": "code",
   "execution_count": 56,
   "id": "9e5b48fc",
   "metadata": {},
   "outputs": [
    {
     "data": {
      "text/plain": [
       "No     9238\n",
       "Yes       2\n",
       "Name: Newspaper Article, dtype: int64"
      ]
     },
     "execution_count": 56,
     "metadata": {},
     "output_type": "execute_result"
    }
   ],
   "source": [
    "# column - 'Newspaper Article'\n",
    "df['Newspaper Article'].value_counts()"
   ]
  },
  {
   "cell_type": "code",
   "execution_count": 57,
   "id": "e175889a",
   "metadata": {},
   "outputs": [
    {
     "data": {
      "text/plain": [
       "['Do Not Call', 'Search', 'Magazine', 'Newspaper Article']"
      ]
     },
     "execution_count": 57,
     "metadata": {},
     "output_type": "execute_result"
    }
   ],
   "source": [
    "# adding 'Newspaper Article' to columns_to_drop since almost every customer selected 'No'\n",
    "columns_to_drop.append('Newspaper Article')\n",
    "columns_to_drop"
   ]
  },
  {
   "cell_type": "code",
   "execution_count": 58,
   "id": "a8d3242b",
   "metadata": {},
   "outputs": [
    {
     "data": {
      "text/plain": [
       "No     9239\n",
       "Yes       1\n",
       "Name: X Education Forums, dtype: int64"
      ]
     },
     "execution_count": 58,
     "metadata": {},
     "output_type": "execute_result"
    }
   ],
   "source": [
    "# column - 'X Education Forums'\n",
    "df['X Education Forums'].value_counts()"
   ]
  },
  {
   "cell_type": "code",
   "execution_count": 59,
   "id": "4e14b9b3",
   "metadata": {},
   "outputs": [
    {
     "data": {
      "text/plain": [
       "['Do Not Call',\n",
       " 'Search',\n",
       " 'Magazine',\n",
       " 'Newspaper Article',\n",
       " 'X Education Forums']"
      ]
     },
     "execution_count": 59,
     "metadata": {},
     "output_type": "execute_result"
    }
   ],
   "source": [
    "# adding 'X Education Forums' to columns_to_drop since almost every customer selected 'No'\n",
    "columns_to_drop.append('X Education Forums')\n",
    "columns_to_drop"
   ]
  },
  {
   "cell_type": "code",
   "execution_count": 60,
   "id": "680686dd",
   "metadata": {},
   "outputs": [
    {
     "data": {
      "text/plain": [
       "No     9239\n",
       "Yes       1\n",
       "Name: Newspaper, dtype: int64"
      ]
     },
     "execution_count": 60,
     "metadata": {},
     "output_type": "execute_result"
    }
   ],
   "source": [
    "# column - 'Newspaper'\n",
    "df.Newspaper.value_counts()"
   ]
  },
  {
   "cell_type": "code",
   "execution_count": 61,
   "id": "e28fbb65",
   "metadata": {},
   "outputs": [
    {
     "data": {
      "text/plain": [
       "['Do Not Call',\n",
       " 'Search',\n",
       " 'Magazine',\n",
       " 'Newspaper Article',\n",
       " 'X Education Forums',\n",
       " 'Newspaper']"
      ]
     },
     "execution_count": 61,
     "metadata": {},
     "output_type": "execute_result"
    }
   ],
   "source": [
    "# adding 'Newspaper' to columns_to_drop since almost every customer selected 'No'\n",
    "columns_to_drop.append('Newspaper')\n",
    "columns_to_drop"
   ]
  },
  {
   "cell_type": "code",
   "execution_count": 62,
   "id": "b97df7b1",
   "metadata": {},
   "outputs": [
    {
     "data": {
      "text/plain": [
       "No     9236\n",
       "Yes       4\n",
       "Name: Digital Advertisement, dtype: int64"
      ]
     },
     "execution_count": 62,
     "metadata": {},
     "output_type": "execute_result"
    }
   ],
   "source": [
    "# column - 'Digital Advertisement'\n",
    "df['Digital Advertisement'].value_counts()"
   ]
  },
  {
   "cell_type": "code",
   "execution_count": 63,
   "id": "3f416564",
   "metadata": {},
   "outputs": [
    {
     "data": {
      "text/plain": [
       "['Do Not Call',\n",
       " 'Search',\n",
       " 'Magazine',\n",
       " 'Newspaper Article',\n",
       " 'X Education Forums',\n",
       " 'Newspaper',\n",
       " 'Digital Advertisement']"
      ]
     },
     "execution_count": 63,
     "metadata": {},
     "output_type": "execute_result"
    }
   ],
   "source": [
    "# adding 'Digital Advertisement' to columns_to_drop since almost every customer selected 'No'\n",
    "columns_to_drop.append('Digital Advertisement')\n",
    "columns_to_drop"
   ]
  },
  {
   "cell_type": "code",
   "execution_count": 64,
   "id": "1fc34671",
   "metadata": {},
   "outputs": [
    {
     "data": {
      "text/plain": [
       "No     9233\n",
       "Yes       7\n",
       "Name: Through Recommendations, dtype: int64"
      ]
     },
     "execution_count": 64,
     "metadata": {},
     "output_type": "execute_result"
    }
   ],
   "source": [
    "# column - 'Through Recommendations'\n",
    "df['Through Recommendations'].value_counts()"
   ]
  },
  {
   "cell_type": "code",
   "execution_count": 65,
   "id": "2f9765ac",
   "metadata": {
    "scrolled": true
   },
   "outputs": [
    {
     "data": {
      "text/plain": [
       "['Do Not Call',\n",
       " 'Search',\n",
       " 'Magazine',\n",
       " 'Newspaper Article',\n",
       " 'X Education Forums',\n",
       " 'Newspaper',\n",
       " 'Digital Advertisement',\n",
       " 'Through Recommendations']"
      ]
     },
     "execution_count": 65,
     "metadata": {},
     "output_type": "execute_result"
    }
   ],
   "source": [
    "# adding 'Through Recommendations' to columns_to_drop since almost every customer selected 'No'\n",
    "columns_to_drop.append('Through Recommendations')\n",
    "columns_to_drop"
   ]
  },
  {
   "cell_type": "code",
   "execution_count": 66,
   "id": "546f103d",
   "metadata": {},
   "outputs": [
    {
     "data": {
      "text/plain": [
       "No    9240\n",
       "Name: Receive More Updates About Our Courses, dtype: int64"
      ]
     },
     "execution_count": 66,
     "metadata": {},
     "output_type": "execute_result"
    }
   ],
   "source": [
    "# column - 'Receive More Updates About Our Courses'\n",
    "df['Receive More Updates About Our Courses'].value_counts()"
   ]
  },
  {
   "cell_type": "code",
   "execution_count": 67,
   "id": "63edf051",
   "metadata": {},
   "outputs": [],
   "source": [
    "# adding 'Receive More Updates About Our Courses' to columns_to_drop since  every customer selected 'No'\n",
    "columns_to_drop.append('Receive More Updates About Our Courses')"
   ]
  },
  {
   "cell_type": "code",
   "execution_count": 68,
   "id": "18944fa5",
   "metadata": {},
   "outputs": [
    {
     "data": {
      "text/plain": [
       "Not specified                          3353\n",
       "Will revert after reading the email    2072\n",
       "Ringing                                1203\n",
       "Interested in other courses             513\n",
       "Already a student                       465\n",
       "Closed by Horizzon                      358\n",
       "Others                                  302\n",
       "switched off                            240\n",
       "Busy                                    186\n",
       "Lost to EINS                            175\n",
       "Not doing further education             145\n",
       "Interested  in full time MBA            117\n",
       "Graduation in progress                  111\n",
       "Name: Tags, dtype: int64"
      ]
     },
     "execution_count": 68,
     "metadata": {},
     "output_type": "execute_result"
    }
   ],
   "source": [
    "# column - 'Tags'\n",
    "df.Tags.value_counts()"
   ]
  },
  {
   "cell_type": "code",
   "execution_count": 69,
   "id": "fc475b22",
   "metadata": {},
   "outputs": [
    {
     "data": {
      "text/plain": [
       "No    9240\n",
       "Name: Update me on Supply Chain Content, dtype: int64"
      ]
     },
     "execution_count": 69,
     "metadata": {},
     "output_type": "execute_result"
    }
   ],
   "source": [
    "# column - 'Update me on Supply Chain Content'\n",
    "df['Update me on Supply Chain Content'].value_counts()"
   ]
  },
  {
   "cell_type": "code",
   "execution_count": 70,
   "id": "4b39dc0d",
   "metadata": {},
   "outputs": [],
   "source": [
    "# adding 'Update me on Supply Chain Content' to columns_to_drop since  every customer selected 'No'\n",
    "columns_to_drop.append('Update me on Supply Chain Content')"
   ]
  },
  {
   "cell_type": "code",
   "execution_count": 71,
   "id": "93b4993d",
   "metadata": {},
   "outputs": [
    {
     "data": {
      "text/plain": [
       "No    9240\n",
       "Name: Get updates on DM Content, dtype: int64"
      ]
     },
     "execution_count": 71,
     "metadata": {},
     "output_type": "execute_result"
    }
   ],
   "source": [
    "# column - 'Get updates on DM Content'\n",
    "df['Get updates on DM Content'].value_counts()"
   ]
  },
  {
   "cell_type": "code",
   "execution_count": 72,
   "id": "d0bb9416",
   "metadata": {},
   "outputs": [],
   "source": [
    "# adding 'Get updates on DM Content' to columns_to_drop since  every customer selected 'No'\n",
    "columns_to_drop.append('Get updates on DM Content')"
   ]
  },
  {
   "cell_type": "code",
   "execution_count": 73,
   "id": "cef4dbdc",
   "metadata": {},
   "outputs": [
    {
     "data": {
      "text/plain": [
       "No    9240\n",
       "Name: I agree to pay the amount through cheque, dtype: int64"
      ]
     },
     "execution_count": 73,
     "metadata": {},
     "output_type": "execute_result"
    }
   ],
   "source": [
    "# column -'I agree to pay the amount through cheque'\n",
    "df['I agree to pay the amount through cheque'].value_counts()"
   ]
  },
  {
   "cell_type": "code",
   "execution_count": 74,
   "id": "5a0a7645",
   "metadata": {},
   "outputs": [],
   "source": [
    "# adding 'I agree to pay the amount through cheque' to columns_to_drop since  every customer selected 'No'\n",
    "columns_to_drop.append('I agree to pay the amount through cheque')"
   ]
  },
  {
   "cell_type": "code",
   "execution_count": 75,
   "id": "a7c17a85",
   "metadata": {},
   "outputs": [
    {
     "data": {
      "text/plain": [
       "No     6352\n",
       "Yes    2888\n",
       "Name: A free copy of Mastering The Interview, dtype: int64"
      ]
     },
     "execution_count": 75,
     "metadata": {},
     "output_type": "execute_result"
    }
   ],
   "source": [
    "# column -'A free copy of Mastering The Interview'\n",
    "df['A free copy of Mastering The Interview'].value_counts()"
   ]
  },
  {
   "cell_type": "code",
   "execution_count": 76,
   "id": "968c5c60",
   "metadata": {
    "scrolled": true
   },
   "outputs": [
    {
     "data": {
      "text/plain": [
       "Modified                        3407\n",
       "Email Opened                    2827\n",
       "SMS Sent                        2172\n",
       "Page Visited on Website          318\n",
       "Olark Chat Conversation          183\n",
       "Email Link Clicked               173\n",
       "Email Bounced                     60\n",
       "Unsubscribed                      47\n",
       "Unreachable                       32\n",
       "Had a Phone Conversation          14\n",
       "Email Marked Spam                  2\n",
       "Approached upfront                 1\n",
       "Resubscribed to emails             1\n",
       "View in browser link Clicked       1\n",
       "Form Submitted on Website          1\n",
       "Email Received                     1\n",
       "Name: Last Notable Activity, dtype: int64"
      ]
     },
     "execution_count": 76,
     "metadata": {},
     "output_type": "execute_result"
    }
   ],
   "source": [
    "# column - 'Last Notable Activity'\n",
    "df['Last Notable Activity'].value_counts()"
   ]
  },
  {
   "cell_type": "code",
   "execution_count": 77,
   "id": "4a6550ee",
   "metadata": {},
   "outputs": [],
   "source": [
    "# Grouping 'Last Notable Activity' levels  with low count into 'Others' in order to remove bias\n",
    "df['Last Notable Activity']  = df['Last Notable Activity'].replace(['Email Bounced','Unsubscribed','Unreachable',\n",
    "                                                                   'Had a Phone Conversation','Email Marked Spam',\n",
    "                                                                    'Approached upfront','Resubscribed to emails',\n",
    "                                                                   'View in browser link Clicked','Form Submitted on Website',\n",
    "                                                                   'Email Received'],'Others')"
   ]
  },
  {
   "cell_type": "code",
   "execution_count": 78,
   "id": "145ad44d",
   "metadata": {
    "scrolled": true
   },
   "outputs": [
    {
     "data": {
      "text/plain": [
       "['Do Not Call',\n",
       " 'Search',\n",
       " 'Magazine',\n",
       " 'Newspaper Article',\n",
       " 'X Education Forums',\n",
       " 'Newspaper',\n",
       " 'Digital Advertisement',\n",
       " 'Through Recommendations',\n",
       " 'Receive More Updates About Our Courses',\n",
       " 'Update me on Supply Chain Content',\n",
       " 'Get updates on DM Content',\n",
       " 'I agree to pay the amount through cheque']"
      ]
     },
     "execution_count": 78,
     "metadata": {},
     "output_type": "execute_result"
    }
   ],
   "source": [
    "columns_to_drop"
   ]
  },
  {
   "cell_type": "code",
   "execution_count": 79,
   "id": "a8f26848",
   "metadata": {},
   "outputs": [],
   "source": [
    "# dropping columns_to_drop from our dataframe\n",
    "df.drop(columns_to_drop,1,inplace = True)"
   ]
  },
  {
   "cell_type": "code",
   "execution_count": 80,
   "id": "c9f4d217",
   "metadata": {},
   "outputs": [
    {
     "name": "stdout",
     "output_type": "stream",
     "text": [
      "<class 'pandas.core.frame.DataFrame'>\n",
      "RangeIndex: 9240 entries, 0 to 9239\n",
      "Data columns (total 13 columns):\n",
      " #   Column                                  Non-Null Count  Dtype  \n",
      "---  ------                                  --------------  -----  \n",
      " 0   Lead Origin                             9240 non-null   object \n",
      " 1   Lead Source                             9240 non-null   object \n",
      " 2   Do Not Email                            9240 non-null   object \n",
      " 3   Converted                               9240 non-null   int64  \n",
      " 4   TotalVisits                             9240 non-null   float64\n",
      " 5   Total Time Spent on Website             9240 non-null   int64  \n",
      " 6   Page Views Per Visit                    9240 non-null   float64\n",
      " 7   Last Activity                           9240 non-null   object \n",
      " 8   Specialization                          9240 non-null   object \n",
      " 9   What is your current occupation         9240 non-null   object \n",
      " 10  Tags                                    9240 non-null   object \n",
      " 11  A free copy of Mastering The Interview  9240 non-null   object \n",
      " 12  Last Notable Activity                   9240 non-null   object \n",
      "dtypes: float64(2), int64(2), object(9)\n",
      "memory usage: 938.6+ KB\n"
     ]
    }
   ],
   "source": [
    "df.info()"
   ]
  },
  {
   "cell_type": "markdown",
   "id": "ac2c8b51",
   "metadata": {},
   "source": [
    "#### Understanding the variable types"
   ]
  },
  {
   "cell_type": "code",
   "execution_count": 81,
   "id": "e30fd96e",
   "metadata": {},
   "outputs": [],
   "source": [
    "# Binary type - 'Converted','Do Not Email','A free copy of Mastering The Interview'\n",
    "# Categorical type -'Lead Origin','Lead Source','Last Activity','Specialization',\n",
    "#                    'What is your current occupation','Tags','Last Notable Activity'\n",
    "# Numerical type - 'TotalVisits','Total Time Spent on Website','Page Views Per Visit'"
   ]
  },
  {
   "cell_type": "markdown",
   "id": "e4e7d9b2",
   "metadata": {},
   "source": [
    "#### Converting  binary variables with Yes/No values  to 0/1"
   ]
  },
  {
   "cell_type": "code",
   "execution_count": 82,
   "id": "163c6c9f",
   "metadata": {},
   "outputs": [],
   "source": [
    "# List of variables to map\n",
    "l1 = ['Do Not Email','A free copy of Mastering The Interview']\n",
    "# Defining the map function\n",
    "def map_func(x):\n",
    "    return x.map({'Yes':1,'No':0})\n",
    "\n",
    "df[l1] = df[l1].apply(map_func)"
   ]
  },
  {
   "cell_type": "markdown",
   "id": "9e200a88",
   "metadata": {},
   "source": [
    "# Step 5 :Outlier Treatment for continuous variables "
   ]
  },
  {
   "cell_type": "code",
   "execution_count": 83,
   "id": "240be9db",
   "metadata": {},
   "outputs": [],
   "source": [
    "# Numerical- continuous variables - 'TotalVisits','Total Time Spent on Website','Page Views Per Visit'"
   ]
  },
  {
   "cell_type": "code",
   "execution_count": 84,
   "id": "60e496e0",
   "metadata": {},
   "outputs": [
    {
     "data": {
      "image/png": "[encoded data removed]",
      "text/plain": [
       "<Figure size 1296x504 with 3 Axes>"
      ]
     },
     "metadata": {
      "needs_background": "light"
     },
     "output_type": "display_data"
    }
   ],
   "source": [
    "# Drawing box plots for indepent variables with continuous values\n",
    "col1 = ['TotalVisits','Total Time Spent on Website','Page Views Per Visit']\n",
    "plt.figure(figsize=(18,7))\n",
    "i = 1\n",
    "for column in col1:\n",
    "    plt.subplot(1,3,i)\n",
    "    sns.boxplot(y=column, data = df)\n",
    "    i +=1"
   ]
  },
  {
   "cell_type": "markdown",
   "id": "0299cd40",
   "metadata": {},
   "source": [
    "Both 'TotalVisits' and 'Page Views Per Visit' seem to have outliers on the upper side"
   ]
  },
  {
   "cell_type": "code",
   "execution_count": 85,
   "id": "46617c2a",
   "metadata": {},
   "outputs": [
    {
     "data": {
      "text/html": [
       "<div>\n",
       "<style scoped>\n",
       "    .dataframe tbody tr th:only-of-type {\n",
       "        vertical-align: middle;\n",
       "    }\n",
       "\n",
       "    .dataframe tbody tr th {\n",
       "        vertical-align: top;\n",
       "    }\n",
       "\n",
       "    .dataframe thead th {\n",
       "        text-align: right;\n",
       "    }\n",
       "</style>\n",
       "<table border=\"1\" class=\"dataframe\">\n",
       "  <thead>\n",
       "    <tr style=\"text-align: right;\">\n",
       "      <th></th>\n",
       "      <th>TotalVisits</th>\n",
       "      <th>Total Time Spent on Website</th>\n",
       "      <th>Page Views Per Visit</th>\n",
       "    </tr>\n",
       "  </thead>\n",
       "  <tbody>\n",
       "    <tr>\n",
       "      <th>count</th>\n",
       "      <td>9240.000000</td>\n",
       "      <td>9240.000000</td>\n",
       "      <td>9240.000000</td>\n",
       "    </tr>\n",
       "    <tr>\n",
       "      <th>mean</th>\n",
       "      <td>3.438636</td>\n",
       "      <td>487.698268</td>\n",
       "      <td>2.357440</td>\n",
       "    </tr>\n",
       "    <tr>\n",
       "      <th>std</th>\n",
       "      <td>4.819024</td>\n",
       "      <td>548.021466</td>\n",
       "      <td>2.145781</td>\n",
       "    </tr>\n",
       "    <tr>\n",
       "      <th>min</th>\n",
       "      <td>0.000000</td>\n",
       "      <td>0.000000</td>\n",
       "      <td>0.000000</td>\n",
       "    </tr>\n",
       "    <tr>\n",
       "      <th>25%</th>\n",
       "      <td>1.000000</td>\n",
       "      <td>12.000000</td>\n",
       "      <td>1.000000</td>\n",
       "    </tr>\n",
       "    <tr>\n",
       "      <th>50%</th>\n",
       "      <td>3.000000</td>\n",
       "      <td>248.000000</td>\n",
       "      <td>2.000000</td>\n",
       "    </tr>\n",
       "    <tr>\n",
       "      <th>75%</th>\n",
       "      <td>5.000000</td>\n",
       "      <td>936.000000</td>\n",
       "      <td>3.000000</td>\n",
       "    </tr>\n",
       "    <tr>\n",
       "      <th>90%</th>\n",
       "      <td>7.000000</td>\n",
       "      <td>1380.000000</td>\n",
       "      <td>5.000000</td>\n",
       "    </tr>\n",
       "    <tr>\n",
       "      <th>95%</th>\n",
       "      <td>10.000000</td>\n",
       "      <td>1562.000000</td>\n",
       "      <td>6.000000</td>\n",
       "    </tr>\n",
       "    <tr>\n",
       "      <th>99%</th>\n",
       "      <td>17.000000</td>\n",
       "      <td>1840.610000</td>\n",
       "      <td>9.000000</td>\n",
       "    </tr>\n",
       "    <tr>\n",
       "      <th>max</th>\n",
       "      <td>251.000000</td>\n",
       "      <td>2272.000000</td>\n",
       "      <td>55.000000</td>\n",
       "    </tr>\n",
       "  </tbody>\n",
       "</table>\n",
       "</div>"
      ],
      "text/plain": [
       "       TotalVisits  Total Time Spent on Website  Page Views Per Visit\n",
       "count  9240.000000                  9240.000000           9240.000000\n",
       "mean      3.438636                   487.698268              2.357440\n",
       "std       4.819024                   548.021466              2.145781\n",
       "min       0.000000                     0.000000              0.000000\n",
       "25%       1.000000                    12.000000              1.000000\n",
       "50%       3.000000                   248.000000              2.000000\n",
       "75%       5.000000                   936.000000              3.000000\n",
       "90%       7.000000                  1380.000000              5.000000\n",
       "95%      10.000000                  1562.000000              6.000000\n",
       "99%      17.000000                  1840.610000              9.000000\n",
       "max     251.000000                  2272.000000             55.000000"
      ]
     },
     "execution_count": 85,
     "metadata": {},
     "output_type": "execute_result"
    }
   ],
   "source": [
    "# Checking outliers at 25%, 50%, 75%, 90%, 95% and 99%\n",
    "df[col1].describe(percentiles = [.25,.5,.75,.9,.95,.99])"
   ]
  },
  {
   "cell_type": "markdown",
   "id": "3e68e368",
   "metadata": {},
   "source": [
    "- TotalVisits\n",
    "    - Mean and median are close to each other\n",
    "    - From minimum value the Percentile values gradally increase until 99th percentile\n",
    "    - Huge gap between 99th percentile and maximum value -> indicating the presence of outliers above upper fence.\n",
    "    - So we could cap the values at 99th percentile to avoid outliers\n",
    "- Page Views Per Visit\n",
    "    - Mean and median Page Views Per Visit are close.\n",
    "    - percentile values gradually increases over percentiles until 99th percntile.\n",
    "    -So we could cap the values at 99th percentile to avoid outliers"
   ]
  },
  {
   "cell_type": "code",
   "execution_count": 86,
   "id": "3dbaa521",
   "metadata": {},
   "outputs": [
    {
     "data": {
      "text/plain": [
       "(9240, 13)"
      ]
     },
     "execution_count": 86,
     "metadata": {},
     "output_type": "execute_result"
    }
   ],
   "source": [
    "df.shape"
   ]
  },
  {
   "cell_type": "code",
   "execution_count": 87,
   "id": "95aa235f",
   "metadata": {},
   "outputs": [],
   "source": [
    "# removing the top 1% values from 'TotalVisits' and 'Page Views Per Visit' to avoid outliers\n",
    "df = df[(df['TotalVisits']<=df['TotalVisits'].quantile(0.99))&(df['Page Views Per Visit']<=df['Page Views Per Visit'].quantile(0.99))]"
   ]
  },
  {
   "cell_type": "code",
   "execution_count": 88,
   "id": "8625c1d4",
   "metadata": {
    "scrolled": true
   },
   "outputs": [
    {
     "data": {
      "text/plain": [
       "(9090, 13)"
      ]
     },
     "execution_count": 88,
     "metadata": {},
     "output_type": "execute_result"
    }
   ],
   "source": [
    "df.shape"
   ]
  },
  {
   "cell_type": "markdown",
   "id": "4ae97ebf",
   "metadata": {},
   "source": [
    "# Step 6 :EDA"
   ]
  },
  {
   "cell_type": "code",
   "execution_count": 89,
   "id": "83a3c8b7",
   "metadata": {
    "scrolled": true
   },
   "outputs": [
    {
     "data": {
      "image/png": "[encoded data removed]",
      "text/plain": [
       "<Figure size 1296x504 with 3 Axes>"
      ]
     },
     "metadata": {
      "needs_background": "light"
     },
     "output_type": "display_data"
    }
   ],
   "source": [
    "# plotting the continuous variables \n",
    "\n",
    "plt.figure(figsize=(18,7))\n",
    "i = 1\n",
    "for column in col1:\n",
    "    plt.subplot(1,3,i)\n",
    "    sns.boxplot(y=column, data = df)\n",
    "    i +=1"
   ]
  },
  {
   "cell_type": "markdown",
   "id": "6833fd11",
   "metadata": {},
   "source": [
    "- we could see few data points above the upper fences of 'TotalVisits' and 'Page Views Per Visit', however, these are continuously formed natural points and seem to be part of our data. So we will not be considering them as outliers"
   ]
  },
  {
   "cell_type": "code",
   "execution_count": 90,
   "id": "621bb436",
   "metadata": {},
   "outputs": [],
   "source": [
    "# Visualising the categorical variables"
   ]
  },
  {
   "cell_type": "code",
   "execution_count": 91,
   "id": "aa1b72c3",
   "metadata": {},
   "outputs": [],
   "source": [
    "# Categorical type -'Lead Origin','Lead Source','Last Activity','Specialization',\n",
    "#                    'What is your current occupation','Tags','Last Notable Activity'"
   ]
  },
  {
   "cell_type": "code",
   "execution_count": 92,
   "id": "d29680a2",
   "metadata": {},
   "outputs": [],
   "source": [
    "cat_col=['Lead Origin','Lead Source','Last Activity','Specialization',\n",
    "         'What is your current occupation','Tags','Last Notable Activity']"
   ]
  },
  {
   "cell_type": "code",
   "execution_count": 93,
   "id": "5f687bfb",
   "metadata": {
    "scrolled": true
   },
   "outputs": [
    {
     "data": {
      "text/plain": [
       "<AxesSubplot:xlabel='Lead Origin', ylabel='count'>"
      ]
     },
     "execution_count": 93,
     "metadata": {},
     "output_type": "execute_result"
    },
    {
     "data": {
      "image/png": "[encoded data removed]",
      "text/plain": [
       "<Figure size 1080x432 with 1 Axes>"
      ]
     },
     "metadata": {
      "needs_background": "light"
     },
     "output_type": "display_data"
    }
   ],
   "source": [
    "# countplot of 'Lead Origin'\n",
    "plt.figure(figsize = [15,6])\n",
    "sns.countplot(x = df['Lead Origin'],hue = df.Converted,  data=df)"
   ]
  },
  {
   "cell_type": "markdown",
   "id": "74f20383",
   "metadata": {},
   "source": [
    "-  'Landing page submission' is the most common 'lead origin'  and the number of converted leads is also higher for this category.\n",
    "- The lead conversion rate is very high among the customers with 'Lead add form' origin.\n",
    "    "
   ]
  },
  {
   "cell_type": "code",
   "execution_count": 94,
   "id": "61e50d5b",
   "metadata": {},
   "outputs": [],
   "source": [
    "### 'Lead Source'"
   ]
  },
  {
   "cell_type": "code",
   "execution_count": 95,
   "id": "53bd94cb",
   "metadata": {},
   "outputs": [
    {
     "data": {
      "text/plain": [
       "Google              2877\n",
       "Direct Traffic      2499\n",
       "Olark Chat          1753\n",
       "Organic Search      1092\n",
       "Reference            533\n",
       "Welingak Website     142\n",
       "Referral Sites       117\n",
       "Others                77\n",
       "Name: Lead Source, dtype: int64"
      ]
     },
     "execution_count": 95,
     "metadata": {},
     "output_type": "execute_result"
    }
   ],
   "source": [
    "df['Lead Source'].value_counts()"
   ]
  },
  {
   "cell_type": "code",
   "execution_count": 96,
   "id": "d433e1f0",
   "metadata": {
    "scrolled": true
   },
   "outputs": [
    {
     "data": {
      "text/plain": [
       "<AxesSubplot:xlabel='Lead Source', ylabel='count'>"
      ]
     },
     "execution_count": 96,
     "metadata": {},
     "output_type": "execute_result"
    },
    {
     "data": {
      "image/png": "[encoded data removed]",
      "text/plain": [
       "<Figure size 1080x432 with 1 Axes>"
      ]
     },
     "metadata": {
      "needs_background": "light"
     },
     "output_type": "display_data"
    }
   ],
   "source": [
    "# countplot of 'Lead Source'\n",
    "plt.figure(figsize = [15,6])\n",
    "sns.countplot(x = df['Lead Source'], hue = df.Converted, data=df)"
   ]
  },
  {
   "cell_type": "markdown",
   "id": "eed90a0a",
   "metadata": {},
   "source": [
    "- Google and Direct Traffic are the two major lead sources.\n",
    "- However 'Reference' has the highest lead conversion rate."
   ]
  },
  {
   "cell_type": "code",
   "execution_count": 97,
   "id": "678afbb1",
   "metadata": {},
   "outputs": [],
   "source": [
    "### 'Specialization'"
   ]
  },
  {
   "cell_type": "code",
   "execution_count": 98,
   "id": "fd6b7841",
   "metadata": {
    "scrolled": true
   },
   "outputs": [
    {
     "data": {
      "text/plain": [
       "<AxesSubplot:xlabel='Specialization', ylabel='count'>"
      ]
     },
     "execution_count": 98,
     "metadata": {},
     "output_type": "execute_result"
    },
    {
     "data": {
      "image/png": "[encoded data removed]",
      "text/plain": [
       "<Figure size 2016x720 with 1 Axes>"
      ]
     },
     "metadata": {
      "needs_background": "light"
     },
     "output_type": "display_data"
    }
   ],
   "source": [
    "# countplot of 'Specialization'\n",
    "plt.figure(figsize = [28,10])\n",
    "sns.countplot(x = df['Specialization'], hue = df.Converted, data=df)"
   ]
  },
  {
   "cell_type": "markdown",
   "id": "3d2e6bef",
   "metadata": {},
   "source": [
    "- Most of the customers prefer not to mention their specialization\n",
    "- Among the customers who have mentioned their specializations,most of them fall into Management domain."
   ]
  },
  {
   "cell_type": "code",
   "execution_count": 99,
   "id": "5a856e31",
   "metadata": {},
   "outputs": [],
   "source": [
    "### 'Last Activity'"
   ]
  },
  {
   "cell_type": "code",
   "execution_count": 100,
   "id": "55258be4",
   "metadata": {
    "scrolled": true
   },
   "outputs": [
    {
     "data": {
      "text/plain": [
       "<AxesSubplot:xlabel='Last Activity', ylabel='count'>"
      ]
     },
     "execution_count": 100,
     "metadata": {},
     "output_type": "execute_result"
    },
    {
     "data": {
      "image/png": "[encoded data removed]",
      "text/plain": [
       "<Figure size 2016x720 with 1 Axes>"
      ]
     },
     "metadata": {
      "needs_background": "light"
     },
     "output_type": "display_data"
    }
   ],
   "source": [
    "# countplot of 'Last Activity'\n",
    "plt.figure(figsize = [28,10])\n",
    "sns.countplot(x = df['Last Activity'], hue = df.Converted, data=df)"
   ]
  },
  {
   "cell_type": "markdown",
   "id": "41939aae",
   "metadata": {},
   "source": [
    "- Lead conversion rate is very high among customers whose last activity is 'SMS sent'\n",
    "- Lead conversion rate is very low among customers with last activity as 'Olark chat conversion'\n",
    "- Most customer's last activity is 'Email opened'"
   ]
  },
  {
   "cell_type": "code",
   "execution_count": 101,
   "id": "98d5bda5",
   "metadata": {},
   "outputs": [],
   "source": [
    "### 'What is your current occupation'"
   ]
  },
  {
   "cell_type": "code",
   "execution_count": 102,
   "id": "3d471c7c",
   "metadata": {
    "scrolled": true
   },
   "outputs": [
    {
     "data": {
      "text/plain": [
       "<AxesSubplot:xlabel='What is your current occupation', ylabel='count'>"
      ]
     },
     "execution_count": 102,
     "metadata": {},
     "output_type": "execute_result"
    },
    {
     "data": {
      "image/png": "[encoded data removed]",
      "text/plain": [
       "<Figure size 1080x432 with 1 Axes>"
      ]
     },
     "metadata": {
      "needs_background": "light"
     },
     "output_type": "display_data"
    }
   ],
   "source": [
    "# countplot of 'What is your current occupation'\n",
    "plt.figure(figsize = [15,6])\n",
    "sns.countplot(x = df['What is your current occupation'], hue = df.Converted, data=df)"
   ]
  },
  {
   "cell_type": "markdown",
   "id": "376bd612",
   "metadata": {},
   "source": [
    "- The number of unemployed people purchasing online courses are high.\n",
    "- Most of the working professionals who check out the courses end up purchasing them."
   ]
  },
  {
   "cell_type": "code",
   "execution_count": 103,
   "id": "f621fe94",
   "metadata": {},
   "outputs": [],
   "source": [
    "### 'Tags'"
   ]
  },
  {
   "cell_type": "code",
   "execution_count": 104,
   "id": "4e25d956",
   "metadata": {
    "scrolled": true
   },
   "outputs": [
    {
     "data": {
      "text/plain": [
       "<AxesSubplot:xlabel='Tags', ylabel='count'>"
      ]
     },
     "execution_count": 104,
     "metadata": {},
     "output_type": "execute_result"
    },
    {
     "data": {
      "image/png": "[encoded data removed]",
      "text/plain": [
       "<Figure size 2016x720 with 1 Axes>"
      ]
     },
     "metadata": {
      "needs_background": "light"
     },
     "output_type": "display_data"
    }
   ],
   "source": [
    "# countplot of 'Tags'\n",
    "plt.figure(figsize = [28,10])\n",
    "sns.countplot(x = df['Tags'], hue = df.Converted, data=df)"
   ]
  },
  {
   "cell_type": "markdown",
   "id": "a60c7426",
   "metadata": {},
   "source": [
    "- Customers who are tagged as 'will revert after reading the email' are more likely to purchase the courses.\n",
    " "
   ]
  },
  {
   "cell_type": "code",
   "execution_count": 105,
   "id": "a5b0c21f",
   "metadata": {},
   "outputs": [],
   "source": [
    "### 'Last Notable Activity'"
   ]
  },
  {
   "cell_type": "code",
   "execution_count": 106,
   "id": "0a0d8746",
   "metadata": {
    "scrolled": true
   },
   "outputs": [
    {
     "data": {
      "text/plain": [
       "<AxesSubplot:xlabel='Last Notable Activity', ylabel='count'>"
      ]
     },
     "execution_count": 106,
     "metadata": {},
     "output_type": "execute_result"
    },
    {
     "data": {
      "image/png": "[encoded data removed]",
      "text/plain": [
       "<Figure size 1080x432 with 1 Axes>"
      ]
     },
     "metadata": {
      "needs_background": "light"
     },
     "output_type": "display_data"
    }
   ],
   "source": [
    "# countplot of 'Last Notable Activity'\n",
    "plt.figure(figsize = [15,6])\n",
    "sns.countplot(x = df['Last Notable Activity'], hue = df.Converted, data=df)"
   ]
  },
  {
   "cell_type": "markdown",
   "id": "54b8ed0f",
   "metadata": {},
   "source": [
    "- Most of the customers belong to 'modified' category of 'Last Notable Activity'\n",
    "- The lead conversion rate is very high among people in 'SMS Sent' category"
   ]
  },
  {
   "cell_type": "code",
   "execution_count": 107,
   "id": "2737d181",
   "metadata": {},
   "outputs": [],
   "source": [
    "#### Analysis of numerical type + Binary type variables\n"
   ]
  },
  {
   "cell_type": "code",
   "execution_count": 108,
   "id": "35161522",
   "metadata": {
    "scrolled": true
   },
   "outputs": [
    {
     "data": {
      "text/plain": [
       "<seaborn.axisgrid.PairGrid at 0x2a6fbc638b0>"
      ]
     },
     "execution_count": 108,
     "metadata": {},
     "output_type": "execute_result"
    },
    {
     "data": {
      "image/png": "[encoded data removed]",
      "text/plain": [
       "<Figure size 1080x1080 with 42 Axes>"
      ]
     },
     "metadata": {
      "needs_background": "light"
     },
     "output_type": "display_data"
    }
   ],
   "source": [
    "sns.pairplot(df)"
   ]
  },
  {
   "cell_type": "markdown",
   "id": "583fad2d",
   "metadata": {},
   "source": [
    "- Page Views Per Visit and TotalVisits seem to have a positive correlation"
   ]
  },
  {
   "cell_type": "code",
   "execution_count": 109,
   "id": "f9b72c16",
   "metadata": {},
   "outputs": [
    {
     "data": {
      "image/png": "[encoded data removed]",
      "text/plain": [
       "<Figure size 432x288 with 2 Axes>"
      ]
     },
     "metadata": {
      "needs_background": "light"
     },
     "output_type": "display_data"
    }
   ],
   "source": [
    "# let's check the correlation coefficients between the continuous variables\n",
    "sns.heatmap(df[col1].corr(), cmap='RdYlGn', annot = True)\n",
    "plt.show()"
   ]
  },
  {
   "cell_type": "markdown",
   "id": "d2563210",
   "metadata": {},
   "source": [
    "- There is a positive correaltion between Page Views Per Visit and TotalVisits  with a coefficient of 0.72"
   ]
  },
  {
   "cell_type": "code",
   "execution_count": 110,
   "id": "1349d735",
   "metadata": {},
   "outputs": [
    {
     "data": {
      "image/png": "[encoded data removed]",
      "text/plain": [
       "<Figure size 1080x576 with 2 Axes>"
      ]
     },
     "metadata": {
      "needs_background": "light"
     },
     "output_type": "display_data"
    }
   ],
   "source": [
    "# let's have a look at the correlation coefficients of all the numerical variables(binary+continuous) with each other\n",
    "plt.figure(figsize=[15,8])\n",
    "sns.heatmap(df.corr(), cmap='RdYlGn', annot = True)\n",
    "plt.show()"
   ]
  },
  {
   "cell_type": "markdown",
   "id": "407f5071",
   "metadata": {},
   "source": [
    "- Our target variable 'Converted' has a positive correlation with 'Total Time Spent On Website' with a correlation coefficient of 0.36"
   ]
  },
  {
   "cell_type": "code",
   "execution_count": 111,
   "id": "7c236c50",
   "metadata": {},
   "outputs": [
    {
     "data": {
      "text/plain": [
       "<AxesSubplot:xlabel='Converted', ylabel='Total Time Spent on Website'>"
      ]
     },
     "execution_count": 111,
     "metadata": {},
     "output_type": "execute_result"
    },
    {
     "data": {
      "image/png": "[encoded data removed]",
      "text/plain": [
       "<Figure size 432x288 with 1 Axes>"
      ]
     },
     "metadata": {
      "needs_background": "light"
     },
     "output_type": "display_data"
    }
   ],
   "source": [
    "# plotting 'Total Time Spent on Website' against our target variable\n",
    "sns.boxplot(x = df['Converted'],y= df['Total Time Spent on Website'], data = df)"
   ]
  },
  {
   "cell_type": "markdown",
   "id": "588be5f5",
   "metadata": {},
   "source": [
    "- The median and 75th percentile of 'Total Time Spent on Website' by converted leads are higher than the 75th percentile of unconverted leads."
   ]
  },
  {
   "cell_type": "markdown",
   "id": "a3e1cc42",
   "metadata": {},
   "source": [
    "# Step 7 : Creating dummy variables for categorical columns"
   ]
  },
  {
   "cell_type": "code",
   "execution_count": 112,
   "id": "2d4ed7a8",
   "metadata": {},
   "outputs": [
    {
     "data": {
      "text/plain": [
       "Index(['Lead Origin', 'Lead Source', 'Last Activity', 'Specialization',\n",
       "       'What is your current occupation', 'Tags', 'Last Notable Activity'],\n",
       "      dtype='object')"
      ]
     },
     "execution_count": 112,
     "metadata": {},
     "output_type": "execute_result"
    }
   ],
   "source": [
    "# categorical variables in df\n",
    "cat_col = df.select_dtypes(include= 'object').columns\n",
    "cat_col"
   ]
  },
  {
   "cell_type": "code",
   "execution_count": 113,
   "id": "150ff76e",
   "metadata": {},
   "outputs": [],
   "source": [
    "# Categorical type -'Lead Origin','Lead Source','Last Activity','Specialization',\n",
    "#                   'What is your current occupation','Tags','Last Notable Activity'"
   ]
  },
  {
   "cell_type": "code",
   "execution_count": 114,
   "id": "c6416c07",
   "metadata": {},
   "outputs": [],
   "source": [
    "#### creating dummies\n",
    "#### Since k-1 dummies can take care of all the information contained in categorical variable with k levels,\n",
    "#### dropping one dummy from dummies created for each column."
   ]
  },
  {
   "cell_type": "code",
   "execution_count": 115,
   "id": "c8b90fbd",
   "metadata": {},
   "outputs": [],
   "source": [
    "#'Lead Origin'"
   ]
  },
  {
   "cell_type": "code",
   "execution_count": 116,
   "id": "7c3e24e3",
   "metadata": {},
   "outputs": [],
   "source": [
    "Lead_Origin = pd.get_dummies(df['Lead Origin'],prefix = 'Lead_Origin')\n",
    "Lead_Origin.drop('Lead_Origin_Quick Add Form',axis = 1,inplace = True)\n",
    "df = pd.concat([df,Lead_Origin],axis = 1)"
   ]
  },
  {
   "cell_type": "code",
   "execution_count": 117,
   "id": "3da30441",
   "metadata": {},
   "outputs": [],
   "source": [
    "# 'Lead Source'"
   ]
  },
  {
   "cell_type": "code",
   "execution_count": 118,
   "id": "0193d75a",
   "metadata": {},
   "outputs": [],
   "source": [
    "Lead_Source = pd.get_dummies(df['Lead Source'],prefix = 'Lead_Source')\n",
    "Lead_Source.drop('Lead_Source_Others',axis = 1,inplace = True)\n",
    "df = pd.concat([df,Lead_Source],axis = 1)"
   ]
  },
  {
   "cell_type": "code",
   "execution_count": 119,
   "id": "213b8d90",
   "metadata": {},
   "outputs": [
    {
     "data": {
      "text/plain": [
       "(9090, 24)"
      ]
     },
     "execution_count": 119,
     "metadata": {},
     "output_type": "execute_result"
    }
   ],
   "source": [
    "df.shape"
   ]
  },
  {
   "cell_type": "code",
   "execution_count": 120,
   "id": "e96b8363",
   "metadata": {},
   "outputs": [],
   "source": [
    "# 'Last Activity'"
   ]
  },
  {
   "cell_type": "code",
   "execution_count": 121,
   "id": "0a73c5aa",
   "metadata": {},
   "outputs": [],
   "source": [
    "Last_Activity = pd.get_dummies(df['Last Activity'],prefix = 'Last_Activity')\n",
    "Last_Activity.drop('Last_Activity_Others',axis = 1,inplace = True)\n",
    "df = pd.concat([df,Last_Activity],axis = 1)"
   ]
  },
  {
   "cell_type": "code",
   "execution_count": 122,
   "id": "a43f1dac",
   "metadata": {},
   "outputs": [],
   "source": [
    "# 'Specialization'"
   ]
  },
  {
   "cell_type": "code",
   "execution_count": 123,
   "id": "8ed7e0b2",
   "metadata": {},
   "outputs": [],
   "source": [
    "Specialization = pd.get_dummies(df.Specialization,prefix = 'Specialization')\n",
    "Specialization.drop('Specialization_Not mentioned',axis = 1,inplace = True)\n",
    "df = pd.concat([df,Specialization],axis = 1)"
   ]
  },
  {
   "cell_type": "code",
   "execution_count": 124,
   "id": "92fdd255",
   "metadata": {},
   "outputs": [],
   "source": [
    "# \"What is your current occupation\""
   ]
  },
  {
   "cell_type": "code",
   "execution_count": 125,
   "id": "15dcf7a2",
   "metadata": {},
   "outputs": [],
   "source": [
    "wiyco = pd.get_dummies(df['What is your current occupation'],prefix = 'current_occupation')\n",
    "wiyco.drop('current_occupation_Other',axis = 1,inplace = True)\n",
    "df = pd.concat([df,wiyco],axis = 1)"
   ]
  },
  {
   "cell_type": "code",
   "execution_count": 126,
   "id": "9ce5e8ce",
   "metadata": {},
   "outputs": [],
   "source": [
    "# 'Tags'"
   ]
  },
  {
   "cell_type": "code",
   "execution_count": 127,
   "id": "6ed9e46e",
   "metadata": {},
   "outputs": [],
   "source": [
    "Tags = pd.get_dummies(df.Tags,prefix = 'Tags')\n",
    "Tags.drop('Tags_Not specified',axis = 1,inplace = True)\n",
    "df = pd.concat([df,Tags],axis = 1)"
   ]
  },
  {
   "cell_type": "code",
   "execution_count": 128,
   "id": "d8581740",
   "metadata": {},
   "outputs": [],
   "source": [
    "# 'Last Notable Activity'"
   ]
  },
  {
   "cell_type": "code",
   "execution_count": 129,
   "id": "1223bc02",
   "metadata": {},
   "outputs": [],
   "source": [
    "LNA = pd.get_dummies(df['Last Notable Activity'],prefix = 'Last_Notable_Activity')\n",
    "LNA.drop('Last_Notable_Activity_Others',axis = 1,inplace = True)\n",
    "df = pd.concat([df,LNA],axis = 1)"
   ]
  },
  {
   "cell_type": "code",
   "execution_count": 130,
   "id": "d07764bf",
   "metadata": {},
   "outputs": [],
   "source": [
    "# dropping the categorical columns in df, from which dummies were created \n",
    "df.drop(cat_col,axis = 1, inplace = True)"
   ]
  },
  {
   "cell_type": "code",
   "execution_count": 131,
   "id": "b029f932",
   "metadata": {},
   "outputs": [
    {
     "data": {
      "text/plain": [
       "(9090, 55)"
      ]
     },
     "execution_count": 131,
     "metadata": {},
     "output_type": "execute_result"
    }
   ],
   "source": [
    "df.shape"
   ]
  },
  {
   "cell_type": "markdown",
   "id": "c5b412bf",
   "metadata": {},
   "source": [
    "# Step 8 :Splitting the Data into Training and Testing Sets"
   ]
  },
  {
   "cell_type": "code",
   "execution_count": 132,
   "id": "92d86b50",
   "metadata": {},
   "outputs": [],
   "source": [
    "from sklearn.model_selection import train_test_split"
   ]
  },
  {
   "cell_type": "code",
   "execution_count": 133,
   "id": "4f0f3b08",
   "metadata": {},
   "outputs": [],
   "source": [
    "# Putting response variable to y\n",
    "y = df.Converted"
   ]
  },
  {
   "cell_type": "code",
   "execution_count": 134,
   "id": "9cacfbb3",
   "metadata": {},
   "outputs": [],
   "source": [
    "# Putting feature variables to X\n",
    "X = df.drop('Converted',axis = 1)"
   ]
  },
  {
   "cell_type": "code",
   "execution_count": 135,
   "id": "c146e469",
   "metadata": {},
   "outputs": [],
   "source": [
    "# Splitting the data into train and test\n",
    "np.random.seed(0)\n",
    "X_train,X_test,y_train,y_test = train_test_split(X,y,train_size = 0.7,test_size = 0.3 ,random_state=100)"
   ]
  },
  {
   "cell_type": "markdown",
   "id": "8bd27919",
   "metadata": {},
   "source": [
    "# Step 9 : Feature scaling"
   ]
  },
  {
   "cell_type": "code",
   "execution_count": 136,
   "id": "d5a6380f",
   "metadata": {},
   "outputs": [],
   "source": [
    "# importing StandardScaler\n",
    "from sklearn.preprocessing import StandardScaler"
   ]
  },
  {
   "cell_type": "code",
   "execution_count": 137,
   "id": "433343d8",
   "metadata": {},
   "outputs": [],
   "source": [
    "scaler = StandardScaler()"
   ]
  },
  {
   "cell_type": "code",
   "execution_count": 138,
   "id": "67ac152f",
   "metadata": {},
   "outputs": [],
   "source": [
    " # Numerical continuous- 'TotalVisits','Total Time Spent on Website','Page Views Per Visit'"
   ]
  },
  {
   "cell_type": "code",
   "execution_count": 139,
   "id": "e94e1470",
   "metadata": {},
   "outputs": [
    {
     "data": {
      "text/html": [
       "<div>\n",
       "<style scoped>\n",
       "    .dataframe tbody tr th:only-of-type {\n",
       "        vertical-align: middle;\n",
       "    }\n",
       "\n",
       "    .dataframe tbody tr th {\n",
       "        vertical-align: top;\n",
       "    }\n",
       "\n",
       "    .dataframe thead th {\n",
       "        text-align: right;\n",
       "    }\n",
       "</style>\n",
       "<table border=\"1\" class=\"dataframe\">\n",
       "  <thead>\n",
       "    <tr style=\"text-align: right;\">\n",
       "      <th></th>\n",
       "      <th>Do Not Email</th>\n",
       "      <th>TotalVisits</th>\n",
       "      <th>Total Time Spent on Website</th>\n",
       "      <th>Page Views Per Visit</th>\n",
       "      <th>A free copy of Mastering The Interview</th>\n",
       "      <th>Lead_Origin_API</th>\n",
       "      <th>Lead_Origin_Landing Page Submission</th>\n",
       "      <th>Lead_Origin_Lead Add Form</th>\n",
       "      <th>Lead_Origin_Lead Import</th>\n",
       "      <th>Lead_Source_Direct Traffic</th>\n",
       "      <th>Lead_Source_Google</th>\n",
       "      <th>Lead_Source_Olark Chat</th>\n",
       "      <th>Lead_Source_Organic Search</th>\n",
       "      <th>Lead_Source_Reference</th>\n",
       "      <th>Lead_Source_Referral Sites</th>\n",
       "      <th>Lead_Source_Welingak Website</th>\n",
       "      <th>Last_Activity_Converted to Lead</th>\n",
       "      <th>Last_Activity_Email Bounced</th>\n",
       "      <th>Last_Activity_Email Link Clicked</th>\n",
       "      <th>Last_Activity_Email Opened</th>\n",
       "      <th>Last_Activity_Form Submitted on Website</th>\n",
       "      <th>Last_Activity_Olark Chat Conversation</th>\n",
       "      <th>Last_Activity_Page Visited on Website</th>\n",
       "      <th>Last_Activity_SMS Sent</th>\n",
       "      <th>Specialization_Banking, Investment And Insurance</th>\n",
       "      <th>Specialization_Business Administration</th>\n",
       "      <th>Specialization_Business Specializations</th>\n",
       "      <th>Specialization_E-COMMERCE</th>\n",
       "      <th>Specialization_Management Specializations</th>\n",
       "      <th>Specialization_Media and Advertising</th>\n",
       "      <th>Specialization_Services Excellence</th>\n",
       "      <th>Specialization_Travel and Tourism</th>\n",
       "      <th>current_occupation_Not mentioned</th>\n",
       "      <th>current_occupation_Student</th>\n",
       "      <th>current_occupation_Unemployed</th>\n",
       "      <th>current_occupation_Working Professional</th>\n",
       "      <th>Tags_Already a student</th>\n",
       "      <th>Tags_Busy</th>\n",
       "      <th>Tags_Closed by Horizzon</th>\n",
       "      <th>Tags_Graduation in progress</th>\n",
       "      <th>Tags_Interested  in full time MBA</th>\n",
       "      <th>Tags_Interested in other courses</th>\n",
       "      <th>Tags_Lost to EINS</th>\n",
       "      <th>Tags_Not doing further education</th>\n",
       "      <th>Tags_Others</th>\n",
       "      <th>Tags_Ringing</th>\n",
       "      <th>Tags_Will revert after reading the email</th>\n",
       "      <th>Tags_switched off</th>\n",
       "      <th>Last_Notable_Activity_Email Link Clicked</th>\n",
       "      <th>Last_Notable_Activity_Email Opened</th>\n",
       "      <th>Last_Notable_Activity_Modified</th>\n",
       "      <th>Last_Notable_Activity_Olark Chat Conversation</th>\n",
       "      <th>Last_Notable_Activity_Page Visited on Website</th>\n",
       "      <th>Last_Notable_Activity_SMS Sent</th>\n",
       "    </tr>\n",
       "  </thead>\n",
       "  <tbody>\n",
       "    <tr>\n",
       "      <th>302</th>\n",
       "      <td>0</td>\n",
       "      <td>1.336782</td>\n",
       "      <td>-0.428736</td>\n",
       "      <td>0.044021</td>\n",
       "      <td>0</td>\n",
       "      <td>1</td>\n",
       "      <td>0</td>\n",
       "      <td>0</td>\n",
       "      <td>0</td>\n",
       "      <td>0</td>\n",
       "      <td>0</td>\n",
       "      <td>0</td>\n",
       "      <td>0</td>\n",
       "      <td>0</td>\n",
       "      <td>1</td>\n",
       "      <td>0</td>\n",
       "      <td>0</td>\n",
       "      <td>0</td>\n",
       "      <td>0</td>\n",
       "      <td>1</td>\n",
       "      <td>0</td>\n",
       "      <td>0</td>\n",
       "      <td>0</td>\n",
       "      <td>0</td>\n",
       "      <td>0</td>\n",
       "      <td>0</td>\n",
       "      <td>0</td>\n",
       "      <td>0</td>\n",
       "      <td>0</td>\n",
       "      <td>0</td>\n",
       "      <td>0</td>\n",
       "      <td>0</td>\n",
       "      <td>1</td>\n",
       "      <td>0</td>\n",
       "      <td>0</td>\n",
       "      <td>0</td>\n",
       "      <td>0</td>\n",
       "      <td>0</td>\n",
       "      <td>0</td>\n",
       "      <td>0</td>\n",
       "      <td>0</td>\n",
       "      <td>0</td>\n",
       "      <td>0</td>\n",
       "      <td>0</td>\n",
       "      <td>0</td>\n",
       "      <td>0</td>\n",
       "      <td>0</td>\n",
       "      <td>0</td>\n",
       "      <td>0</td>\n",
       "      <td>1</td>\n",
       "      <td>0</td>\n",
       "      <td>0</td>\n",
       "      <td>0</td>\n",
       "      <td>0</td>\n",
       "    </tr>\n",
       "    <tr>\n",
       "      <th>6087</th>\n",
       "      <td>1</td>\n",
       "      <td>-1.094877</td>\n",
       "      <td>-0.887355</td>\n",
       "      <td>-1.206716</td>\n",
       "      <td>0</td>\n",
       "      <td>1</td>\n",
       "      <td>0</td>\n",
       "      <td>0</td>\n",
       "      <td>0</td>\n",
       "      <td>0</td>\n",
       "      <td>0</td>\n",
       "      <td>1</td>\n",
       "      <td>0</td>\n",
       "      <td>0</td>\n",
       "      <td>0</td>\n",
       "      <td>0</td>\n",
       "      <td>0</td>\n",
       "      <td>1</td>\n",
       "      <td>0</td>\n",
       "      <td>0</td>\n",
       "      <td>0</td>\n",
       "      <td>0</td>\n",
       "      <td>0</td>\n",
       "      <td>0</td>\n",
       "      <td>0</td>\n",
       "      <td>0</td>\n",
       "      <td>0</td>\n",
       "      <td>0</td>\n",
       "      <td>0</td>\n",
       "      <td>0</td>\n",
       "      <td>0</td>\n",
       "      <td>0</td>\n",
       "      <td>1</td>\n",
       "      <td>0</td>\n",
       "      <td>0</td>\n",
       "      <td>0</td>\n",
       "      <td>0</td>\n",
       "      <td>0</td>\n",
       "      <td>0</td>\n",
       "      <td>0</td>\n",
       "      <td>0</td>\n",
       "      <td>0</td>\n",
       "      <td>0</td>\n",
       "      <td>0</td>\n",
       "      <td>0</td>\n",
       "      <td>0</td>\n",
       "      <td>0</td>\n",
       "      <td>0</td>\n",
       "      <td>0</td>\n",
       "      <td>0</td>\n",
       "      <td>1</td>\n",
       "      <td>0</td>\n",
       "      <td>0</td>\n",
       "      <td>0</td>\n",
       "    </tr>\n",
       "    <tr>\n",
       "      <th>1033</th>\n",
       "      <td>0</td>\n",
       "      <td>0.642022</td>\n",
       "      <td>-0.025151</td>\n",
       "      <td>1.477269</td>\n",
       "      <td>0</td>\n",
       "      <td>1</td>\n",
       "      <td>0</td>\n",
       "      <td>0</td>\n",
       "      <td>0</td>\n",
       "      <td>0</td>\n",
       "      <td>1</td>\n",
       "      <td>0</td>\n",
       "      <td>0</td>\n",
       "      <td>0</td>\n",
       "      <td>0</td>\n",
       "      <td>0</td>\n",
       "      <td>0</td>\n",
       "      <td>0</td>\n",
       "      <td>0</td>\n",
       "      <td>1</td>\n",
       "      <td>0</td>\n",
       "      <td>0</td>\n",
       "      <td>0</td>\n",
       "      <td>0</td>\n",
       "      <td>0</td>\n",
       "      <td>0</td>\n",
       "      <td>0</td>\n",
       "      <td>0</td>\n",
       "      <td>0</td>\n",
       "      <td>0</td>\n",
       "      <td>0</td>\n",
       "      <td>0</td>\n",
       "      <td>0</td>\n",
       "      <td>0</td>\n",
       "      <td>1</td>\n",
       "      <td>0</td>\n",
       "      <td>0</td>\n",
       "      <td>0</td>\n",
       "      <td>0</td>\n",
       "      <td>0</td>\n",
       "      <td>0</td>\n",
       "      <td>0</td>\n",
       "      <td>0</td>\n",
       "      <td>0</td>\n",
       "      <td>0</td>\n",
       "      <td>0</td>\n",
       "      <td>0</td>\n",
       "      <td>0</td>\n",
       "      <td>0</td>\n",
       "      <td>1</td>\n",
       "      <td>0</td>\n",
       "      <td>0</td>\n",
       "      <td>0</td>\n",
       "      <td>0</td>\n",
       "    </tr>\n",
       "    <tr>\n",
       "      <th>7656</th>\n",
       "      <td>1</td>\n",
       "      <td>0.989402</td>\n",
       "      <td>-0.241619</td>\n",
       "      <td>2.014065</td>\n",
       "      <td>1</td>\n",
       "      <td>0</td>\n",
       "      <td>1</td>\n",
       "      <td>0</td>\n",
       "      <td>0</td>\n",
       "      <td>1</td>\n",
       "      <td>0</td>\n",
       "      <td>0</td>\n",
       "      <td>0</td>\n",
       "      <td>0</td>\n",
       "      <td>0</td>\n",
       "      <td>0</td>\n",
       "      <td>0</td>\n",
       "      <td>0</td>\n",
       "      <td>0</td>\n",
       "      <td>0</td>\n",
       "      <td>0</td>\n",
       "      <td>0</td>\n",
       "      <td>0</td>\n",
       "      <td>1</td>\n",
       "      <td>0</td>\n",
       "      <td>0</td>\n",
       "      <td>0</td>\n",
       "      <td>0</td>\n",
       "      <td>1</td>\n",
       "      <td>0</td>\n",
       "      <td>0</td>\n",
       "      <td>0</td>\n",
       "      <td>0</td>\n",
       "      <td>0</td>\n",
       "      <td>1</td>\n",
       "      <td>0</td>\n",
       "      <td>0</td>\n",
       "      <td>0</td>\n",
       "      <td>0</td>\n",
       "      <td>0</td>\n",
       "      <td>0</td>\n",
       "      <td>0</td>\n",
       "      <td>0</td>\n",
       "      <td>0</td>\n",
       "      <td>0</td>\n",
       "      <td>1</td>\n",
       "      <td>0</td>\n",
       "      <td>0</td>\n",
       "      <td>0</td>\n",
       "      <td>0</td>\n",
       "      <td>0</td>\n",
       "      <td>0</td>\n",
       "      <td>0</td>\n",
       "      <td>1</td>\n",
       "    </tr>\n",
       "    <tr>\n",
       "      <th>3241</th>\n",
       "      <td>0</td>\n",
       "      <td>0.294642</td>\n",
       "      <td>0.897591</td>\n",
       "      <td>-0.492776</td>\n",
       "      <td>1</td>\n",
       "      <td>0</td>\n",
       "      <td>1</td>\n",
       "      <td>0</td>\n",
       "      <td>0</td>\n",
       "      <td>1</td>\n",
       "      <td>0</td>\n",
       "      <td>0</td>\n",
       "      <td>0</td>\n",
       "      <td>0</td>\n",
       "      <td>0</td>\n",
       "      <td>0</td>\n",
       "      <td>0</td>\n",
       "      <td>0</td>\n",
       "      <td>0</td>\n",
       "      <td>0</td>\n",
       "      <td>0</td>\n",
       "      <td>0</td>\n",
       "      <td>0</td>\n",
       "      <td>1</td>\n",
       "      <td>0</td>\n",
       "      <td>1</td>\n",
       "      <td>0</td>\n",
       "      <td>0</td>\n",
       "      <td>0</td>\n",
       "      <td>0</td>\n",
       "      <td>0</td>\n",
       "      <td>0</td>\n",
       "      <td>0</td>\n",
       "      <td>0</td>\n",
       "      <td>1</td>\n",
       "      <td>0</td>\n",
       "      <td>0</td>\n",
       "      <td>0</td>\n",
       "      <td>0</td>\n",
       "      <td>0</td>\n",
       "      <td>0</td>\n",
       "      <td>0</td>\n",
       "      <td>0</td>\n",
       "      <td>0</td>\n",
       "      <td>0</td>\n",
       "      <td>0</td>\n",
       "      <td>1</td>\n",
       "      <td>0</td>\n",
       "      <td>0</td>\n",
       "      <td>0</td>\n",
       "      <td>0</td>\n",
       "      <td>0</td>\n",
       "      <td>0</td>\n",
       "      <td>1</td>\n",
       "    </tr>\n",
       "  </tbody>\n",
       "</table>\n",
       "</div>"
      ],
      "text/plain": [
       "      Do Not Email  TotalVisits  Total Time Spent on Website  \\\n",
       "302              0     1.336782                    -0.428736   \n",
       "6087             1    -1.094877                    -0.887355   \n",
       "1033             0     0.642022                    -0.025151   \n",
       "7656             1     0.989402                    -0.241619   \n",
       "3241             0     0.294642                     0.897591   \n",
       "\n",
       "      Page Views Per Visit  A free copy of Mastering The Interview  \\\n",
       "302               0.044021                                       0   \n",
       "6087             -1.206716                                       0   \n",
       "1033              1.477269                                       0   \n",
       "7656              2.014065                                       1   \n",
       "3241             -0.492776                                       1   \n",
       "\n",
       "      Lead_Origin_API  Lead_Origin_Landing Page Submission  \\\n",
       "302                 1                                    0   \n",
       "6087                1                                    0   \n",
       "1033                1                                    0   \n",
       "7656                0                                    1   \n",
       "3241                0                                    1   \n",
       "\n",
       "      Lead_Origin_Lead Add Form  Lead_Origin_Lead Import  \\\n",
       "302                           0                        0   \n",
       "6087                          0                        0   \n",
       "1033                          0                        0   \n",
       "7656                          0                        0   \n",
       "3241                          0                        0   \n",
       "\n",
       "      Lead_Source_Direct Traffic  Lead_Source_Google  Lead_Source_Olark Chat  \\\n",
       "302                            0                   0                       0   \n",
       "6087                           0                   0                       1   \n",
       "1033                           0                   1                       0   \n",
       "7656                           1                   0                       0   \n",
       "3241                           1                   0                       0   \n",
       "\n",
       "      Lead_Source_Organic Search  Lead_Source_Reference  \\\n",
       "302                            0                      0   \n",
       "6087                           0                      0   \n",
       "1033                           0                      0   \n",
       "7656                           0                      0   \n",
       "3241                           0                      0   \n",
       "\n",
       "      Lead_Source_Referral Sites  Lead_Source_Welingak Website  \\\n",
       "302                            1                             0   \n",
       "6087                           0                             0   \n",
       "1033                           0                             0   \n",
       "7656                           0                             0   \n",
       "3241                           0                             0   \n",
       "\n",
       "      Last_Activity_Converted to Lead  Last_Activity_Email Bounced  \\\n",
       "302                                 0                            0   \n",
       "6087                                0                            1   \n",
       "1033                                0                            0   \n",
       "7656                                0                            0   \n",
       "3241                                0                            0   \n",
       "\n",
       "      Last_Activity_Email Link Clicked  Last_Activity_Email Opened  \\\n",
       "302                                  0                           1   \n",
       "6087                                 0                           0   \n",
       "1033                                 0                           1   \n",
       "7656                                 0                           0   \n",
       "3241                                 0                           0   \n",
       "\n",
       "      Last_Activity_Form Submitted on Website  \\\n",
       "302                                         0   \n",
       "6087                                        0   \n",
       "1033                                        0   \n",
       "7656                                        0   \n",
       "3241                                        0   \n",
       "\n",
       "      Last_Activity_Olark Chat Conversation  \\\n",
       "302                                       0   \n",
       "6087                                      0   \n",
       "1033                                      0   \n",
       "7656                                      0   \n",
       "3241                                      0   \n",
       "\n",
       "      Last_Activity_Page Visited on Website  Last_Activity_SMS Sent  \\\n",
       "302                                       0                       0   \n",
       "6087                                      0                       0   \n",
       "1033                                      0                       0   \n",
       "7656                                      0                       1   \n",
       "3241                                      0                       1   \n",
       "\n",
       "      Specialization_Banking, Investment And Insurance  \\\n",
       "302                                                  0   \n",
       "6087                                                 0   \n",
       "1033                                                 0   \n",
       "7656                                                 0   \n",
       "3241                                                 0   \n",
       "\n",
       "      Specialization_Business Administration  \\\n",
       "302                                        0   \n",
       "6087                                       0   \n",
       "1033                                       0   \n",
       "7656                                       0   \n",
       "3241                                       1   \n",
       "\n",
       "      Specialization_Business Specializations  Specialization_E-COMMERCE  \\\n",
       "302                                         0                          0   \n",
       "6087                                        0                          0   \n",
       "1033                                        0                          0   \n",
       "7656                                        0                          0   \n",
       "3241                                        0                          0   \n",
       "\n",
       "      Specialization_Management Specializations  \\\n",
       "302                                           0   \n",
       "6087                                          0   \n",
       "1033                                          0   \n",
       "7656                                          1   \n",
       "3241                                          0   \n",
       "\n",
       "      Specialization_Media and Advertising  \\\n",
       "302                                      0   \n",
       "6087                                     0   \n",
       "1033                                     0   \n",
       "7656                                     0   \n",
       "3241                                     0   \n",
       "\n",
       "      Specialization_Services Excellence  Specialization_Travel and Tourism  \\\n",
       "302                                    0                                  0   \n",
       "6087                                   0                                  0   \n",
       "1033                                   0                                  0   \n",
       "7656                                   0                                  0   \n",
       "3241                                   0                                  0   \n",
       "\n",
       "      current_occupation_Not mentioned  current_occupation_Student  \\\n",
       "302                                  1                           0   \n",
       "6087                                 1                           0   \n",
       "1033                                 0                           0   \n",
       "7656                                 0                           0   \n",
       "3241                                 0                           0   \n",
       "\n",
       "      current_occupation_Unemployed  current_occupation_Working Professional  \\\n",
       "302                               0                                        0   \n",
       "6087                              0                                        0   \n",
       "1033                              1                                        0   \n",
       "7656                              1                                        0   \n",
       "3241                              1                                        0   \n",
       "\n",
       "      Tags_Already a student  Tags_Busy  Tags_Closed by Horizzon  \\\n",
       "302                        0          0                        0   \n",
       "6087                       0          0                        0   \n",
       "1033                       0          0                        0   \n",
       "7656                       0          0                        0   \n",
       "3241                       0          0                        0   \n",
       "\n",
       "      Tags_Graduation in progress  Tags_Interested  in full time MBA  \\\n",
       "302                             0                                  0   \n",
       "6087                            0                                  0   \n",
       "1033                            0                                  0   \n",
       "7656                            0                                  0   \n",
       "3241                            0                                  0   \n",
       "\n",
       "      Tags_Interested in other courses  Tags_Lost to EINS  \\\n",
       "302                                  0                  0   \n",
       "6087                                 0                  0   \n",
       "1033                                 0                  0   \n",
       "7656                                 0                  0   \n",
       "3241                                 0                  0   \n",
       "\n",
       "      Tags_Not doing further education  Tags_Others  Tags_Ringing  \\\n",
       "302                                  0            0             0   \n",
       "6087                                 0            0             0   \n",
       "1033                                 0            0             0   \n",
       "7656                                 0            0             1   \n",
       "3241                                 0            0             0   \n",
       "\n",
       "      Tags_Will revert after reading the email  Tags_switched off  \\\n",
       "302                                          0                  0   \n",
       "6087                                         0                  0   \n",
       "1033                                         0                  0   \n",
       "7656                                         0                  0   \n",
       "3241                                         1                  0   \n",
       "\n",
       "      Last_Notable_Activity_Email Link Clicked  \\\n",
       "302                                          0   \n",
       "6087                                         0   \n",
       "1033                                         0   \n",
       "7656                                         0   \n",
       "3241                                         0   \n",
       "\n",
       "      Last_Notable_Activity_Email Opened  Last_Notable_Activity_Modified  \\\n",
       "302                                    1                               0   \n",
       "6087                                   0                               1   \n",
       "1033                                   1                               0   \n",
       "7656                                   0                               0   \n",
       "3241                                   0                               0   \n",
       "\n",
       "      Last_Notable_Activity_Olark Chat Conversation  \\\n",
       "302                                               0   \n",
       "6087                                              0   \n",
       "1033                                              0   \n",
       "7656                                              0   \n",
       "3241                                              0   \n",
       "\n",
       "      Last_Notable_Activity_Page Visited on Website  \\\n",
       "302                                               0   \n",
       "6087                                              0   \n",
       "1033                                              0   \n",
       "7656                                              0   \n",
       "3241                                              0   \n",
       "\n",
       "      Last_Notable_Activity_SMS Sent  \n",
       "302                                0  \n",
       "6087                               0  \n",
       "1033                               0  \n",
       "7656                               1  \n",
       "3241                               1  "
      ]
     },
     "execution_count": 139,
     "metadata": {},
     "output_type": "execute_result"
    }
   ],
   "source": [
    "# Applying scaler() to continuous variables \n",
    "#fitting on data\n",
    "num = ['TotalVisits','Total Time Spent on Website','Page Views Per Visit']\n",
    "X_train[num] = scaler.fit_transform(X_train[num])\n",
    "X_train.head()"
   ]
  },
  {
   "cell_type": "code",
   "execution_count": 140,
   "id": "f877d9ab",
   "metadata": {},
   "outputs": [
    {
     "data": {
      "text/html": [
       "<div>\n",
       "<style scoped>\n",
       "    .dataframe tbody tr th:only-of-type {\n",
       "        vertical-align: middle;\n",
       "    }\n",
       "\n",
       "    .dataframe tbody tr th {\n",
       "        vertical-align: top;\n",
       "    }\n",
       "\n",
       "    .dataframe thead th {\n",
       "        text-align: right;\n",
       "    }\n",
       "</style>\n",
       "<table border=\"1\" class=\"dataframe\">\n",
       "  <thead>\n",
       "    <tr style=\"text-align: right;\">\n",
       "      <th></th>\n",
       "      <th>TotalVisits</th>\n",
       "      <th>Total Time Spent on Website</th>\n",
       "      <th>Page Views Per Visit</th>\n",
       "    </tr>\n",
       "  </thead>\n",
       "  <tbody>\n",
       "    <tr>\n",
       "      <th>count</th>\n",
       "      <td>9090.000000</td>\n",
       "      <td>9090.000000</td>\n",
       "      <td>9090.000000</td>\n",
       "    </tr>\n",
       "    <tr>\n",
       "      <th>mean</th>\n",
       "      <td>3.140924</td>\n",
       "      <td>484.243784</td>\n",
       "      <td>2.262836</td>\n",
       "    </tr>\n",
       "    <tr>\n",
       "      <th>std</th>\n",
       "      <td>2.881884</td>\n",
       "      <td>547.243973</td>\n",
       "      <td>1.881164</td>\n",
       "    </tr>\n",
       "    <tr>\n",
       "      <th>min</th>\n",
       "      <td>0.000000</td>\n",
       "      <td>0.000000</td>\n",
       "      <td>0.000000</td>\n",
       "    </tr>\n",
       "    <tr>\n",
       "      <th>25%</th>\n",
       "      <td>1.000000</td>\n",
       "      <td>9.000000</td>\n",
       "      <td>1.000000</td>\n",
       "    </tr>\n",
       "    <tr>\n",
       "      <th>50%</th>\n",
       "      <td>3.000000</td>\n",
       "      <td>246.000000</td>\n",
       "      <td>2.000000</td>\n",
       "    </tr>\n",
       "    <tr>\n",
       "      <th>75%</th>\n",
       "      <td>4.000000</td>\n",
       "      <td>930.000000</td>\n",
       "      <td>3.000000</td>\n",
       "    </tr>\n",
       "    <tr>\n",
       "      <th>max</th>\n",
       "      <td>17.000000</td>\n",
       "      <td>2272.000000</td>\n",
       "      <td>9.000000</td>\n",
       "    </tr>\n",
       "  </tbody>\n",
       "</table>\n",
       "</div>"
      ],
      "text/plain": [
       "       TotalVisits  Total Time Spent on Website  Page Views Per Visit\n",
       "count  9090.000000                  9090.000000           9090.000000\n",
       "mean      3.140924                   484.243784              2.262836\n",
       "std       2.881884                   547.243973              1.881164\n",
       "min       0.000000                     0.000000              0.000000\n",
       "25%       1.000000                     9.000000              1.000000\n",
       "50%       3.000000                   246.000000              2.000000\n",
       "75%       4.000000                   930.000000              3.000000\n",
       "max      17.000000                  2272.000000              9.000000"
      ]
     },
     "execution_count": 140,
     "metadata": {},
     "output_type": "execute_result"
    }
   ],
   "source": [
    "df[num].describe()"
   ]
  },
  {
   "cell_type": "code",
   "execution_count": 141,
   "id": "2c5e8799",
   "metadata": {},
   "outputs": [
    {
     "data": {
      "text/html": [
       "<div>\n",
       "<style scoped>\n",
       "    .dataframe tbody tr th:only-of-type {\n",
       "        vertical-align: middle;\n",
       "    }\n",
       "\n",
       "    .dataframe tbody tr th {\n",
       "        vertical-align: top;\n",
       "    }\n",
       "\n",
       "    .dataframe thead th {\n",
       "        text-align: right;\n",
       "    }\n",
       "</style>\n",
       "<table border=\"1\" class=\"dataframe\">\n",
       "  <thead>\n",
       "    <tr style=\"text-align: right;\">\n",
       "      <th></th>\n",
       "      <th>TotalVisits</th>\n",
       "      <th>Total Time Spent on Website</th>\n",
       "      <th>Page Views Per Visit</th>\n",
       "    </tr>\n",
       "  </thead>\n",
       "  <tbody>\n",
       "    <tr>\n",
       "      <th>count</th>\n",
       "      <td>6.363000e+03</td>\n",
       "      <td>6.363000e+03</td>\n",
       "      <td>6.363000e+03</td>\n",
       "    </tr>\n",
       "    <tr>\n",
       "      <th>mean</th>\n",
       "      <td>-4.933627e-16</td>\n",
       "      <td>-1.354671e-16</td>\n",
       "      <td>2.880333e-16</td>\n",
       "    </tr>\n",
       "    <tr>\n",
       "      <th>std</th>\n",
       "      <td>1.000079e+00</td>\n",
       "      <td>1.000079e+00</td>\n",
       "      <td>1.000079e+00</td>\n",
       "    </tr>\n",
       "    <tr>\n",
       "      <th>min</th>\n",
       "      <td>-1.094877e+00</td>\n",
       "      <td>-8.873549e-01</td>\n",
       "      <td>-1.206716e+00</td>\n",
       "    </tr>\n",
       "    <tr>\n",
       "      <th>25%</th>\n",
       "      <td>-7.474975e-01</td>\n",
       "      <td>-8.671756e-01</td>\n",
       "      <td>-6.699187e-01</td>\n",
       "    </tr>\n",
       "    <tr>\n",
       "      <th>50%</th>\n",
       "      <td>-5.273755e-02</td>\n",
       "      <td>-4.360736e-01</td>\n",
       "      <td>-1.331219e-01</td>\n",
       "    </tr>\n",
       "    <tr>\n",
       "      <th>75%</th>\n",
       "      <td>6.420224e-01</td>\n",
       "      <td>8.168741e-01</td>\n",
       "      <td>4.036749e-01</td>\n",
       "    </tr>\n",
       "    <tr>\n",
       "      <th>max</th>\n",
       "      <td>4.810582e+00</td>\n",
       "      <td>3.280576e+00</td>\n",
       "      <td>3.624456e+00</td>\n",
       "    </tr>\n",
       "  </tbody>\n",
       "</table>\n",
       "</div>"
      ],
      "text/plain": [
       "        TotalVisits  Total Time Spent on Website  Page Views Per Visit\n",
       "count  6.363000e+03                 6.363000e+03          6.363000e+03\n",
       "mean  -4.933627e-16                -1.354671e-16          2.880333e-16\n",
       "std    1.000079e+00                 1.000079e+00          1.000079e+00\n",
       "min   -1.094877e+00                -8.873549e-01         -1.206716e+00\n",
       "25%   -7.474975e-01                -8.671756e-01         -6.699187e-01\n",
       "50%   -5.273755e-02                -4.360736e-01         -1.331219e-01\n",
       "75%    6.420224e-01                 8.168741e-01          4.036749e-01\n",
       "max    4.810582e+00                 3.280576e+00          3.624456e+00"
      ]
     },
     "execution_count": 141,
     "metadata": {},
     "output_type": "execute_result"
    }
   ],
   "source": [
    "X_train[num].describe()"
   ]
  },
  {
   "cell_type": "markdown",
   "id": "d16305b4",
   "metadata": {},
   "source": [
    "- Now,none of the variables will have a disproportionate effect on the model’s results."
   ]
  },
  {
   "cell_type": "markdown",
   "id": "a880d99b",
   "metadata": {},
   "source": [
    "#### Conversion rate and class imbalance"
   ]
  },
  {
   "cell_type": "code",
   "execution_count": 142,
   "id": "015d824c",
   "metadata": {},
   "outputs": [
    {
     "data": {
      "text/plain": [
       "38.44884488448845"
      ]
     },
     "execution_count": 142,
     "metadata": {},
     "output_type": "execute_result"
    }
   ],
   "source": [
    "# y = 'Converted'\n",
    "# ### Checking the Conversion Rate\n",
    "conversion_rate =100* sum(y)/len(y)\n",
    "conversion_rate"
   ]
  },
  {
   "cell_type": "markdown",
   "id": "39d25e3a",
   "metadata": {},
   "source": [
    "- We have a lead conversion rate 38.45 \n",
    "- This is neither exactly 'balanced' (which a 50-50 ratio would be called) nor heavily imbalanced. So we'll not have to do any special treatment for this dataset."
   ]
  },
  {
   "cell_type": "markdown",
   "id": "af5e653a",
   "metadata": {},
   "source": [
    " # Step 10 : First Training Model"
   ]
  },
  {
   "cell_type": "code",
   "execution_count": 143,
   "id": "8dd52327",
   "metadata": {},
   "outputs": [],
   "source": [
    "# logistic regression model\n",
    "lgm1 = sm.GLM(y_train,(sm.add_constant(X_train)),fm = sm.families.Binomial())\n",
    "lgm1 = lgm1.fit()"
   ]
  },
  {
   "cell_type": "code",
   "execution_count": 144,
   "id": "9a099d93",
   "metadata": {
    "scrolled": true
   },
   "outputs": [
    {
     "data": {
      "text/html": [
       "<table class=\"simpletable\">\n",
       "<caption>Generalized Linear Model Regression Results</caption>\n",
       "<tr>\n",
       "  <th>Dep. Variable:</th>       <td>Converted</td>    <th>  No. Observations:  </th>  <td>  6363</td> \n",
       "</tr>\n",
       "<tr>\n",
       "  <th>Model:</th>                  <td>GLM</td>       <th>  Df Residuals:      </th>  <td>  6308</td> \n",
       "</tr>\n",
       "<tr>\n",
       "  <th>Model Family:</th>        <td>Gaussian</td>     <th>  Df Model:          </th>  <td>    54</td> \n",
       "</tr>\n",
       "<tr>\n",
       "  <th>Link Function:</th>       <td>identity</td>     <th>  Scale:             </th> <td>0.058168</td>\n",
       "</tr>\n",
       "<tr>\n",
       "  <th>Method:</th>                <td>IRLS</td>       <th>  Log-Likelihood:    </th> <td>  48.462</td>\n",
       "</tr>\n",
       "<tr>\n",
       "  <th>Date:</th>            <td>Tue, 09 Aug 2022</td> <th>  Deviance:          </th> <td>  366.92</td>\n",
       "</tr>\n",
       "<tr>\n",
       "  <th>Time:</th>                <td>15:42:49</td>     <th>  Pearson chi2:      </th>  <td>  367.</td> \n",
       "</tr>\n",
       "<tr>\n",
       "  <th>No. Iterations:</th>          <td>3</td>        <th>                     </th>     <td> </td>   \n",
       "</tr>\n",
       "<tr>\n",
       "  <th>Covariance Type:</th>     <td>nonrobust</td>    <th>                     </th>     <td> </td>   \n",
       "</tr>\n",
       "</table>\n",
       "<table class=\"simpletable\">\n",
       "<tr>\n",
       "                          <td></td>                            <th>coef</th>     <th>std err</th>      <th>z</th>      <th>P>|z|</th>  <th>[0.025</th>    <th>0.975]</th>  \n",
       "</tr>\n",
       "<tr>\n",
       "  <th>const</th>                                            <td>    0.9948</td> <td>    0.259</td> <td>    3.848</td> <td> 0.000</td> <td>    0.488</td> <td>    1.502</td>\n",
       "</tr>\n",
       "<tr>\n",
       "  <th>Do Not Email</th>                                     <td>   -0.0521</td> <td>    0.015</td> <td>   -3.384</td> <td> 0.001</td> <td>   -0.082</td> <td>   -0.022</td>\n",
       "</tr>\n",
       "<tr>\n",
       "  <th>TotalVisits</th>                                      <td>    0.0119</td> <td>    0.005</td> <td>    2.517</td> <td> 0.012</td> <td>    0.003</td> <td>    0.021</td>\n",
       "</tr>\n",
       "<tr>\n",
       "  <th>Total Time Spent on Website</th>                      <td>    0.0743</td> <td>    0.004</td> <td>   20.429</td> <td> 0.000</td> <td>    0.067</td> <td>    0.081</td>\n",
       "</tr>\n",
       "<tr>\n",
       "  <th>Page Views Per Visit</th>                             <td>   -0.0160</td> <td>    0.005</td> <td>   -3.124</td> <td> 0.002</td> <td>   -0.026</td> <td>   -0.006</td>\n",
       "</tr>\n",
       "<tr>\n",
       "  <th>A free copy of Mastering The Interview</th>           <td>   -0.0090</td> <td>    0.010</td> <td>   -0.926</td> <td> 0.355</td> <td>   -0.028</td> <td>    0.010</td>\n",
       "</tr>\n",
       "<tr>\n",
       "  <th>Lead_Origin_API</th>                                  <td>   -0.2977</td> <td>    0.244</td> <td>   -1.219</td> <td> 0.223</td> <td>   -0.776</td> <td>    0.181</td>\n",
       "</tr>\n",
       "<tr>\n",
       "  <th>Lead_Origin_Landing Page Submission</th>              <td>   -0.3365</td> <td>    0.244</td> <td>   -1.379</td> <td> 0.168</td> <td>   -0.815</td> <td>    0.142</td>\n",
       "</tr>\n",
       "<tr>\n",
       "  <th>Lead_Origin_Lead Add Form</th>                        <td>   -0.1958</td> <td>    0.249</td> <td>   -0.786</td> <td> 0.432</td> <td>   -0.684</td> <td>    0.292</td>\n",
       "</tr>\n",
       "<tr>\n",
       "  <th>Lead_Origin_Lead Import</th>                          <td>   -0.3159</td> <td>    0.255</td> <td>   -1.238</td> <td> 0.216</td> <td>   -0.816</td> <td>    0.184</td>\n",
       "</tr>\n",
       "<tr>\n",
       "  <th>Lead_Source_Direct Traffic</th>                       <td>   -0.0437</td> <td>    0.062</td> <td>   -0.702</td> <td> 0.483</td> <td>   -0.166</td> <td>    0.078</td>\n",
       "</tr>\n",
       "<tr>\n",
       "  <th>Lead_Source_Google</th>                               <td>   -0.0261</td> <td>    0.062</td> <td>   -0.422</td> <td> 0.673</td> <td>   -0.147</td> <td>    0.095</td>\n",
       "</tr>\n",
       "<tr>\n",
       "  <th>Lead_Source_Olark Chat</th>                           <td>    0.0058</td> <td>    0.063</td> <td>    0.093</td> <td> 0.926</td> <td>   -0.117</td> <td>    0.129</td>\n",
       "</tr>\n",
       "<tr>\n",
       "  <th>Lead_Source_Organic Search</th>                       <td>   -0.0345</td> <td>    0.062</td> <td>   -0.552</td> <td> 0.581</td> <td>   -0.157</td> <td>    0.088</td>\n",
       "</tr>\n",
       "<tr>\n",
       "  <th>Lead_Source_Reference</th>                            <td>   -0.0812</td> <td>    0.072</td> <td>   -1.123</td> <td> 0.262</td> <td>   -0.223</td> <td>    0.061</td>\n",
       "</tr>\n",
       "<tr>\n",
       "  <th>Lead_Source_Referral Sites</th>                       <td>   -0.0119</td> <td>    0.068</td> <td>   -0.176</td> <td> 0.860</td> <td>   -0.145</td> <td>    0.121</td>\n",
       "</tr>\n",
       "<tr>\n",
       "  <th>Lead_Source_Welingak Website</th>                     <td>    0.1708</td> <td>    0.075</td> <td>    2.284</td> <td> 0.022</td> <td>    0.024</td> <td>    0.317</td>\n",
       "</tr>\n",
       "<tr>\n",
       "  <th>Last_Activity_Converted to Lead</th>                  <td>   -0.0656</td> <td>    0.029</td> <td>   -2.260</td> <td> 0.024</td> <td>   -0.122</td> <td>   -0.009</td>\n",
       "</tr>\n",
       "<tr>\n",
       "  <th>Last_Activity_Email Bounced</th>                      <td>   -0.0794</td> <td>    0.030</td> <td>   -2.672</td> <td> 0.008</td> <td>   -0.138</td> <td>   -0.021</td>\n",
       "</tr>\n",
       "<tr>\n",
       "  <th>Last_Activity_Email Link Clicked</th>                 <td>   -0.0282</td> <td>    0.039</td> <td>   -0.726</td> <td> 0.468</td> <td>   -0.104</td> <td>    0.048</td>\n",
       "</tr>\n",
       "<tr>\n",
       "  <th>Last_Activity_Email Opened</th>                       <td>   -0.0544</td> <td>    0.027</td> <td>   -1.995</td> <td> 0.046</td> <td>   -0.108</td> <td>   -0.001</td>\n",
       "</tr>\n",
       "<tr>\n",
       "  <th>Last_Activity_Form Submitted on Website</th>          <td>   -0.0572</td> <td>    0.037</td> <td>   -1.562</td> <td> 0.118</td> <td>   -0.129</td> <td>    0.015</td>\n",
       "</tr>\n",
       "<tr>\n",
       "  <th>Last_Activity_Olark Chat Conversation</th>            <td>   -0.0942</td> <td>    0.028</td> <td>   -3.420</td> <td> 0.001</td> <td>   -0.148</td> <td>   -0.040</td>\n",
       "</tr>\n",
       "<tr>\n",
       "  <th>Last_Activity_Page Visited on Website</th>            <td>   -0.0495</td> <td>    0.030</td> <td>   -1.671</td> <td> 0.095</td> <td>   -0.108</td> <td>    0.009</td>\n",
       "</tr>\n",
       "<tr>\n",
       "  <th>Last_Activity_SMS Sent</th>                           <td>    0.0129</td> <td>    0.028</td> <td>    0.468</td> <td> 0.640</td> <td>   -0.041</td> <td>    0.067</td>\n",
       "</tr>\n",
       "<tr>\n",
       "  <th>Specialization_Banking, Investment And Insurance</th> <td>    0.0350</td> <td>    0.019</td> <td>    1.819</td> <td> 0.069</td> <td>   -0.003</td> <td>    0.073</td>\n",
       "</tr>\n",
       "<tr>\n",
       "  <th>Specialization_Business Administration</th>           <td>    0.0242</td> <td>    0.018</td> <td>    1.334</td> <td> 0.182</td> <td>   -0.011</td> <td>    0.060</td>\n",
       "</tr>\n",
       "<tr>\n",
       "  <th>Specialization_Business Specializations</th>          <td>    0.0340</td> <td>    0.020</td> <td>    1.701</td> <td> 0.089</td> <td>   -0.005</td> <td>    0.073</td>\n",
       "</tr>\n",
       "<tr>\n",
       "  <th>Specialization_E-COMMERCE</th>                        <td>    0.0513</td> <td>    0.030</td> <td>    1.687</td> <td> 0.092</td> <td>   -0.008</td> <td>    0.111</td>\n",
       "</tr>\n",
       "<tr>\n",
       "  <th>Specialization_Management Specializations</th>        <td>    0.0298</td> <td>    0.012</td> <td>    2.535</td> <td> 0.011</td> <td>    0.007</td> <td>    0.053</td>\n",
       "</tr>\n",
       "<tr>\n",
       "  <th>Specialization_Media and Advertising</th>             <td>    0.0020</td> <td>    0.024</td> <td>    0.083</td> <td> 0.934</td> <td>   -0.044</td> <td>    0.048</td>\n",
       "</tr>\n",
       "<tr>\n",
       "  <th>Specialization_Services Excellence</th>               <td>    0.0062</td> <td>    0.047</td> <td>    0.132</td> <td> 0.895</td> <td>   -0.086</td> <td>    0.099</td>\n",
       "</tr>\n",
       "<tr>\n",
       "  <th>Specialization_Travel and Tourism</th>                <td>    0.0055</td> <td>    0.024</td> <td>    0.227</td> <td> 0.820</td> <td>   -0.042</td> <td>    0.053</td>\n",
       "</tr>\n",
       "<tr>\n",
       "  <th>current_occupation_Not mentioned</th>                 <td>   -0.4449</td> <td>    0.051</td> <td>   -8.722</td> <td> 0.000</td> <td>   -0.545</td> <td>   -0.345</td>\n",
       "</tr>\n",
       "<tr>\n",
       "  <th>current_occupation_Student</th>                       <td>   -0.0853</td> <td>    0.054</td> <td>   -1.573</td> <td> 0.116</td> <td>   -0.192</td> <td>    0.021</td>\n",
       "</tr>\n",
       "<tr>\n",
       "  <th>current_occupation_Unemployed</th>                    <td>   -0.0636</td> <td>    0.050</td> <td>   -1.275</td> <td> 0.202</td> <td>   -0.161</td> <td>    0.034</td>\n",
       "</tr>\n",
       "<tr>\n",
       "  <th>current_occupation_Working Professional</th>          <td>   -0.0613</td> <td>    0.051</td> <td>   -1.208</td> <td> 0.227</td> <td>   -0.161</td> <td>    0.038</td>\n",
       "</tr>\n",
       "<tr>\n",
       "  <th>Tags_Already a student</th>                           <td>   -0.4590</td> <td>    0.018</td> <td>  -25.102</td> <td> 0.000</td> <td>   -0.495</td> <td>   -0.423</td>\n",
       "</tr>\n",
       "<tr>\n",
       "  <th>Tags_Busy</th>                                        <td>   -0.1033</td> <td>    0.024</td> <td>   -4.282</td> <td> 0.000</td> <td>   -0.151</td> <td>   -0.056</td>\n",
       "</tr>\n",
       "<tr>\n",
       "  <th>Tags_Closed by Horizzon</th>                          <td>    0.3949</td> <td>    0.021</td> <td>   18.940</td> <td> 0.000</td> <td>    0.354</td> <td>    0.436</td>\n",
       "</tr>\n",
       "<tr>\n",
       "  <th>Tags_Graduation in progress</th>                      <td>   -0.3967</td> <td>    0.029</td> <td>  -13.661</td> <td> 0.000</td> <td>   -0.454</td> <td>   -0.340</td>\n",
       "</tr>\n",
       "<tr>\n",
       "  <th>Tags_Interested  in full time MBA</th>                <td>   -0.4569</td> <td>    0.029</td> <td>  -15.750</td> <td> 0.000</td> <td>   -0.514</td> <td>   -0.400</td>\n",
       "</tr>\n",
       "<tr>\n",
       "  <th>Tags_Interested in other courses</th>                 <td>   -0.4322</td> <td>    0.017</td> <td>  -25.108</td> <td> 0.000</td> <td>   -0.466</td> <td>   -0.398</td>\n",
       "</tr>\n",
       "<tr>\n",
       "  <th>Tags_Lost to EINS</th>                                <td>    0.5373</td> <td>    0.023</td> <td>   23.134</td> <td> 0.000</td> <td>    0.492</td> <td>    0.583</td>\n",
       "</tr>\n",
       "<tr>\n",
       "  <th>Tags_Not doing further education</th>                 <td>   -0.4503</td> <td>    0.028</td> <td>  -16.192</td> <td> 0.000</td> <td>   -0.505</td> <td>   -0.396</td>\n",
       "</tr>\n",
       "<tr>\n",
       "  <th>Tags_Others</th>                                      <td>   -0.4779</td> <td>    0.021</td> <td>  -23.288</td> <td> 0.000</td> <td>   -0.518</td> <td>   -0.438</td>\n",
       "</tr>\n",
       "<tr>\n",
       "  <th>Tags_Ringing</th>                                     <td>   -0.5360</td> <td>    0.014</td> <td>  -37.980</td> <td> 0.000</td> <td>   -0.564</td> <td>   -0.508</td>\n",
       "</tr>\n",
       "<tr>\n",
       "  <th>Tags_Will revert after reading the email</th>         <td>    0.2903</td> <td>    0.014</td> <td>   21.498</td> <td> 0.000</td> <td>    0.264</td> <td>    0.317</td>\n",
       "</tr>\n",
       "<tr>\n",
       "  <th>Tags_switched off</th>                                <td>   -0.5645</td> <td>    0.022</td> <td>  -26.134</td> <td> 0.000</td> <td>   -0.607</td> <td>   -0.522</td>\n",
       "</tr>\n",
       "<tr>\n",
       "  <th>Last_Notable_Activity_Email Link Clicked</th>         <td>   -0.0824</td> <td>    0.048</td> <td>   -1.723</td> <td> 0.085</td> <td>   -0.176</td> <td>    0.011</td>\n",
       "</tr>\n",
       "<tr>\n",
       "  <th>Last_Notable_Activity_Email Opened</th>               <td>    0.0049</td> <td>    0.033</td> <td>    0.152</td> <td> 0.879</td> <td>   -0.059</td> <td>    0.069</td>\n",
       "</tr>\n",
       "<tr>\n",
       "  <th>Last_Notable_Activity_Modified</th>                   <td>   -0.0628</td> <td>    0.030</td> <td>   -2.088</td> <td> 0.037</td> <td>   -0.122</td> <td>   -0.004</td>\n",
       "</tr>\n",
       "<tr>\n",
       "  <th>Last_Notable_Activity_Olark Chat Conversation</th>    <td>   -0.0883</td> <td>    0.038</td> <td>   -2.326</td> <td> 0.020</td> <td>   -0.163</td> <td>   -0.014</td>\n",
       "</tr>\n",
       "<tr>\n",
       "  <th>Last_Notable_Activity_Page Visited on Website</th>    <td>   -0.0411</td> <td>    0.038</td> <td>   -1.074</td> <td> 0.283</td> <td>   -0.116</td> <td>    0.034</td>\n",
       "</tr>\n",
       "<tr>\n",
       "  <th>Last_Notable_Activity_SMS Sent</th>                   <td>    0.1155</td> <td>    0.033</td> <td>    3.487</td> <td> 0.000</td> <td>    0.051</td> <td>    0.181</td>\n",
       "</tr>\n",
       "</table>"
      ],
      "text/plain": [
       "<class 'statsmodels.iolib.summary.Summary'>\n",
       "\"\"\"\n",
       "                 Generalized Linear Model Regression Results                  \n",
       "==============================================================================\n",
       "Dep. Variable:              Converted   No. Observations:                 6363\n",
       "Model:                            GLM   Df Residuals:                     6308\n",
       "Model Family:                Gaussian   Df Model:                           54\n",
       "Link Function:               identity   Scale:                        0.058168\n",
       "Method:                          IRLS   Log-Likelihood:                 48.462\n",
       "Date:                Tue, 09 Aug 2022   Deviance:                       366.92\n",
       "Time:                        15:42:49   Pearson chi2:                     367.\n",
       "No. Iterations:                     3                                         \n",
       "Covariance Type:            nonrobust                                         \n",
       "====================================================================================================================\n",
       "                                                       coef    std err          z      P>|z|      [0.025      0.975]\n",
       "--------------------------------------------------------------------------------------------------------------------\n",
       "const                                                0.9948      0.259      3.848      0.000       0.488       1.502\n",
       "Do Not Email                                        -0.0521      0.015     -3.384      0.001      -0.082      -0.022\n",
       "TotalVisits                                          0.0119      0.005      2.517      0.012       0.003       0.021\n",
       "Total Time Spent on Website                          0.0743      0.004     20.429      0.000       0.067       0.081\n",
       "Page Views Per Visit                                -0.0160      0.005     -3.124      0.002      -0.026      -0.006\n",
       "A free copy of Mastering The Interview              -0.0090      0.010     -0.926      0.355      -0.028       0.010\n",
       "Lead_Origin_API                                     -0.2977      0.244     -1.219      0.223      -0.776       0.181\n",
       "Lead_Origin_Landing Page Submission                 -0.3365      0.244     -1.379      0.168      -0.815       0.142\n",
       "Lead_Origin_Lead Add Form                           -0.1958      0.249     -0.786      0.432      -0.684       0.292\n",
       "Lead_Origin_Lead Import                             -0.3159      0.255     -1.238      0.216      -0.816       0.184\n",
       "Lead_Source_Direct Traffic                          -0.0437      0.062     -0.702      0.483      -0.166       0.078\n",
       "Lead_Source_Google                                  -0.0261      0.062     -0.422      0.673      -0.147       0.095\n",
       "Lead_Source_Olark Chat                               0.0058      0.063      0.093      0.926      -0.117       0.129\n",
       "Lead_Source_Organic Search                          -0.0345      0.062     -0.552      0.581      -0.157       0.088\n",
       "Lead_Source_Reference                               -0.0812      0.072     -1.123      0.262      -0.223       0.061\n",
       "Lead_Source_Referral Sites                          -0.0119      0.068     -0.176      0.860      -0.145       0.121\n",
       "Lead_Source_Welingak Website                         0.1708      0.075      2.284      0.022       0.024       0.317\n",
       "Last_Activity_Converted to Lead                     -0.0656      0.029     -2.260      0.024      -0.122      -0.009\n",
       "Last_Activity_Email Bounced                         -0.0794      0.030     -2.672      0.008      -0.138      -0.021\n",
       "Last_Activity_Email Link Clicked                    -0.0282      0.039     -0.726      0.468      -0.104       0.048\n",
       "Last_Activity_Email Opened                          -0.0544      0.027     -1.995      0.046      -0.108      -0.001\n",
       "Last_Activity_Form Submitted on Website             -0.0572      0.037     -1.562      0.118      -0.129       0.015\n",
       "Last_Activity_Olark Chat Conversation               -0.0942      0.028     -3.420      0.001      -0.148      -0.040\n",
       "Last_Activity_Page Visited on Website               -0.0495      0.030     -1.671      0.095      -0.108       0.009\n",
       "Last_Activity_SMS Sent                               0.0129      0.028      0.468      0.640      -0.041       0.067\n",
       "Specialization_Banking, Investment And Insurance     0.0350      0.019      1.819      0.069      -0.003       0.073\n",
       "Specialization_Business Administration               0.0242      0.018      1.334      0.182      -0.011       0.060\n",
       "Specialization_Business Specializations              0.0340      0.020      1.701      0.089      -0.005       0.073\n",
       "Specialization_E-COMMERCE                            0.0513      0.030      1.687      0.092      -0.008       0.111\n",
       "Specialization_Management Specializations            0.0298      0.012      2.535      0.011       0.007       0.053\n",
       "Specialization_Media and Advertising                 0.0020      0.024      0.083      0.934      -0.044       0.048\n",
       "Specialization_Services Excellence                   0.0062      0.047      0.132      0.895      -0.086       0.099\n",
       "Specialization_Travel and Tourism                    0.0055      0.024      0.227      0.820      -0.042       0.053\n",
       "current_occupation_Not mentioned                    -0.4449      0.051     -8.722      0.000      -0.545      -0.345\n",
       "current_occupation_Student                          -0.0853      0.054     -1.573      0.116      -0.192       0.021\n",
       "current_occupation_Unemployed                       -0.0636      0.050     -1.275      0.202      -0.161       0.034\n",
       "current_occupation_Working Professional             -0.0613      0.051     -1.208      0.227      -0.161       0.038\n",
       "Tags_Already a student                              -0.4590      0.018    -25.102      0.000      -0.495      -0.423\n",
       "Tags_Busy                                           -0.1033      0.024     -4.282      0.000      -0.151      -0.056\n",
       "Tags_Closed by Horizzon                              0.3949      0.021     18.940      0.000       0.354       0.436\n",
       "Tags_Graduation in progress                         -0.3967      0.029    -13.661      0.000      -0.454      -0.340\n",
       "Tags_Interested  in full time MBA                   -0.4569      0.029    -15.750      0.000      -0.514      -0.400\n",
       "Tags_Interested in other courses                    -0.4322      0.017    -25.108      0.000      -0.466      -0.398\n",
       "Tags_Lost to EINS                                    0.5373      0.023     23.134      0.000       0.492       0.583\n",
       "Tags_Not doing further education                    -0.4503      0.028    -16.192      0.000      -0.505      -0.396\n",
       "Tags_Others                                         -0.4779      0.021    -23.288      0.000      -0.518      -0.438\n",
       "Tags_Ringing                                        -0.5360      0.014    -37.980      0.000      -0.564      -0.508\n",
       "Tags_Will revert after reading the email             0.2903      0.014     21.498      0.000       0.264       0.317\n",
       "Tags_switched off                                   -0.5645      0.022    -26.134      0.000      -0.607      -0.522\n",
       "Last_Notable_Activity_Email Link Clicked            -0.0824      0.048     -1.723      0.085      -0.176       0.011\n",
       "Last_Notable_Activity_Email Opened                   0.0049      0.033      0.152      0.879      -0.059       0.069\n",
       "Last_Notable_Activity_Modified                      -0.0628      0.030     -2.088      0.037      -0.122      -0.004\n",
       "Last_Notable_Activity_Olark Chat Conversation       -0.0883      0.038     -2.326      0.020      -0.163      -0.014\n",
       "Last_Notable_Activity_Page Visited on Website       -0.0411      0.038     -1.074      0.283      -0.116       0.034\n",
       "Last_Notable_Activity_SMS Sent                       0.1155      0.033      3.487      0.000       0.051       0.181\n",
       "====================================================================================================================\n",
       "\"\"\""
      ]
     },
     "execution_count": 144,
     "metadata": {},
     "output_type": "execute_result"
    }
   ],
   "source": [
    "lgm1.summary()"
   ]
  },
  {
   "cell_type": "markdown",
   "id": "21a846af",
   "metadata": {},
   "source": [
    "There are many variables whose p-values are high, implying that these variables are statistically insignificant. So we need to eliminate some of the variables in order to build a better model.\n",
    "\n",
    "We'll first eliminate a few features using Recursive Feature Elimination (RFE), and once we have reached a small set of variables to work with, we will use manual feature elimination (i.e. manually eliminating features based on observing the p-values and VIFs)."
   ]
  },
  {
   "cell_type": "markdown",
   "id": "fc4d871f",
   "metadata": {},
   "source": [
    "# Step 11 : Feature Selection Using RFE"
   ]
  },
  {
   "cell_type": "markdown",
   "id": "69e3e10e",
   "metadata": {},
   "source": [
    "let's import RFE and LinearRegression libraries from sklearn for implementing Linear Regression using Recurssive feature elimination"
   ]
  },
  {
   "cell_type": "code",
   "execution_count": 145,
   "id": "9f47859f",
   "metadata": {},
   "outputs": [],
   "source": [
    "from sklearn.linear_model import LogisticRegression\n",
    "from sklearn.feature_selection import RFE"
   ]
  },
  {
   "cell_type": "code",
   "execution_count": 146,
   "id": "3c650505",
   "metadata": {},
   "outputs": [
    {
     "data": {
      "text/plain": [
       "(6363, 54)"
      ]
     },
     "execution_count": 146,
     "metadata": {},
     "output_type": "execute_result"
    }
   ],
   "source": [
    "X_train.shape"
   ]
  },
  {
   "cell_type": "markdown",
   "id": "ff37d9e2",
   "metadata": {},
   "source": [
    "we have 54  varibles in X_train,since it is not feasible to use all the variables, let's consider 20 variables to start with"
   ]
  },
  {
   "cell_type": "code",
   "execution_count": 147,
   "id": "cd9848c5",
   "metadata": {},
   "outputs": [],
   "source": [
    "# Running RFE with the output number of the variable equal to 20\n",
    "\n",
    "logreg = LogisticRegression()\n",
    "rfe = RFE(logreg,20)"
   ]
  },
  {
   "cell_type": "code",
   "execution_count": 148,
   "id": "6ab0e15e",
   "metadata": {},
   "outputs": [],
   "source": [
    "rfe = rfe.fit(X_train,y_train)"
   ]
  },
  {
   "cell_type": "code",
   "execution_count": 149,
   "id": "d81ae154",
   "metadata": {},
   "outputs": [
    {
     "data": {
      "text/plain": [
       "array([False, False,  True, False, False, False, False,  True, False,\n",
       "       False, False,  True, False, False, False,  True, False,  True,\n",
       "       False, False, False, False, False,  True, False, False, False,\n",
       "       False, False, False, False, False,  True, False, False, False,\n",
       "        True, False,  True,  True,  True,  True,  True,  True,  True,\n",
       "        True,  True,  True, False, False,  True,  True, False, False])"
      ]
     },
     "execution_count": 149,
     "metadata": {},
     "output_type": "execute_result"
    }
   ],
   "source": [
    "rfe.support_"
   ]
  },
  {
   "cell_type": "code",
   "execution_count": 150,
   "id": "b6fd49b4",
   "metadata": {},
   "outputs": [
    {
     "data": {
      "text/plain": [
       "[('Do Not Email', False, 4),\n",
       " ('TotalVisits', False, 20),\n",
       " ('Total Time Spent on Website', True, 1),\n",
       " ('Page Views Per Visit', False, 21),\n",
       " ('A free copy of Mastering The Interview', False, 15),\n",
       " ('Lead_Origin_API', False, 13),\n",
       " ('Lead_Origin_Landing Page Submission', False, 12),\n",
       " ('Lead_Origin_Lead Add Form', True, 1),\n",
       " ('Lead_Origin_Lead Import', False, 14),\n",
       " ('Lead_Source_Direct Traffic', False, 23),\n",
       " ('Lead_Source_Google', False, 24),\n",
       " ('Lead_Source_Olark Chat', True, 1),\n",
       " ('Lead_Source_Organic Search', False, 19),\n",
       " ('Lead_Source_Reference', False, 7),\n",
       " ('Lead_Source_Referral Sites', False, 31),\n",
       " ('Lead_Source_Welingak Website', True, 1),\n",
       " ('Last_Activity_Converted to Lead', False, 9),\n",
       " ('Last_Activity_Email Bounced', True, 1),\n",
       " ('Last_Activity_Email Link Clicked', False, 32),\n",
       " ('Last_Activity_Email Opened', False, 33),\n",
       " ('Last_Activity_Form Submitted on Website', False, 28),\n",
       " ('Last_Activity_Olark Chat Conversation', False, 8),\n",
       " ('Last_Activity_Page Visited on Website', False, 16),\n",
       " ('Last_Activity_SMS Sent', True, 1),\n",
       " ('Specialization_Banking, Investment And Insurance', False, 29),\n",
       " ('Specialization_Business Administration', False, 25),\n",
       " ('Specialization_Business Specializations', False, 35),\n",
       " ('Specialization_E-COMMERCE', False, 11),\n",
       " ('Specialization_Management Specializations', False, 34),\n",
       " ('Specialization_Media and Advertising', False, 27),\n",
       " ('Specialization_Services Excellence', False, 22),\n",
       " ('Specialization_Travel and Tourism', False, 6),\n",
       " ('current_occupation_Not mentioned', True, 1),\n",
       " ('current_occupation_Student', False, 17),\n",
       " ('current_occupation_Unemployed', False, 30),\n",
       " ('current_occupation_Working Professional', False, 10),\n",
       " ('Tags_Already a student', True, 1),\n",
       " ('Tags_Busy', False, 2),\n",
       " ('Tags_Closed by Horizzon', True, 1),\n",
       " ('Tags_Graduation in progress', True, 1),\n",
       " ('Tags_Interested  in full time MBA', True, 1),\n",
       " ('Tags_Interested in other courses', True, 1),\n",
       " ('Tags_Lost to EINS', True, 1),\n",
       " ('Tags_Not doing further education', True, 1),\n",
       " ('Tags_Others', True, 1),\n",
       " ('Tags_Ringing', True, 1),\n",
       " ('Tags_Will revert after reading the email', True, 1),\n",
       " ('Tags_switched off', True, 1),\n",
       " ('Last_Notable_Activity_Email Link Clicked', False, 5),\n",
       " ('Last_Notable_Activity_Email Opened', False, 18),\n",
       " ('Last_Notable_Activity_Modified', True, 1),\n",
       " ('Last_Notable_Activity_Olark Chat Conversation', True, 1),\n",
       " ('Last_Notable_Activity_Page Visited on Website', False, 26),\n",
       " ('Last_Notable_Activity_SMS Sent', False, 3)]"
      ]
     },
     "execution_count": 150,
     "metadata": {},
     "output_type": "execute_result"
    }
   ],
   "source": [
    "list(zip(X_train.columns,rfe.support_,rfe.ranking_))"
   ]
  },
  {
   "cell_type": "code",
   "execution_count": 151,
   "id": "7d6cda94",
   "metadata": {
    "scrolled": true
   },
   "outputs": [
    {
     "data": {
      "text/plain": [
       "Index(['Total Time Spent on Website', 'Lead_Origin_Lead Add Form',\n",
       "       'Lead_Source_Olark Chat', 'Lead_Source_Welingak Website',\n",
       "       'Last_Activity_Email Bounced', 'Last_Activity_SMS Sent',\n",
       "       'current_occupation_Not mentioned', 'Tags_Already a student',\n",
       "       'Tags_Closed by Horizzon', 'Tags_Graduation in progress',\n",
       "       'Tags_Interested  in full time MBA', 'Tags_Interested in other courses',\n",
       "       'Tags_Lost to EINS', 'Tags_Not doing further education', 'Tags_Others',\n",
       "       'Tags_Ringing', 'Tags_Will revert after reading the email',\n",
       "       'Tags_switched off', 'Last_Notable_Activity_Modified',\n",
       "       'Last_Notable_Activity_Olark Chat Conversation'],\n",
       "      dtype='object')"
      ]
     },
     "execution_count": 151,
     "metadata": {},
     "output_type": "execute_result"
    }
   ],
   "source": [
    "# selected features\n",
    "col = X_train.columns[rfe.support_]\n",
    "col"
   ]
  },
  {
   "cell_type": "code",
   "execution_count": 152,
   "id": "84f60b7a",
   "metadata": {},
   "outputs": [
    {
     "data": {
      "text/plain": [
       "Index(['Do Not Email', 'TotalVisits', 'Page Views Per Visit',\n",
       "       'A free copy of Mastering The Interview', 'Lead_Origin_API',\n",
       "       'Lead_Origin_Landing Page Submission', 'Lead_Origin_Lead Import',\n",
       "       'Lead_Source_Direct Traffic', 'Lead_Source_Google',\n",
       "       'Lead_Source_Organic Search', 'Lead_Source_Reference',\n",
       "       'Lead_Source_Referral Sites', 'Last_Activity_Converted to Lead',\n",
       "       'Last_Activity_Email Link Clicked', 'Last_Activity_Email Opened',\n",
       "       'Last_Activity_Form Submitted on Website',\n",
       "       'Last_Activity_Olark Chat Conversation',\n",
       "       'Last_Activity_Page Visited on Website',\n",
       "       'Specialization_Banking, Investment And Insurance',\n",
       "       'Specialization_Business Administration',\n",
       "       'Specialization_Business Specializations', 'Specialization_E-COMMERCE',\n",
       "       'Specialization_Management Specializations',\n",
       "       'Specialization_Media and Advertising',\n",
       "       'Specialization_Services Excellence',\n",
       "       'Specialization_Travel and Tourism', 'current_occupation_Student',\n",
       "       'current_occupation_Unemployed',\n",
       "       'current_occupation_Working Professional', 'Tags_Busy',\n",
       "       'Last_Notable_Activity_Email Link Clicked',\n",
       "       'Last_Notable_Activity_Email Opened',\n",
       "       'Last_Notable_Activity_Page Visited on Website',\n",
       "       'Last_Notable_Activity_SMS Sent'],\n",
       "      dtype='object')"
      ]
     },
     "execution_count": 152,
     "metadata": {},
     "output_type": "execute_result"
    }
   ],
   "source": [
    "#not selected\n",
    "X_train.columns[~rfe.support_]"
   ]
  },
  {
   "cell_type": "markdown",
   "id": "a688e214",
   "metadata": {},
   "source": [
    "# Step 12: Model building"
   ]
  },
  {
   "cell_type": "code",
   "execution_count": 153,
   "id": "c2ae187a",
   "metadata": {},
   "outputs": [],
   "source": [
    "# second model"
   ]
  },
  {
   "cell_type": "code",
   "execution_count": 154,
   "id": "eb919955",
   "metadata": {},
   "outputs": [],
   "source": [
    "X_train_sm = sm.add_constant(X_train[col])"
   ]
  },
  {
   "cell_type": "code",
   "execution_count": 155,
   "id": "565ae09e",
   "metadata": {
    "scrolled": true
   },
   "outputs": [
    {
     "data": {
      "text/html": [
       "<table class=\"simpletable\">\n",
       "<caption>Generalized Linear Model Regression Results</caption>\n",
       "<tr>\n",
       "  <th>Dep. Variable:</th>       <td>Converted</td>    <th>  No. Observations:  </th>  <td>  6363</td> \n",
       "</tr>\n",
       "<tr>\n",
       "  <th>Model:</th>                  <td>GLM</td>       <th>  Df Residuals:      </th>  <td>  6342</td> \n",
       "</tr>\n",
       "<tr>\n",
       "  <th>Model Family:</th>        <td>Binomial</td>     <th>  Df Model:          </th>  <td>    20</td> \n",
       "</tr>\n",
       "<tr>\n",
       "  <th>Link Function:</th>         <td>logit</td>      <th>  Scale:             </th> <td>  1.0000</td>\n",
       "</tr>\n",
       "<tr>\n",
       "  <th>Method:</th>                <td>IRLS</td>       <th>  Log-Likelihood:    </th> <td> -1088.7</td>\n",
       "</tr>\n",
       "<tr>\n",
       "  <th>Date:</th>            <td>Tue, 09 Aug 2022</td> <th>  Deviance:          </th> <td>  2177.4</td>\n",
       "</tr>\n",
       "<tr>\n",
       "  <th>Time:</th>                <td>15:42:55</td>     <th>  Pearson chi2:      </th> <td>1.06e+04</td>\n",
       "</tr>\n",
       "<tr>\n",
       "  <th>No. Iterations:</th>         <td>23</td>        <th>                     </th>     <td> </td>   \n",
       "</tr>\n",
       "<tr>\n",
       "  <th>Covariance Type:</th>     <td>nonrobust</td>    <th>                     </th>     <td> </td>   \n",
       "</tr>\n",
       "</table>\n",
       "<table class=\"simpletable\">\n",
       "<tr>\n",
       "                        <td></td>                           <th>coef</th>     <th>std err</th>      <th>z</th>      <th>P>|z|</th>  <th>[0.025</th>    <th>0.975]</th>  \n",
       "</tr>\n",
       "<tr>\n",
       "  <th>const</th>                                         <td>   -0.1587</td> <td>    0.131</td> <td>   -1.210</td> <td> 0.226</td> <td>   -0.416</td> <td>    0.098</td>\n",
       "</tr>\n",
       "<tr>\n",
       "  <th>Total Time Spent on Website</th>                   <td>    1.0763</td> <td>    0.065</td> <td>   16.595</td> <td> 0.000</td> <td>    0.949</td> <td>    1.203</td>\n",
       "</tr>\n",
       "<tr>\n",
       "  <th>Lead_Origin_Lead Add Form</th>                     <td>    1.4128</td> <td>    0.357</td> <td>    3.957</td> <td> 0.000</td> <td>    0.713</td> <td>    2.113</td>\n",
       "</tr>\n",
       "<tr>\n",
       "  <th>Lead_Source_Olark Chat</th>                        <td>    1.1722</td> <td>    0.160</td> <td>    7.307</td> <td> 0.000</td> <td>    0.858</td> <td>    1.487</td>\n",
       "</tr>\n",
       "<tr>\n",
       "  <th>Lead_Source_Welingak Website</th>                  <td>    3.5043</td> <td>    1.081</td> <td>    3.243</td> <td> 0.001</td> <td>    1.386</td> <td>    5.622</td>\n",
       "</tr>\n",
       "<tr>\n",
       "  <th>Last_Activity_Email Bounced</th>                   <td>   -1.6245</td> <td>    0.470</td> <td>   -3.453</td> <td> 0.001</td> <td>   -2.547</td> <td>   -0.702</td>\n",
       "</tr>\n",
       "<tr>\n",
       "  <th>Last_Activity_SMS Sent</th>                        <td>    1.9273</td> <td>    0.128</td> <td>   15.008</td> <td> 0.000</td> <td>    1.676</td> <td>    2.179</td>\n",
       "</tr>\n",
       "<tr>\n",
       "  <th>current_occupation_Not mentioned</th>              <td>   -2.2861</td> <td>    0.143</td> <td>  -15.978</td> <td> 0.000</td> <td>   -2.567</td> <td>   -2.006</td>\n",
       "</tr>\n",
       "<tr>\n",
       "  <th>Tags_Already a student</th>                        <td>   -4.6117</td> <td>    0.609</td> <td>   -7.571</td> <td> 0.000</td> <td>   -5.806</td> <td>   -3.418</td>\n",
       "</tr>\n",
       "<tr>\n",
       "  <th>Tags_Closed by Horizzon</th>                       <td>    5.2554</td> <td>    0.742</td> <td>    7.083</td> <td> 0.000</td> <td>    3.801</td> <td>    6.710</td>\n",
       "</tr>\n",
       "<tr>\n",
       "  <th>Tags_Graduation in progress</th>                   <td>   -1.9618</td> <td>    0.461</td> <td>   -4.252</td> <td> 0.000</td> <td>   -2.866</td> <td>   -1.058</td>\n",
       "</tr>\n",
       "<tr>\n",
       "  <th>Tags_Interested  in full time MBA</th>             <td>   -3.3752</td> <td>    0.762</td> <td>   -4.431</td> <td> 0.000</td> <td>   -4.868</td> <td>   -1.882</td>\n",
       "</tr>\n",
       "<tr>\n",
       "  <th>Tags_Interested in other courses</th>              <td>   -3.6214</td> <td>    0.429</td> <td>   -8.451</td> <td> 0.000</td> <td>   -4.461</td> <td>   -2.782</td>\n",
       "</tr>\n",
       "<tr>\n",
       "  <th>Tags_Lost to EINS</th>                             <td>    6.2021</td> <td>    0.765</td> <td>    8.109</td> <td> 0.000</td> <td>    4.703</td> <td>    7.701</td>\n",
       "</tr>\n",
       "<tr>\n",
       "  <th>Tags_Not doing further education</th>              <td>  -23.7579</td> <td> 1.18e+04</td> <td>   -0.002</td> <td> 0.998</td> <td>-2.32e+04</td> <td> 2.32e+04</td>\n",
       "</tr>\n",
       "<tr>\n",
       "  <th>Tags_Others</th>                                   <td>   -3.7036</td> <td>    0.363</td> <td>  -10.199</td> <td> 0.000</td> <td>   -4.415</td> <td>   -2.992</td>\n",
       "</tr>\n",
       "<tr>\n",
       "  <th>Tags_Ringing</th>                                  <td>   -4.6979</td> <td>    0.254</td> <td>  -18.504</td> <td> 0.000</td> <td>   -5.195</td> <td>   -4.200</td>\n",
       "</tr>\n",
       "<tr>\n",
       "  <th>Tags_Will revert after reading the email</th>      <td>    2.9099</td> <td>    0.198</td> <td>   14.704</td> <td> 0.000</td> <td>    2.522</td> <td>    3.298</td>\n",
       "</tr>\n",
       "<tr>\n",
       "  <th>Tags_switched off</th>                             <td>   -5.9016</td> <td>    0.744</td> <td>   -7.927</td> <td> 0.000</td> <td>   -7.361</td> <td>   -4.442</td>\n",
       "</tr>\n",
       "<tr>\n",
       "  <th>Last_Notable_Activity_Modified</th>                <td>   -1.5293</td> <td>    0.135</td> <td>  -11.320</td> <td> 0.000</td> <td>   -1.794</td> <td>   -1.265</td>\n",
       "</tr>\n",
       "<tr>\n",
       "  <th>Last_Notable_Activity_Olark Chat Conversation</th> <td>   -1.8991</td> <td>    0.458</td> <td>   -4.150</td> <td> 0.000</td> <td>   -2.796</td> <td>   -1.002</td>\n",
       "</tr>\n",
       "</table>"
      ],
      "text/plain": [
       "<class 'statsmodels.iolib.summary.Summary'>\n",
       "\"\"\"\n",
       "                 Generalized Linear Model Regression Results                  \n",
       "==============================================================================\n",
       "Dep. Variable:              Converted   No. Observations:                 6363\n",
       "Model:                            GLM   Df Residuals:                     6342\n",
       "Model Family:                Binomial   Df Model:                           20\n",
       "Link Function:                  logit   Scale:                          1.0000\n",
       "Method:                          IRLS   Log-Likelihood:                -1088.7\n",
       "Date:                Tue, 09 Aug 2022   Deviance:                       2177.4\n",
       "Time:                        15:42:55   Pearson chi2:                 1.06e+04\n",
       "No. Iterations:                    23                                         \n",
       "Covariance Type:            nonrobust                                         \n",
       "=================================================================================================================\n",
       "                                                    coef    std err          z      P>|z|      [0.025      0.975]\n",
       "-----------------------------------------------------------------------------------------------------------------\n",
       "const                                            -0.1587      0.131     -1.210      0.226      -0.416       0.098\n",
       "Total Time Spent on Website                       1.0763      0.065     16.595      0.000       0.949       1.203\n",
       "Lead_Origin_Lead Add Form                         1.4128      0.357      3.957      0.000       0.713       2.113\n",
       "Lead_Source_Olark Chat                            1.1722      0.160      7.307      0.000       0.858       1.487\n",
       "Lead_Source_Welingak Website                      3.5043      1.081      3.243      0.001       1.386       5.622\n",
       "Last_Activity_Email Bounced                      -1.6245      0.470     -3.453      0.001      -2.547      -0.702\n",
       "Last_Activity_SMS Sent                            1.9273      0.128     15.008      0.000       1.676       2.179\n",
       "current_occupation_Not mentioned                 -2.2861      0.143    -15.978      0.000      -2.567      -2.006\n",
       "Tags_Already a student                           -4.6117      0.609     -7.571      0.000      -5.806      -3.418\n",
       "Tags_Closed by Horizzon                           5.2554      0.742      7.083      0.000       3.801       6.710\n",
       "Tags_Graduation in progress                      -1.9618      0.461     -4.252      0.000      -2.866      -1.058\n",
       "Tags_Interested  in full time MBA                -3.3752      0.762     -4.431      0.000      -4.868      -1.882\n",
       "Tags_Interested in other courses                 -3.6214      0.429     -8.451      0.000      -4.461      -2.782\n",
       "Tags_Lost to EINS                                 6.2021      0.765      8.109      0.000       4.703       7.701\n",
       "Tags_Not doing further education                -23.7579   1.18e+04     -0.002      0.998   -2.32e+04    2.32e+04\n",
       "Tags_Others                                      -3.7036      0.363    -10.199      0.000      -4.415      -2.992\n",
       "Tags_Ringing                                     -4.6979      0.254    -18.504      0.000      -5.195      -4.200\n",
       "Tags_Will revert after reading the email          2.9099      0.198     14.704      0.000       2.522       3.298\n",
       "Tags_switched off                                -5.9016      0.744     -7.927      0.000      -7.361      -4.442\n",
       "Last_Notable_Activity_Modified                   -1.5293      0.135    -11.320      0.000      -1.794      -1.265\n",
       "Last_Notable_Activity_Olark Chat Conversation    -1.8991      0.458     -4.150      0.000      -2.796      -1.002\n",
       "=================================================================================================================\n",
       "\"\"\""
      ]
     },
     "execution_count": 155,
     "metadata": {},
     "output_type": "execute_result"
    }
   ],
   "source": [
    "lgm2 = sm.GLM(y_train,X_train_sm,family= sm.families.Binomial())\n",
    "lgm2 = lgm2.fit()\n",
    "lgm2.summary()"
   ]
  },
  {
   "cell_type": "markdown",
   "id": "4bfdd547",
   "metadata": {},
   "source": [
    "- All the selected features except 'Tags_Not doing further education'  in this model are significant"
   ]
  },
  {
   "cell_type": "markdown",
   "id": "5477d914",
   "metadata": {},
   "source": [
    "####  Checking VIFs"
   ]
  },
  {
   "cell_type": "code",
   "execution_count": 156,
   "id": "92ff8167",
   "metadata": {},
   "outputs": [],
   "source": [
    "from statsmodels.stats.outliers_influence import variance_inflation_factor"
   ]
  },
  {
   "cell_type": "code",
   "execution_count": 157,
   "id": "6e7a4b5b",
   "metadata": {
    "scrolled": true
   },
   "outputs": [
    {
     "data": {
      "text/html": [
       "<div>\n",
       "<style scoped>\n",
       "    .dataframe tbody tr th:only-of-type {\n",
       "        vertical-align: middle;\n",
       "    }\n",
       "\n",
       "    .dataframe tbody tr th {\n",
       "        vertical-align: top;\n",
       "    }\n",
       "\n",
       "    .dataframe thead th {\n",
       "        text-align: right;\n",
       "    }\n",
       "</style>\n",
       "<table border=\"1\" class=\"dataframe\">\n",
       "  <thead>\n",
       "    <tr style=\"text-align: right;\">\n",
       "      <th></th>\n",
       "      <th>Features</th>\n",
       "      <th>VIF</th>\n",
       "    </tr>\n",
       "  </thead>\n",
       "  <tbody>\n",
       "    <tr>\n",
       "      <th>18</th>\n",
       "      <td>Last_Notable_Activity_Modified</td>\n",
       "      <td>1.95</td>\n",
       "    </tr>\n",
       "    <tr>\n",
       "      <th>1</th>\n",
       "      <td>Lead_Origin_Lead Add Form</td>\n",
       "      <td>1.83</td>\n",
       "    </tr>\n",
       "    <tr>\n",
       "      <th>6</th>\n",
       "      <td>current_occupation_Not mentioned</td>\n",
       "      <td>1.60</td>\n",
       "    </tr>\n",
       "    <tr>\n",
       "      <th>16</th>\n",
       "      <td>Tags_Will revert after reading the email</td>\n",
       "      <td>1.60</td>\n",
       "    </tr>\n",
       "    <tr>\n",
       "      <th>2</th>\n",
       "      <td>Lead_Source_Olark Chat</td>\n",
       "      <td>1.53</td>\n",
       "    </tr>\n",
       "    <tr>\n",
       "      <th>5</th>\n",
       "      <td>Last_Activity_SMS Sent</td>\n",
       "      <td>1.53</td>\n",
       "    </tr>\n",
       "    <tr>\n",
       "      <th>0</th>\n",
       "      <td>Total Time Spent on Website</td>\n",
       "      <td>1.39</td>\n",
       "    </tr>\n",
       "    <tr>\n",
       "      <th>8</th>\n",
       "      <td>Tags_Closed by Horizzon</td>\n",
       "      <td>1.32</td>\n",
       "    </tr>\n",
       "    <tr>\n",
       "      <th>3</th>\n",
       "      <td>Lead_Source_Welingak Website</td>\n",
       "      <td>1.31</td>\n",
       "    </tr>\n",
       "    <tr>\n",
       "      <th>11</th>\n",
       "      <td>Tags_Interested in other courses</td>\n",
       "      <td>1.14</td>\n",
       "    </tr>\n",
       "    <tr>\n",
       "      <th>15</th>\n",
       "      <td>Tags_Ringing</td>\n",
       "      <td>1.13</td>\n",
       "    </tr>\n",
       "    <tr>\n",
       "      <th>4</th>\n",
       "      <td>Last_Activity_Email Bounced</td>\n",
       "      <td>1.12</td>\n",
       "    </tr>\n",
       "    <tr>\n",
       "      <th>7</th>\n",
       "      <td>Tags_Already a student</td>\n",
       "      <td>1.10</td>\n",
       "    </tr>\n",
       "    <tr>\n",
       "      <th>19</th>\n",
       "      <td>Last_Notable_Activity_Olark Chat Conversation</td>\n",
       "      <td>1.09</td>\n",
       "    </tr>\n",
       "    <tr>\n",
       "      <th>13</th>\n",
       "      <td>Tags_Not doing further education</td>\n",
       "      <td>1.07</td>\n",
       "    </tr>\n",
       "    <tr>\n",
       "      <th>12</th>\n",
       "      <td>Tags_Lost to EINS</td>\n",
       "      <td>1.06</td>\n",
       "    </tr>\n",
       "    <tr>\n",
       "      <th>14</th>\n",
       "      <td>Tags_Others</td>\n",
       "      <td>1.05</td>\n",
       "    </tr>\n",
       "    <tr>\n",
       "      <th>17</th>\n",
       "      <td>Tags_switched off</td>\n",
       "      <td>1.04</td>\n",
       "    </tr>\n",
       "    <tr>\n",
       "      <th>9</th>\n",
       "      <td>Tags_Graduation in progress</td>\n",
       "      <td>1.03</td>\n",
       "    </tr>\n",
       "    <tr>\n",
       "      <th>10</th>\n",
       "      <td>Tags_Interested  in full time MBA</td>\n",
       "      <td>1.03</td>\n",
       "    </tr>\n",
       "  </tbody>\n",
       "</table>\n",
       "</div>"
      ],
      "text/plain": [
       "                                         Features   VIF\n",
       "18                 Last_Notable_Activity_Modified  1.95\n",
       "1                       Lead_Origin_Lead Add Form  1.83\n",
       "6                current_occupation_Not mentioned  1.60\n",
       "16       Tags_Will revert after reading the email  1.60\n",
       "2                          Lead_Source_Olark Chat  1.53\n",
       "5                          Last_Activity_SMS Sent  1.53\n",
       "0                     Total Time Spent on Website  1.39\n",
       "8                         Tags_Closed by Horizzon  1.32\n",
       "3                    Lead_Source_Welingak Website  1.31\n",
       "11               Tags_Interested in other courses  1.14\n",
       "15                                   Tags_Ringing  1.13\n",
       "4                     Last_Activity_Email Bounced  1.12\n",
       "7                          Tags_Already a student  1.10\n",
       "19  Last_Notable_Activity_Olark Chat Conversation  1.09\n",
       "13               Tags_Not doing further education  1.07\n",
       "12                              Tags_Lost to EINS  1.06\n",
       "14                                    Tags_Others  1.05\n",
       "17                              Tags_switched off  1.04\n",
       "9                     Tags_Graduation in progress  1.03\n",
       "10              Tags_Interested  in full time MBA  1.03"
      ]
     },
     "execution_count": 157,
     "metadata": {},
     "output_type": "execute_result"
    }
   ],
   "source": [
    "# Checking for the VIF values of the feature variables.\n",
    "# Creating a dataframe that will contain the names of all the feature variables and their respective VIFs\n",
    "\n",
    "dff = pd.DataFrame()\n",
    "\n",
    "dff['Features'] = X_train[col].columns\n",
    "dff['VIF'] = [variance_inflation_factor(X_train[col].values,i) for i in range(X_train[col].shape[1])]\n",
    "dff['VIF'] = round(dff['VIF'],2)\n",
    "dff = dff.sort_values(by = 'VIF',ascending = False)\n",
    "dff"
   ]
  },
  {
   "cell_type": "markdown",
   "id": "bce8d7e8",
   "metadata": {},
   "source": [
    "- VIF values of all thes selected features are below 2, indicating that there is no issue of multicollinearity"
   ]
  },
  {
   "cell_type": "code",
   "execution_count": 158,
   "id": "689267fa",
   "metadata": {},
   "outputs": [],
   "source": [
    "# Let's remove the insignificant feature 'Tags_Not doing further education' from selected columns\n",
    "col = col.drop('Tags_Not doing further education')"
   ]
  },
  {
   "cell_type": "code",
   "execution_count": 159,
   "id": "4f476f2d",
   "metadata": {},
   "outputs": [],
   "source": [
    "# Third model"
   ]
  },
  {
   "cell_type": "code",
   "execution_count": 160,
   "id": "2ea0cc88",
   "metadata": {},
   "outputs": [],
   "source": [
    "X_train_sm = sm.add_constant(X_train[col])"
   ]
  },
  {
   "cell_type": "code",
   "execution_count": 161,
   "id": "7de8273a",
   "metadata": {
    "scrolled": true
   },
   "outputs": [
    {
     "data": {
      "text/html": [
       "<table class=\"simpletable\">\n",
       "<caption>Generalized Linear Model Regression Results</caption>\n",
       "<tr>\n",
       "  <th>Dep. Variable:</th>       <td>Converted</td>    <th>  No. Observations:  </th>  <td>  6363</td> \n",
       "</tr>\n",
       "<tr>\n",
       "  <th>Model:</th>                  <td>GLM</td>       <th>  Df Residuals:      </th>  <td>  6343</td> \n",
       "</tr>\n",
       "<tr>\n",
       "  <th>Model Family:</th>        <td>Binomial</td>     <th>  Df Model:          </th>  <td>    19</td> \n",
       "</tr>\n",
       "<tr>\n",
       "  <th>Link Function:</th>         <td>logit</td>      <th>  Scale:             </th> <td>  1.0000</td>\n",
       "</tr>\n",
       "<tr>\n",
       "  <th>Method:</th>                <td>IRLS</td>       <th>  Log-Likelihood:    </th> <td> -1116.4</td>\n",
       "</tr>\n",
       "<tr>\n",
       "  <th>Date:</th>            <td>Tue, 09 Aug 2022</td> <th>  Deviance:          </th> <td>  2232.9</td>\n",
       "</tr>\n",
       "<tr>\n",
       "  <th>Time:</th>                <td>15:42:56</td>     <th>  Pearson chi2:      </th> <td>1.07e+04</td>\n",
       "</tr>\n",
       "<tr>\n",
       "  <th>No. Iterations:</th>          <td>8</td>        <th>                     </th>     <td> </td>   \n",
       "</tr>\n",
       "<tr>\n",
       "  <th>Covariance Type:</th>     <td>nonrobust</td>    <th>                     </th>     <td> </td>   \n",
       "</tr>\n",
       "</table>\n",
       "<table class=\"simpletable\">\n",
       "<tr>\n",
       "                        <td></td>                           <th>coef</th>     <th>std err</th>      <th>z</th>      <th>P>|z|</th>  <th>[0.025</th>    <th>0.975]</th>  \n",
       "</tr>\n",
       "<tr>\n",
       "  <th>const</th>                                         <td>   -0.3958</td> <td>    0.125</td> <td>   -3.167</td> <td> 0.002</td> <td>   -0.641</td> <td>   -0.151</td>\n",
       "</tr>\n",
       "<tr>\n",
       "  <th>Total Time Spent on Website</th>                   <td>    1.0783</td> <td>    0.064</td> <td>   16.907</td> <td> 0.000</td> <td>    0.953</td> <td>    1.203</td>\n",
       "</tr>\n",
       "<tr>\n",
       "  <th>Lead_Origin_Lead Add Form</th>                     <td>    1.4796</td> <td>    0.360</td> <td>    4.105</td> <td> 0.000</td> <td>    0.773</td> <td>    2.186</td>\n",
       "</tr>\n",
       "<tr>\n",
       "  <th>Lead_Source_Olark Chat</th>                        <td>    1.2632</td> <td>    0.158</td> <td>    7.980</td> <td> 0.000</td> <td>    0.953</td> <td>    1.573</td>\n",
       "</tr>\n",
       "<tr>\n",
       "  <th>Lead_Source_Welingak Website</th>                  <td>    3.7183</td> <td>    1.084</td> <td>    3.429</td> <td> 0.001</td> <td>    1.593</td> <td>    5.843</td>\n",
       "</tr>\n",
       "<tr>\n",
       "  <th>Last_Activity_Email Bounced</th>                   <td>   -1.8892</td> <td>    0.438</td> <td>   -4.317</td> <td> 0.000</td> <td>   -2.747</td> <td>   -1.031</td>\n",
       "</tr>\n",
       "<tr>\n",
       "  <th>Last_Activity_SMS Sent</th>                        <td>    1.9668</td> <td>    0.127</td> <td>   15.532</td> <td> 0.000</td> <td>    1.719</td> <td>    2.215</td>\n",
       "</tr>\n",
       "<tr>\n",
       "  <th>current_occupation_Not mentioned</th>              <td>   -2.0720</td> <td>    0.138</td> <td>  -15.021</td> <td> 0.000</td> <td>   -2.342</td> <td>   -1.802</td>\n",
       "</tr>\n",
       "<tr>\n",
       "  <th>Tags_Already a student</th>                        <td>   -4.3912</td> <td>    0.609</td> <td>   -7.212</td> <td> 0.000</td> <td>   -5.585</td> <td>   -3.198</td>\n",
       "</tr>\n",
       "<tr>\n",
       "  <th>Tags_Closed by Horizzon</th>                       <td>    5.5389</td> <td>    0.741</td> <td>    7.476</td> <td> 0.000</td> <td>    4.087</td> <td>    6.991</td>\n",
       "</tr>\n",
       "<tr>\n",
       "  <th>Tags_Graduation in progress</th>                   <td>   -1.7200</td> <td>    0.461</td> <td>   -3.735</td> <td> 0.000</td> <td>   -2.623</td> <td>   -0.817</td>\n",
       "</tr>\n",
       "<tr>\n",
       "  <th>Tags_Interested  in full time MBA</th>             <td>   -3.1250</td> <td>    0.760</td> <td>   -4.110</td> <td> 0.000</td> <td>   -4.615</td> <td>   -1.635</td>\n",
       "</tr>\n",
       "<tr>\n",
       "  <th>Tags_Interested in other courses</th>              <td>   -3.3884</td> <td>    0.428</td> <td>   -7.924</td> <td> 0.000</td> <td>   -4.226</td> <td>   -2.550</td>\n",
       "</tr>\n",
       "<tr>\n",
       "  <th>Tags_Lost to EINS</th>                             <td>    6.3616</td> <td>    0.768</td> <td>    8.280</td> <td> 0.000</td> <td>    4.856</td> <td>    7.868</td>\n",
       "</tr>\n",
       "<tr>\n",
       "  <th>Tags_Others</th>                                   <td>   -3.4984</td> <td>    0.361</td> <td>   -9.681</td> <td> 0.000</td> <td>   -4.207</td> <td>   -2.790</td>\n",
       "</tr>\n",
       "<tr>\n",
       "  <th>Tags_Ringing</th>                                  <td>   -4.5025</td> <td>    0.251</td> <td>  -17.959</td> <td> 0.000</td> <td>   -4.994</td> <td>   -4.011</td>\n",
       "</tr>\n",
       "<tr>\n",
       "  <th>Tags_Will revert after reading the email</th>      <td>    3.1690</td> <td>    0.195</td> <td>   16.261</td> <td> 0.000</td> <td>    2.787</td> <td>    3.551</td>\n",
       "</tr>\n",
       "<tr>\n",
       "  <th>Tags_switched off</th>                             <td>   -5.7080</td> <td>    0.744</td> <td>   -7.670</td> <td> 0.000</td> <td>   -7.167</td> <td>   -4.249</td>\n",
       "</tr>\n",
       "<tr>\n",
       "  <th>Last_Notable_Activity_Modified</th>                <td>   -1.6041</td> <td>    0.133</td> <td>  -12.076</td> <td> 0.000</td> <td>   -1.864</td> <td>   -1.344</td>\n",
       "</tr>\n",
       "<tr>\n",
       "  <th>Last_Notable_Activity_Olark Chat Conversation</th> <td>   -1.8475</td> <td>    0.456</td> <td>   -4.051</td> <td> 0.000</td> <td>   -2.741</td> <td>   -0.954</td>\n",
       "</tr>\n",
       "</table>"
      ],
      "text/plain": [
       "<class 'statsmodels.iolib.summary.Summary'>\n",
       "\"\"\"\n",
       "                 Generalized Linear Model Regression Results                  \n",
       "==============================================================================\n",
       "Dep. Variable:              Converted   No. Observations:                 6363\n",
       "Model:                            GLM   Df Residuals:                     6343\n",
       "Model Family:                Binomial   Df Model:                           19\n",
       "Link Function:                  logit   Scale:                          1.0000\n",
       "Method:                          IRLS   Log-Likelihood:                -1116.4\n",
       "Date:                Tue, 09 Aug 2022   Deviance:                       2232.9\n",
       "Time:                        15:42:56   Pearson chi2:                 1.07e+04\n",
       "No. Iterations:                     8                                         \n",
       "Covariance Type:            nonrobust                                         \n",
       "=================================================================================================================\n",
       "                                                    coef    std err          z      P>|z|      [0.025      0.975]\n",
       "-----------------------------------------------------------------------------------------------------------------\n",
       "const                                            -0.3958      0.125     -3.167      0.002      -0.641      -0.151\n",
       "Total Time Spent on Website                       1.0783      0.064     16.907      0.000       0.953       1.203\n",
       "Lead_Origin_Lead Add Form                         1.4796      0.360      4.105      0.000       0.773       2.186\n",
       "Lead_Source_Olark Chat                            1.2632      0.158      7.980      0.000       0.953       1.573\n",
       "Lead_Source_Welingak Website                      3.7183      1.084      3.429      0.001       1.593       5.843\n",
       "Last_Activity_Email Bounced                      -1.8892      0.438     -4.317      0.000      -2.747      -1.031\n",
       "Last_Activity_SMS Sent                            1.9668      0.127     15.532      0.000       1.719       2.215\n",
       "current_occupation_Not mentioned                 -2.0720      0.138    -15.021      0.000      -2.342      -1.802\n",
       "Tags_Already a student                           -4.3912      0.609     -7.212      0.000      -5.585      -3.198\n",
       "Tags_Closed by Horizzon                           5.5389      0.741      7.476      0.000       4.087       6.991\n",
       "Tags_Graduation in progress                      -1.7200      0.461     -3.735      0.000      -2.623      -0.817\n",
       "Tags_Interested  in full time MBA                -3.1250      0.760     -4.110      0.000      -4.615      -1.635\n",
       "Tags_Interested in other courses                 -3.3884      0.428     -7.924      0.000      -4.226      -2.550\n",
       "Tags_Lost to EINS                                 6.3616      0.768      8.280      0.000       4.856       7.868\n",
       "Tags_Others                                      -3.4984      0.361     -9.681      0.000      -4.207      -2.790\n",
       "Tags_Ringing                                     -4.5025      0.251    -17.959      0.000      -4.994      -4.011\n",
       "Tags_Will revert after reading the email          3.1690      0.195     16.261      0.000       2.787       3.551\n",
       "Tags_switched off                                -5.7080      0.744     -7.670      0.000      -7.167      -4.249\n",
       "Last_Notable_Activity_Modified                   -1.6041      0.133    -12.076      0.000      -1.864      -1.344\n",
       "Last_Notable_Activity_Olark Chat Conversation    -1.8475      0.456     -4.051      0.000      -2.741      -0.954\n",
       "=================================================================================================================\n",
       "\"\"\""
      ]
     },
     "execution_count": 161,
     "metadata": {},
     "output_type": "execute_result"
    }
   ],
   "source": [
    "lgm3 = sm.GLM(y_train,X_train_sm,family= sm.families.Binomial())\n",
    "lgm3 = lgm3.fit()\n",
    "lgm3.summary()"
   ]
  },
  {
   "cell_type": "markdown",
   "id": "f675f0cc",
   "metadata": {},
   "source": [
    "- All the features in this model are significant as their p value is below 0.05"
   ]
  },
  {
   "cell_type": "code",
   "execution_count": 162,
   "id": "54b63c30",
   "metadata": {},
   "outputs": [
    {
     "data": {
      "text/html": [
       "<div>\n",
       "<style scoped>\n",
       "    .dataframe tbody tr th:only-of-type {\n",
       "        vertical-align: middle;\n",
       "    }\n",
       "\n",
       "    .dataframe tbody tr th {\n",
       "        vertical-align: top;\n",
       "    }\n",
       "\n",
       "    .dataframe thead th {\n",
       "        text-align: right;\n",
       "    }\n",
       "</style>\n",
       "<table border=\"1\" class=\"dataframe\">\n",
       "  <thead>\n",
       "    <tr style=\"text-align: right;\">\n",
       "      <th></th>\n",
       "      <th>Features</th>\n",
       "      <th>VIF</th>\n",
       "    </tr>\n",
       "  </thead>\n",
       "  <tbody>\n",
       "    <tr>\n",
       "      <th>17</th>\n",
       "      <td>Last_Notable_Activity_Modified</td>\n",
       "      <td>1.90</td>\n",
       "    </tr>\n",
       "    <tr>\n",
       "      <th>1</th>\n",
       "      <td>Lead_Origin_Lead Add Form</td>\n",
       "      <td>1.83</td>\n",
       "    </tr>\n",
       "    <tr>\n",
       "      <th>15</th>\n",
       "      <td>Tags_Will revert after reading the email</td>\n",
       "      <td>1.60</td>\n",
       "    </tr>\n",
       "    <tr>\n",
       "      <th>6</th>\n",
       "      <td>current_occupation_Not mentioned</td>\n",
       "      <td>1.58</td>\n",
       "    </tr>\n",
       "    <tr>\n",
       "      <th>2</th>\n",
       "      <td>Lead_Source_Olark Chat</td>\n",
       "      <td>1.53</td>\n",
       "    </tr>\n",
       "    <tr>\n",
       "      <th>5</th>\n",
       "      <td>Last_Activity_SMS Sent</td>\n",
       "      <td>1.53</td>\n",
       "    </tr>\n",
       "    <tr>\n",
       "      <th>0</th>\n",
       "      <td>Total Time Spent on Website</td>\n",
       "      <td>1.39</td>\n",
       "    </tr>\n",
       "    <tr>\n",
       "      <th>3</th>\n",
       "      <td>Lead_Source_Welingak Website</td>\n",
       "      <td>1.31</td>\n",
       "    </tr>\n",
       "    <tr>\n",
       "      <th>8</th>\n",
       "      <td>Tags_Closed by Horizzon</td>\n",
       "      <td>1.31</td>\n",
       "    </tr>\n",
       "    <tr>\n",
       "      <th>11</th>\n",
       "      <td>Tags_Interested in other courses</td>\n",
       "      <td>1.14</td>\n",
       "    </tr>\n",
       "    <tr>\n",
       "      <th>14</th>\n",
       "      <td>Tags_Ringing</td>\n",
       "      <td>1.12</td>\n",
       "    </tr>\n",
       "    <tr>\n",
       "      <th>18</th>\n",
       "      <td>Last_Notable_Activity_Olark Chat Conversation</td>\n",
       "      <td>1.09</td>\n",
       "    </tr>\n",
       "    <tr>\n",
       "      <th>7</th>\n",
       "      <td>Tags_Already a student</td>\n",
       "      <td>1.09</td>\n",
       "    </tr>\n",
       "    <tr>\n",
       "      <th>4</th>\n",
       "      <td>Last_Activity_Email Bounced</td>\n",
       "      <td>1.09</td>\n",
       "    </tr>\n",
       "    <tr>\n",
       "      <th>12</th>\n",
       "      <td>Tags_Lost to EINS</td>\n",
       "      <td>1.06</td>\n",
       "    </tr>\n",
       "    <tr>\n",
       "      <th>13</th>\n",
       "      <td>Tags_Others</td>\n",
       "      <td>1.04</td>\n",
       "    </tr>\n",
       "    <tr>\n",
       "      <th>16</th>\n",
       "      <td>Tags_switched off</td>\n",
       "      <td>1.04</td>\n",
       "    </tr>\n",
       "    <tr>\n",
       "      <th>10</th>\n",
       "      <td>Tags_Interested  in full time MBA</td>\n",
       "      <td>1.03</td>\n",
       "    </tr>\n",
       "    <tr>\n",
       "      <th>9</th>\n",
       "      <td>Tags_Graduation in progress</td>\n",
       "      <td>1.03</td>\n",
       "    </tr>\n",
       "  </tbody>\n",
       "</table>\n",
       "</div>"
      ],
      "text/plain": [
       "                                         Features   VIF\n",
       "17                 Last_Notable_Activity_Modified  1.90\n",
       "1                       Lead_Origin_Lead Add Form  1.83\n",
       "15       Tags_Will revert after reading the email  1.60\n",
       "6                current_occupation_Not mentioned  1.58\n",
       "2                          Lead_Source_Olark Chat  1.53\n",
       "5                          Last_Activity_SMS Sent  1.53\n",
       "0                     Total Time Spent on Website  1.39\n",
       "3                    Lead_Source_Welingak Website  1.31\n",
       "8                         Tags_Closed by Horizzon  1.31\n",
       "11               Tags_Interested in other courses  1.14\n",
       "14                                   Tags_Ringing  1.12\n",
       "18  Last_Notable_Activity_Olark Chat Conversation  1.09\n",
       "7                          Tags_Already a student  1.09\n",
       "4                     Last_Activity_Email Bounced  1.09\n",
       "12                              Tags_Lost to EINS  1.06\n",
       "13                                    Tags_Others  1.04\n",
       "16                              Tags_switched off  1.04\n",
       "10              Tags_Interested  in full time MBA  1.03\n",
       "9                     Tags_Graduation in progress  1.03"
      ]
     },
     "execution_count": 162,
     "metadata": {},
     "output_type": "execute_result"
    }
   ],
   "source": [
    "# Checking for the VIF values of the feature variables.\n",
    "# Creating a dataframe that will contain the names of all the feature variables and their respective VIFs\n",
    "\n",
    "dff = pd.DataFrame()\n",
    "\n",
    "dff['Features'] = X_train[col].columns\n",
    "dff['VIF'] = [variance_inflation_factor(X_train[col].values,i) for i in range(X_train[col].shape[1])]\n",
    "dff['VIF'] = round(dff['VIF'],2)\n",
    "dff = dff.sort_values(by = 'VIF',ascending = False)\n",
    "dff"
   ]
  },
  {
   "cell_type": "markdown",
   "id": "40811b5b",
   "metadata": {},
   "source": [
    "- All the features have VIF value below 2, so there is no issue of multicollinearity here.\n"
   ]
  },
  {
   "cell_type": "markdown",
   "id": "5457040c",
   "metadata": {},
   "source": [
    "- Since all the features are significant and have VIF value below 2,We could proceed with this model as our final model "
   ]
  },
  {
   "cell_type": "markdown",
   "id": "5e1b24c0",
   "metadata": {},
   "source": [
    "- The logistic regression curve gives us the probabilities of lead conversion and leads not being converted. We can get these probabilities by simply using the 'predict' function "
   ]
  },
  {
   "cell_type": "code",
   "execution_count": 163,
   "id": "cae65f8f",
   "metadata": {},
   "outputs": [
    {
     "data": {
      "text/plain": [
       "302     0.050688\n",
       "6087    0.003489\n",
       "1033    0.395829\n",
       "7656    0.039467\n",
       "3241    0.996691\n",
       "5738    0.033592\n",
       "7366    0.002272\n",
       "3680    0.008496\n",
       "4170    0.996392\n",
       "43      0.048089\n",
       "dtype: float64"
      ]
     },
     "execution_count": 163,
     "metadata": {},
     "output_type": "execute_result"
    }
   ],
   "source": [
    "# Getting the predicted values on the train set\n",
    "y_train_pred = lgm3.predict(X_train_sm)\n",
    "y_train_pred[:10]"
   ]
  },
  {
   "cell_type": "code",
   "execution_count": 164,
   "id": "5236a1a6",
   "metadata": {},
   "outputs": [
    {
     "data": {
      "text/plain": [
       "array([0.05068849, 0.0034889 , 0.39582923, 0.03946653, 0.99669149,\n",
       "       0.03359228, 0.00227243, 0.00849627, 0.99639171, 0.04808867])"
      ]
     },
     "execution_count": 164,
     "metadata": {},
     "output_type": "execute_result"
    }
   ],
   "source": [
    "y_train_pred = y_train_pred.values.reshape(-1)\n",
    "y_train_pred[:10]"
   ]
  },
  {
   "cell_type": "markdown",
   "id": "6c3a73f7",
   "metadata": {},
   "source": [
    "##### Creating a dataframe with the actual conversion flag and the predicted probabilities"
   ]
  },
  {
   "cell_type": "code",
   "execution_count": 165,
   "id": "4222c620",
   "metadata": {},
   "outputs": [],
   "source": [
    "y_train_pred_final = pd.DataFrame({'Converted':y_train.values, 'Conversion_prob':y_train_pred})\n",
    "y_train_pred_final['Prospect_id'] = y_train.index"
   ]
  },
  {
   "cell_type": "code",
   "execution_count": 166,
   "id": "2906c2e3",
   "metadata": {
    "scrolled": true
   },
   "outputs": [
    {
     "data": {
      "text/html": [
       "<div>\n",
       "<style scoped>\n",
       "    .dataframe tbody tr th:only-of-type {\n",
       "        vertical-align: middle;\n",
       "    }\n",
       "\n",
       "    .dataframe tbody tr th {\n",
       "        vertical-align: top;\n",
       "    }\n",
       "\n",
       "    .dataframe thead th {\n",
       "        text-align: right;\n",
       "    }\n",
       "</style>\n",
       "<table border=\"1\" class=\"dataframe\">\n",
       "  <thead>\n",
       "    <tr style=\"text-align: right;\">\n",
       "      <th></th>\n",
       "      <th>Converted</th>\n",
       "      <th>Conversion_prob</th>\n",
       "      <th>Prospect_id</th>\n",
       "    </tr>\n",
       "  </thead>\n",
       "  <tbody>\n",
       "    <tr>\n",
       "      <th>0</th>\n",
       "      <td>0</td>\n",
       "      <td>0.050688</td>\n",
       "      <td>302</td>\n",
       "    </tr>\n",
       "    <tr>\n",
       "      <th>1</th>\n",
       "      <td>0</td>\n",
       "      <td>0.003489</td>\n",
       "      <td>6087</td>\n",
       "    </tr>\n",
       "    <tr>\n",
       "      <th>2</th>\n",
       "      <td>0</td>\n",
       "      <td>0.395829</td>\n",
       "      <td>1033</td>\n",
       "    </tr>\n",
       "    <tr>\n",
       "      <th>3</th>\n",
       "      <td>0</td>\n",
       "      <td>0.039467</td>\n",
       "      <td>7656</td>\n",
       "    </tr>\n",
       "    <tr>\n",
       "      <th>4</th>\n",
       "      <td>1</td>\n",
       "      <td>0.996691</td>\n",
       "      <td>3241</td>\n",
       "    </tr>\n",
       "  </tbody>\n",
       "</table>\n",
       "</div>"
      ],
      "text/plain": [
       "   Converted  Conversion_prob  Prospect_id\n",
       "0          0         0.050688          302\n",
       "1          0         0.003489         6087\n",
       "2          0         0.395829         1033\n",
       "3          0         0.039467         7656\n",
       "4          1         0.996691         3241"
      ]
     },
     "execution_count": 166,
     "metadata": {},
     "output_type": "execute_result"
    }
   ],
   "source": [
    "y_train_pred_final.head()"
   ]
  },
  {
   "cell_type": "markdown",
   "id": "3aa83b46",
   "metadata": {},
   "source": [
    "The logistic curve gives  just the probabilities and not the actual classification of lead conversion(converted/not converted), we need to find a threshold probability to classify leads as 'converted leads' and 'unconverted leads'. Here, we choose 0.5 as an arbitrary cutoff wherein if the probability of a particular lead converting is less than 0.5,we would classify it as 'unconverted' and if it's greater than 0.5, we would classify it as 'Converted'"
   ]
  },
  {
   "cell_type": "markdown",
   "id": "4206c593",
   "metadata": {},
   "source": [
    "##### Creating new column 'predicted' with 1 if Conversion_prob> 0.5 else 0"
   ]
  },
  {
   "cell_type": "code",
   "execution_count": 167,
   "id": "bfc81be1",
   "metadata": {},
   "outputs": [],
   "source": [
    "y_train_pred_final['predicted'] = y_train_pred_final['Conversion_prob'].apply(lambda x : 1 if x>0.5 else 0)"
   ]
  },
  {
   "cell_type": "code",
   "execution_count": 168,
   "id": "aa45496b",
   "metadata": {},
   "outputs": [
    {
     "data": {
      "text/html": [
       "<div>\n",
       "<style scoped>\n",
       "    .dataframe tbody tr th:only-of-type {\n",
       "        vertical-align: middle;\n",
       "    }\n",
       "\n",
       "    .dataframe tbody tr th {\n",
       "        vertical-align: top;\n",
       "    }\n",
       "\n",
       "    .dataframe thead th {\n",
       "        text-align: right;\n",
       "    }\n",
       "</style>\n",
       "<table border=\"1\" class=\"dataframe\">\n",
       "  <thead>\n",
       "    <tr style=\"text-align: right;\">\n",
       "      <th></th>\n",
       "      <th>Converted</th>\n",
       "      <th>Conversion_prob</th>\n",
       "      <th>Prospect_id</th>\n",
       "      <th>predicted</th>\n",
       "    </tr>\n",
       "  </thead>\n",
       "  <tbody>\n",
       "    <tr>\n",
       "      <th>0</th>\n",
       "      <td>0</td>\n",
       "      <td>0.050688</td>\n",
       "      <td>302</td>\n",
       "      <td>0</td>\n",
       "    </tr>\n",
       "    <tr>\n",
       "      <th>1</th>\n",
       "      <td>0</td>\n",
       "      <td>0.003489</td>\n",
       "      <td>6087</td>\n",
       "      <td>0</td>\n",
       "    </tr>\n",
       "    <tr>\n",
       "      <th>2</th>\n",
       "      <td>0</td>\n",
       "      <td>0.395829</td>\n",
       "      <td>1033</td>\n",
       "      <td>0</td>\n",
       "    </tr>\n",
       "    <tr>\n",
       "      <th>3</th>\n",
       "      <td>0</td>\n",
       "      <td>0.039467</td>\n",
       "      <td>7656</td>\n",
       "      <td>0</td>\n",
       "    </tr>\n",
       "    <tr>\n",
       "      <th>4</th>\n",
       "      <td>1</td>\n",
       "      <td>0.996691</td>\n",
       "      <td>3241</td>\n",
       "      <td>1</td>\n",
       "    </tr>\n",
       "  </tbody>\n",
       "</table>\n",
       "</div>"
      ],
      "text/plain": [
       "   Converted  Conversion_prob  Prospect_id  predicted\n",
       "0          0         0.050688          302          0\n",
       "1          0         0.003489         6087          0\n",
       "2          0         0.395829         1033          0\n",
       "3          0         0.039467         7656          0\n",
       "4          1         0.996691         3241          1"
      ]
     },
     "execution_count": 168,
     "metadata": {},
     "output_type": "execute_result"
    }
   ],
   "source": [
    "y_train_pred_final.head()"
   ]
  },
  {
   "cell_type": "markdown",
   "id": "11030e9a",
   "metadata": {},
   "source": [
    "Since we are classifying the customers into two classes, we will obviously have some errors. The classes of errors that would be there are:\n",
    "\n",
    "    'Converted' leads being (incorrectly) classified as 'unconverted'\n",
    "    'unconverted' leads being (incorrectly) classified as 'Converted'\n",
    "\n",
    " \n",
    "\n",
    "To capture these errors, and to evaluate how well the model is, we will use 'Confusion Matrix'."
   ]
  },
  {
   "cell_type": "markdown",
   "id": "205fbeb1",
   "metadata": {},
   "source": [
    "# Step 13:  Model Evaluation: Accuracy, Sensitivity, and Specificity"
   ]
  },
  {
   "cell_type": "code",
   "execution_count": 169,
   "id": "456af795",
   "metadata": {},
   "outputs": [],
   "source": [
    "from sklearn import metrics"
   ]
  },
  {
   "cell_type": "code",
   "execution_count": 170,
   "id": "de606c5d",
   "metadata": {
    "scrolled": true
   },
   "outputs": [
    {
     "name": "stdout",
     "output_type": "stream",
     "text": [
      "[[3788  147]\n",
      " [ 273 2155]]\n"
     ]
    }
   ],
   "source": [
    "#confusion matrix\n",
    "confusion = metrics.confusion_matrix(y_train_pred_final.Converted, y_train_pred_final.predicted)\n",
    "print(confusion)"
   ]
  },
  {
   "cell_type": "code",
   "execution_count": 171,
   "id": "53ac5e08",
   "metadata": {},
   "outputs": [],
   "source": [
    "# confusion matrix\n",
    "\n",
    "##predicted      unconverted     converted\n",
    "##actual\n",
    "\n",
    "#unconverted        3788           147\n",
    "\n",
    "#converted          273            2155"
   ]
  },
  {
   "cell_type": "code",
   "execution_count": 172,
   "id": "dc9ac20e",
   "metadata": {},
   "outputs": [
    {
     "name": "stdout",
     "output_type": "stream",
     "text": [
      "0.933993399339934\n"
     ]
    }
   ],
   "source": [
    "# Let's check the overall accuracy.\n",
    "print(metrics.accuracy_score(y_train_pred_final.Converted,y_train_pred_final.predicted))"
   ]
  },
  {
   "cell_type": "markdown",
   "id": "75cb0f0f",
   "metadata": {},
   "source": [
    "- We got an accuracy of 93.4%\n",
    "- Our model is able to  correctly predict the lables  93.4% of the time (in train set)"
   ]
  },
  {
   "cell_type": "markdown",
   "id": "e4434236",
   "metadata": {},
   "source": [
    "#### Metrics beyond simply accuracy"
   ]
  },
  {
   "cell_type": "code",
   "execution_count": 173,
   "id": "06170486",
   "metadata": {},
   "outputs": [],
   "source": [
    "TP = confusion[1,1] #true positive\n",
    "TN = confusion[0,0] #true negative\n",
    "FP = confusion[0,1] #false positive\n",
    "FN = confusion[1,0] #flase negative"
   ]
  },
  {
   "cell_type": "code",
   "execution_count": 174,
   "id": "e0f1a249",
   "metadata": {
    "scrolled": true
   },
   "outputs": [
    {
     "data": {
      "text/plain": [
       "0.8875617792421746"
      ]
     },
     "execution_count": 174,
     "metadata": {},
     "output_type": "execute_result"
    }
   ],
   "source": [
    "# Let's see the sensitivity of our logistic regression model\n",
    "TP/(TP+FN)"
   ]
  },
  {
   "cell_type": "code",
   "execution_count": 175,
   "id": "4614df41",
   "metadata": {},
   "outputs": [
    {
     "data": {
      "text/plain": [
       "0.9626429479034307"
      ]
     },
     "execution_count": 175,
     "metadata": {},
     "output_type": "execute_result"
    }
   ],
   "source": [
    "# Let us calculate specificity\n",
    "TN/(TN+FP)"
   ]
  },
  {
   "cell_type": "markdown",
   "id": "a4277f10",
   "metadata": {},
   "source": [
    "- Our model has sensitivity around 88.8% and specificity around 96.3%\n",
    "- Model is able to correctly predict 88.8% of the converted labels\n",
    "- Model is able to correctly predict 96.3% of the unconverted labels "
   ]
  },
  {
   "cell_type": "code",
   "execution_count": 176,
   "id": "cc259f6c",
   "metadata": {},
   "outputs": [
    {
     "data": {
      "text/plain": [
       "0.03735705209656925"
      ]
     },
     "execution_count": 176,
     "metadata": {},
     "output_type": "execute_result"
    }
   ],
   "source": [
    "# Calculate false postive rate - predicting converted when lead doesn't get converted.\n",
    "FP/(FP+TN)"
   ]
  },
  {
   "cell_type": "markdown",
   "id": "bd376bc5",
   "metadata": {},
   "source": [
    "- False positive rate is only ~ 3.7%"
   ]
  },
  {
   "cell_type": "code",
   "execution_count": 177,
   "id": "08c6d9c0",
   "metadata": {},
   "outputs": [
    {
     "data": {
      "text/plain": [
       "0.9361424847958297"
      ]
     },
     "execution_count": 177,
     "metadata": {},
     "output_type": "execute_result"
    }
   ],
   "source": [
    "# positive predictive value \n",
    "TP/(TP+FP)"
   ]
  },
  {
   "cell_type": "code",
   "execution_count": 178,
   "id": "7137f225",
   "metadata": {},
   "outputs": [
    {
     "data": {
      "text/plain": [
       "0.9327751785274563"
      ]
     },
     "execution_count": 178,
     "metadata": {},
     "output_type": "execute_result"
    }
   ],
   "source": [
    "# Negative predictive value\n",
    "TN/(TN+FN)"
   ]
  },
  {
   "cell_type": "markdown",
   "id": "64c8f9df",
   "metadata": {},
   "source": [
    "# Step 14:  Plotting the ROC Curve"
   ]
  },
  {
   "cell_type": "markdown",
   "id": "51a30b66",
   "metadata": {},
   "source": [
    "An ROC curve demonstrates several things:\n",
    "\n",
    "- It shows the tradeoff between sensitivity and specificity (any increase in sensitivity will be accompanied by a decrease in specificity).\n",
    "- The closer the curve follows the left-hand border and then the top border of the ROC space, the more accurate the test.\n",
    "- The closer the curve comes to the 45-degree diagonal of the ROC space, the less accurate the test."
   ]
  },
  {
   "cell_type": "code",
   "execution_count": 179,
   "id": "0a3eacdd",
   "metadata": {},
   "outputs": [],
   "source": [
    "def draw_roc( actual, probs ):\n",
    "    fpr, tpr, thresholds = metrics.roc_curve( actual, probs,\n",
    "                                              drop_intermediate = False )\n",
    "    auc_score = metrics.roc_auc_score( actual, probs )\n",
    "    plt.figure(figsize=(5, 5))\n",
    "    plt.plot( fpr, tpr, label='ROC curve (area = %0.2f)' % auc_score )\n",
    "    plt.plot([0, 1], [0, 1], 'k--')\n",
    "    plt.xlim([0.0, 1.0])\n",
    "    plt.ylim([0.0, 1.05])\n",
    "    plt.xlabel('False Positive Rate or [1 - True Negative Rate]')\n",
    "    plt.ylabel('True Positive Rate')\n",
    "    plt.title('Receiver operating characteristic example')\n",
    "    plt.legend(loc=\"lower right\")\n",
    "    plt.show()\n",
    "\n",
    "    return None"
   ]
  },
  {
   "cell_type": "code",
   "execution_count": 180,
   "id": "898129e4",
   "metadata": {},
   "outputs": [],
   "source": [
    "fpr,tpr,thresholds = metrics.roc_curve(y_train_pred_final.Converted,y_train_pred_final['Conversion_prob'],drop_intermediate= False)"
   ]
  },
  {
   "cell_type": "code",
   "execution_count": 181,
   "id": "4bc4d57c",
   "metadata": {
    "scrolled": true
   },
   "outputs": [
    {
     "data": {
      "image/png": "[encoded data removed]",
      "text/plain": [
       "<Figure size 360x360 with 1 Axes>"
      ]
     },
     "metadata": {
      "needs_background": "light"
     },
     "output_type": "display_data"
    }
   ],
   "source": [
    "draw_roc(y_train_pred_final.Converted,y_train_pred_final['Conversion_prob'])"
   ]
  },
  {
   "cell_type": "markdown",
   "id": "9a47c9a7",
   "metadata": {},
   "source": [
    "- This curve is towards the upper-left corner, there is a larger area under the curve (AUC) indicating that the model \n",
    "is good. "
   ]
  },
  {
   "cell_type": "markdown",
   "id": "0bdcaa8b",
   "metadata": {},
   "source": [
    "- Our model has very high specificity value but sensitivity value is relatively lower.\n",
    "- So we need to find an optimum cut-off to have a good balance between these two"
   ]
  },
  {
   "cell_type": "markdown",
   "id": "57dbfdd7",
   "metadata": {},
   "source": [
    "# Step 15: Finding Optimal Cut-off Point¶"
   ]
  },
  {
   "cell_type": "markdown",
   "id": "7492a6d3",
   "metadata": {},
   "source": [
    "Optimal cutoff probability is that prob where we get balanced sensitivity and specificity"
   ]
  },
  {
   "cell_type": "code",
   "execution_count": 182,
   "id": "010d908e",
   "metadata": {},
   "outputs": [],
   "source": [
    "# Let's create columns with different probability cutoffs "
   ]
  },
  {
   "cell_type": "code",
   "execution_count": 183,
   "id": "fdc75f38",
   "metadata": {},
   "outputs": [
    {
     "data": {
      "text/html": [
       "<div>\n",
       "<style scoped>\n",
       "    .dataframe tbody tr th:only-of-type {\n",
       "        vertical-align: middle;\n",
       "    }\n",
       "\n",
       "    .dataframe tbody tr th {\n",
       "        vertical-align: top;\n",
       "    }\n",
       "\n",
       "    .dataframe thead th {\n",
       "        text-align: right;\n",
       "    }\n",
       "</style>\n",
       "<table border=\"1\" class=\"dataframe\">\n",
       "  <thead>\n",
       "    <tr style=\"text-align: right;\">\n",
       "      <th></th>\n",
       "      <th>Converted</th>\n",
       "      <th>Conversion_prob</th>\n",
       "      <th>Prospect_id</th>\n",
       "      <th>predicted</th>\n",
       "      <th>0.0</th>\n",
       "      <th>0.1</th>\n",
       "      <th>0.2</th>\n",
       "      <th>0.3</th>\n",
       "      <th>0.4</th>\n",
       "      <th>0.5</th>\n",
       "      <th>0.6</th>\n",
       "      <th>0.7</th>\n",
       "      <th>0.8</th>\n",
       "      <th>0.9</th>\n",
       "    </tr>\n",
       "  </thead>\n",
       "  <tbody>\n",
       "    <tr>\n",
       "      <th>0</th>\n",
       "      <td>0</td>\n",
       "      <td>0.050688</td>\n",
       "      <td>302</td>\n",
       "      <td>0</td>\n",
       "      <td>1</td>\n",
       "      <td>0</td>\n",
       "      <td>0</td>\n",
       "      <td>0</td>\n",
       "      <td>0</td>\n",
       "      <td>0</td>\n",
       "      <td>0</td>\n",
       "      <td>0</td>\n",
       "      <td>0</td>\n",
       "      <td>0</td>\n",
       "    </tr>\n",
       "    <tr>\n",
       "      <th>1</th>\n",
       "      <td>0</td>\n",
       "      <td>0.003489</td>\n",
       "      <td>6087</td>\n",
       "      <td>0</td>\n",
       "      <td>1</td>\n",
       "      <td>0</td>\n",
       "      <td>0</td>\n",
       "      <td>0</td>\n",
       "      <td>0</td>\n",
       "      <td>0</td>\n",
       "      <td>0</td>\n",
       "      <td>0</td>\n",
       "      <td>0</td>\n",
       "      <td>0</td>\n",
       "    </tr>\n",
       "    <tr>\n",
       "      <th>2</th>\n",
       "      <td>0</td>\n",
       "      <td>0.395829</td>\n",
       "      <td>1033</td>\n",
       "      <td>0</td>\n",
       "      <td>1</td>\n",
       "      <td>1</td>\n",
       "      <td>1</td>\n",
       "      <td>1</td>\n",
       "      <td>0</td>\n",
       "      <td>0</td>\n",
       "      <td>0</td>\n",
       "      <td>0</td>\n",
       "      <td>0</td>\n",
       "      <td>0</td>\n",
       "    </tr>\n",
       "    <tr>\n",
       "      <th>3</th>\n",
       "      <td>0</td>\n",
       "      <td>0.039467</td>\n",
       "      <td>7656</td>\n",
       "      <td>0</td>\n",
       "      <td>1</td>\n",
       "      <td>0</td>\n",
       "      <td>0</td>\n",
       "      <td>0</td>\n",
       "      <td>0</td>\n",
       "      <td>0</td>\n",
       "      <td>0</td>\n",
       "      <td>0</td>\n",
       "      <td>0</td>\n",
       "      <td>0</td>\n",
       "    </tr>\n",
       "    <tr>\n",
       "      <th>4</th>\n",
       "      <td>1</td>\n",
       "      <td>0.996691</td>\n",
       "      <td>3241</td>\n",
       "      <td>1</td>\n",
       "      <td>1</td>\n",
       "      <td>1</td>\n",
       "      <td>1</td>\n",
       "      <td>1</td>\n",
       "      <td>1</td>\n",
       "      <td>1</td>\n",
       "      <td>1</td>\n",
       "      <td>1</td>\n",
       "      <td>1</td>\n",
       "      <td>1</td>\n",
       "    </tr>\n",
       "  </tbody>\n",
       "</table>\n",
       "</div>"
      ],
      "text/plain": [
       "   Converted  Conversion_prob  Prospect_id  predicted  0.0  0.1  0.2  0.3  \\\n",
       "0          0         0.050688          302          0    1    0    0    0   \n",
       "1          0         0.003489         6087          0    1    0    0    0   \n",
       "2          0         0.395829         1033          0    1    1    1    1   \n",
       "3          0         0.039467         7656          0    1    0    0    0   \n",
       "4          1         0.996691         3241          1    1    1    1    1   \n",
       "\n",
       "   0.4  0.5  0.6  0.7  0.8  0.9  \n",
       "0    0    0    0    0    0    0  \n",
       "1    0    0    0    0    0    0  \n",
       "2    0    0    0    0    0    0  \n",
       "3    0    0    0    0    0    0  \n",
       "4    1    1    1    1    1    1  "
      ]
     },
     "execution_count": 183,
     "metadata": {},
     "output_type": "execute_result"
    }
   ],
   "source": [
    "number = [float(x/10) for x in range(10)]\n",
    "\n",
    "for i in number:\n",
    "    y_train_pred_final[i] = y_train_pred_final['Conversion_prob'].apply(lambda j: 1 if j>i else 0)\n",
    "    \n",
    "y_train_pred_final.head()"
   ]
  },
  {
   "cell_type": "code",
   "execution_count": 184,
   "id": "0de65910",
   "metadata": {},
   "outputs": [],
   "source": [
    "# Now let's calculate accuracy sensitivity and specificity for various probability cutoffs."
   ]
  },
  {
   "cell_type": "code",
   "execution_count": 185,
   "id": "73140390",
   "metadata": {},
   "outputs": [
    {
     "name": "stdout",
     "output_type": "stream",
     "text": [
      "     prob  accuracy     sensi     speci\n",
      "0.0   0.0  0.381581  1.000000  0.000000\n",
      "0.1   0.1  0.870816  0.974053  0.807116\n",
      "0.2   0.2  0.917335  0.955107  0.894028\n",
      "0.3   0.3  0.929907  0.936573  0.925794\n",
      "0.4   0.4  0.937765  0.922570  0.947141\n",
      "0.5   0.5  0.933993  0.887562  0.962643\n",
      "0.6   0.6  0.930693  0.870675  0.967726\n",
      "0.7   0.7  0.924250  0.843493  0.974079\n",
      "0.8   0.8  0.917963  0.813015  0.982719\n",
      "0.9   0.9  0.894861  0.739703  0.990597\n"
     ]
    }
   ],
   "source": [
    "cutoff_df = pd.DataFrame(columns = ['prob','accuracy','sensi','speci'])\n",
    "\n",
    "for i in number:\n",
    "    cm1 = metrics.confusion_matrix(y_train_pred_final.Converted,y_train_pred_final[i])\n",
    "    total1 = sum(sum(cm1))\n",
    "    accuracy = (cm1[0,0]+cm1[1,1])/ total1 #TN+TP/TOTAL\n",
    "    speci = cm1[0,0]/(cm1[0,0]+cm1[0,1])\n",
    "    sensi = cm1[1,1]/(cm1[1,1]+cm1[1,0])\n",
    "    cutoff_df.loc[i] = [i,accuracy,sensi,speci]\n",
    "print(cutoff_df)"
   ]
  },
  {
   "cell_type": "code",
   "execution_count": 186,
   "id": "623a0eb8",
   "metadata": {},
   "outputs": [
    {
     "data": {
      "image/png": "[encoded data removed]",
      "text/plain": [
       "<Figure size 432x288 with 1 Axes>"
      ]
     },
     "metadata": {
      "needs_background": "light"
     },
     "output_type": "display_data"
    }
   ],
   "source": [
    "# Let's plot accuracy sensitivity and specificity for various probabilities.\n",
    "cutoff_df.plot.line(x= 'prob',y =['accuracy','sensi','speci'])\n",
    "plt.show()"
   ]
  },
  {
   "cell_type": "markdown",
   "id": "dd978a64",
   "metadata": {},
   "source": [
    "From the curve above, 0.3 is the optimum point to take it as a cutoff probability."
   ]
  },
  {
   "cell_type": "code",
   "execution_count": 187,
   "id": "f55e383d",
   "metadata": {},
   "outputs": [],
   "source": [
    "y_train_pred_final['final_predicted'] = y_train_pred_final['Conversion_prob'].apply(lambda x: 1 if x>0.3 else 0)"
   ]
  },
  {
   "cell_type": "code",
   "execution_count": 188,
   "id": "7d2aa294",
   "metadata": {},
   "outputs": [
    {
     "data": {
      "text/html": [
       "<div>\n",
       "<style scoped>\n",
       "    .dataframe tbody tr th:only-of-type {\n",
       "        vertical-align: middle;\n",
       "    }\n",
       "\n",
       "    .dataframe tbody tr th {\n",
       "        vertical-align: top;\n",
       "    }\n",
       "\n",
       "    .dataframe thead th {\n",
       "        text-align: right;\n",
       "    }\n",
       "</style>\n",
       "<table border=\"1\" class=\"dataframe\">\n",
       "  <thead>\n",
       "    <tr style=\"text-align: right;\">\n",
       "      <th></th>\n",
       "      <th>Converted</th>\n",
       "      <th>Conversion_prob</th>\n",
       "      <th>Prospect_id</th>\n",
       "      <th>predicted</th>\n",
       "      <th>0.0</th>\n",
       "      <th>0.1</th>\n",
       "      <th>0.2</th>\n",
       "      <th>0.3</th>\n",
       "      <th>0.4</th>\n",
       "      <th>0.5</th>\n",
       "      <th>0.6</th>\n",
       "      <th>0.7</th>\n",
       "      <th>0.8</th>\n",
       "      <th>0.9</th>\n",
       "      <th>final_predicted</th>\n",
       "    </tr>\n",
       "  </thead>\n",
       "  <tbody>\n",
       "    <tr>\n",
       "      <th>0</th>\n",
       "      <td>0</td>\n",
       "      <td>0.050688</td>\n",
       "      <td>302</td>\n",
       "      <td>0</td>\n",
       "      <td>1</td>\n",
       "      <td>0</td>\n",
       "      <td>0</td>\n",
       "      <td>0</td>\n",
       "      <td>0</td>\n",
       "      <td>0</td>\n",
       "      <td>0</td>\n",
       "      <td>0</td>\n",
       "      <td>0</td>\n",
       "      <td>0</td>\n",
       "      <td>0</td>\n",
       "    </tr>\n",
       "    <tr>\n",
       "      <th>1</th>\n",
       "      <td>0</td>\n",
       "      <td>0.003489</td>\n",
       "      <td>6087</td>\n",
       "      <td>0</td>\n",
       "      <td>1</td>\n",
       "      <td>0</td>\n",
       "      <td>0</td>\n",
       "      <td>0</td>\n",
       "      <td>0</td>\n",
       "      <td>0</td>\n",
       "      <td>0</td>\n",
       "      <td>0</td>\n",
       "      <td>0</td>\n",
       "      <td>0</td>\n",
       "      <td>0</td>\n",
       "    </tr>\n",
       "    <tr>\n",
       "      <th>2</th>\n",
       "      <td>0</td>\n",
       "      <td>0.395829</td>\n",
       "      <td>1033</td>\n",
       "      <td>0</td>\n",
       "      <td>1</td>\n",
       "      <td>1</td>\n",
       "      <td>1</td>\n",
       "      <td>1</td>\n",
       "      <td>0</td>\n",
       "      <td>0</td>\n",
       "      <td>0</td>\n",
       "      <td>0</td>\n",
       "      <td>0</td>\n",
       "      <td>0</td>\n",
       "      <td>1</td>\n",
       "    </tr>\n",
       "    <tr>\n",
       "      <th>3</th>\n",
       "      <td>0</td>\n",
       "      <td>0.039467</td>\n",
       "      <td>7656</td>\n",
       "      <td>0</td>\n",
       "      <td>1</td>\n",
       "      <td>0</td>\n",
       "      <td>0</td>\n",
       "      <td>0</td>\n",
       "      <td>0</td>\n",
       "      <td>0</td>\n",
       "      <td>0</td>\n",
       "      <td>0</td>\n",
       "      <td>0</td>\n",
       "      <td>0</td>\n",
       "      <td>0</td>\n",
       "    </tr>\n",
       "    <tr>\n",
       "      <th>4</th>\n",
       "      <td>1</td>\n",
       "      <td>0.996691</td>\n",
       "      <td>3241</td>\n",
       "      <td>1</td>\n",
       "      <td>1</td>\n",
       "      <td>1</td>\n",
       "      <td>1</td>\n",
       "      <td>1</td>\n",
       "      <td>1</td>\n",
       "      <td>1</td>\n",
       "      <td>1</td>\n",
       "      <td>1</td>\n",
       "      <td>1</td>\n",
       "      <td>1</td>\n",
       "      <td>1</td>\n",
       "    </tr>\n",
       "  </tbody>\n",
       "</table>\n",
       "</div>"
      ],
      "text/plain": [
       "   Converted  Conversion_prob  Prospect_id  predicted  0.0  0.1  0.2  0.3  \\\n",
       "0          0         0.050688          302          0    1    0    0    0   \n",
       "1          0         0.003489         6087          0    1    0    0    0   \n",
       "2          0         0.395829         1033          0    1    1    1    1   \n",
       "3          0         0.039467         7656          0    1    0    0    0   \n",
       "4          1         0.996691         3241          1    1    1    1    1   \n",
       "\n",
       "   0.4  0.5  0.6  0.7  0.8  0.9  final_predicted  \n",
       "0    0    0    0    0    0    0                0  \n",
       "1    0    0    0    0    0    0                0  \n",
       "2    0    0    0    0    0    0                1  \n",
       "3    0    0    0    0    0    0                0  \n",
       "4    1    1    1    1    1    1                1  "
      ]
     },
     "execution_count": 188,
     "metadata": {},
     "output_type": "execute_result"
    }
   ],
   "source": [
    "y_train_pred_final.head()"
   ]
  },
  {
   "cell_type": "code",
   "execution_count": 189,
   "id": "d3fb6f2e",
   "metadata": {},
   "outputs": [
    {
     "data": {
      "text/plain": [
       "0.9299072764419299"
      ]
     },
     "execution_count": 189,
     "metadata": {},
     "output_type": "execute_result"
    }
   ],
   "source": [
    "# Let's check the overall accuracy.\n",
    "metrics.accuracy_score(y_train_pred_final.Converted,y_train_pred_final.final_predicted)"
   ]
  },
  {
   "cell_type": "code",
   "execution_count": 190,
   "id": "a905634f",
   "metadata": {},
   "outputs": [],
   "source": [
    "confusion2 = metrics.confusion_matrix(y_train_pred_final.Converted,y_train_pred_final.final_predicted)"
   ]
  },
  {
   "cell_type": "code",
   "execution_count": 191,
   "id": "e53500be",
   "metadata": {},
   "outputs": [
    {
     "data": {
      "text/plain": [
       "array([[3643,  292],\n",
       "       [ 154, 2274]], dtype=int64)"
      ]
     },
     "execution_count": 191,
     "metadata": {},
     "output_type": "execute_result"
    }
   ],
   "source": [
    "confusion2"
   ]
  },
  {
   "cell_type": "code",
   "execution_count": 192,
   "id": "0ceac410",
   "metadata": {},
   "outputs": [],
   "source": [
    "TP = confusion2[1,1] # True positive\n",
    "TN = confusion2[0,0] # True negative\n",
    "FP = confusion2[0,1] # False positive\n",
    "FN = confusion2[1,0] # False negative"
   ]
  },
  {
   "cell_type": "code",
   "execution_count": 193,
   "id": "1170c6cb",
   "metadata": {},
   "outputs": [
    {
     "data": {
      "text/plain": [
       "0.9365733113673805"
      ]
     },
     "execution_count": 193,
     "metadata": {},
     "output_type": "execute_result"
    }
   ],
   "source": [
    "# Let's see the sensitivity of our logistic regression model\n",
    "TP/float(TP+ FN)"
   ]
  },
  {
   "cell_type": "code",
   "execution_count": 194,
   "id": "5517f08a",
   "metadata": {},
   "outputs": [
    {
     "data": {
      "text/plain": [
       "0.9257941550190597"
      ]
     },
     "execution_count": 194,
     "metadata": {},
     "output_type": "execute_result"
    }
   ],
   "source": [
    "# Let us calculate specificity\n",
    "TN/float(TN+FP)"
   ]
  },
  {
   "cell_type": "markdown",
   "id": "5a9cbf0a",
   "metadata": {},
   "source": [
    "- Earlier with 0.5 cut-off\n",
    "    - accuracy: 93.4%\n",
    "    - sensitivity : 88.8%\n",
    "    - specificity : 96.3%\n",
    "- After choosing the optimum cut-off at 0.3\n",
    "    - accuracy : 93%\n",
    "    - sensitivity : 93.7%\n",
    "    - specificity : 92.6%"
   ]
  },
  {
   "cell_type": "code",
   "execution_count": 195,
   "id": "ebf422ef",
   "metadata": {},
   "outputs": [
    {
     "data": {
      "text/plain": [
       "0.07420584498094028"
      ]
     },
     "execution_count": 195,
     "metadata": {},
     "output_type": "execute_result"
    }
   ],
   "source": [
    "# Calculate false postive rate\n",
    "FP/float(TN+FP)"
   ]
  },
  {
   "cell_type": "code",
   "execution_count": 196,
   "id": "8b77d377",
   "metadata": {},
   "outputs": [
    {
     "data": {
      "text/plain": [
       "0.8862042088854248"
      ]
     },
     "execution_count": 196,
     "metadata": {},
     "output_type": "execute_result"
    }
   ],
   "source": [
    "# Positive predictive value \n",
    "TP/float(TP+FP)"
   ]
  },
  {
   "cell_type": "code",
   "execution_count": 197,
   "id": "26cb420d",
   "metadata": {},
   "outputs": [
    {
     "data": {
      "text/plain": [
       "0.9594416644719516"
      ]
     },
     "execution_count": 197,
     "metadata": {},
     "output_type": "execute_result"
    }
   ],
   "source": [
    "# Negative predictive value\n",
    "TN/float(TN+FN)"
   ]
  },
  {
   "cell_type": "markdown",
   "id": "2f097cac",
   "metadata": {},
   "source": [
    "#### Model Evaluation: Precision and Recall"
   ]
  },
  {
   "cell_type": "code",
   "execution_count": 198,
   "id": "9999e81b",
   "metadata": {},
   "outputs": [],
   "source": [
    "from sklearn.metrics import precision_score, recall_score"
   ]
  },
  {
   "cell_type": "code",
   "execution_count": 199,
   "id": "f1bb31c7",
   "metadata": {},
   "outputs": [
    {
     "data": {
      "text/plain": [
       "0.8862042088854248"
      ]
     },
     "execution_count": 199,
     "metadata": {},
     "output_type": "execute_result"
    }
   ],
   "source": [
    "# Precision Score\n",
    "precision_score(y_train_pred_final.Converted,y_train_pred_final.final_predicted)"
   ]
  },
  {
   "cell_type": "code",
   "execution_count": 200,
   "id": "4e7c2785",
   "metadata": {},
   "outputs": [
    {
     "data": {
      "text/plain": [
       "0.9365733113673805"
      ]
     },
     "execution_count": 200,
     "metadata": {},
     "output_type": "execute_result"
    }
   ],
   "source": [
    "# Recall Score\n",
    "recall_score(y_train_pred_final.Converted,y_train_pred_final.final_predicted)"
   ]
  },
  {
   "cell_type": "markdown",
   "id": "8aba97ba",
   "metadata": {},
   "source": [
    "- Our model has very high Precision and Recall values"
   ]
  },
  {
   "cell_type": "markdown",
   "id": "e2a7e560",
   "metadata": {},
   "source": [
    "### Precision and recall tradeoff"
   ]
  },
  {
   "cell_type": "code",
   "execution_count": 201,
   "id": "2b1ca7ea",
   "metadata": {},
   "outputs": [],
   "source": [
    "from sklearn.metrics import precision_recall_curve"
   ]
  },
  {
   "cell_type": "code",
   "execution_count": 202,
   "id": "879e2cd8",
   "metadata": {},
   "outputs": [],
   "source": [
    "p, r, thresholds = precision_recall_curve(y_train_pred_final.Converted, y_train_pred_final.Conversion_prob)"
   ]
  },
  {
   "cell_type": "code",
   "execution_count": 203,
   "id": "b5295d98",
   "metadata": {
    "scrolled": true
   },
   "outputs": [
    {
     "data": {
      "image/png": "[encoded data removed]",
      "text/plain": [
       "<Figure size 432x288 with 1 Axes>"
      ]
     },
     "metadata": {
      "needs_background": "light"
     },
     "output_type": "display_data"
    }
   ],
   "source": [
    "plt.plot(thresholds,p[:-1],'g-')\n",
    "plt.plot(thresholds,r[:-1],'r-')\n",
    "plt.show()"
   ]
  },
  {
   "cell_type": "markdown",
   "id": "f80e30a8",
   "metadata": {},
   "source": [
    "- optimum cut-off is 0.4 from precision- recall view"
   ]
  },
  {
   "cell_type": "markdown",
   "id": "49ce01ed",
   "metadata": {},
   "source": [
    "# Step 16: Making predictions on the test set"
   ]
  },
  {
   "cell_type": "code",
   "execution_count": 204,
   "id": "032056a3",
   "metadata": {},
   "outputs": [
    {
     "data": {
      "text/html": [
       "<div>\n",
       "<style scoped>\n",
       "    .dataframe tbody tr th:only-of-type {\n",
       "        vertical-align: middle;\n",
       "    }\n",
       "\n",
       "    .dataframe tbody tr th {\n",
       "        vertical-align: top;\n",
       "    }\n",
       "\n",
       "    .dataframe thead th {\n",
       "        text-align: right;\n",
       "    }\n",
       "</style>\n",
       "<table border=\"1\" class=\"dataframe\">\n",
       "  <thead>\n",
       "    <tr style=\"text-align: right;\">\n",
       "      <th></th>\n",
       "      <th>Do Not Email</th>\n",
       "      <th>TotalVisits</th>\n",
       "      <th>Total Time Spent on Website</th>\n",
       "      <th>Page Views Per Visit</th>\n",
       "      <th>A free copy of Mastering The Interview</th>\n",
       "      <th>Lead_Origin_API</th>\n",
       "      <th>Lead_Origin_Landing Page Submission</th>\n",
       "      <th>Lead_Origin_Lead Add Form</th>\n",
       "      <th>Lead_Origin_Lead Import</th>\n",
       "      <th>Lead_Source_Direct Traffic</th>\n",
       "      <th>Lead_Source_Google</th>\n",
       "      <th>Lead_Source_Olark Chat</th>\n",
       "      <th>Lead_Source_Organic Search</th>\n",
       "      <th>Lead_Source_Reference</th>\n",
       "      <th>Lead_Source_Referral Sites</th>\n",
       "      <th>Lead_Source_Welingak Website</th>\n",
       "      <th>Last_Activity_Converted to Lead</th>\n",
       "      <th>Last_Activity_Email Bounced</th>\n",
       "      <th>Last_Activity_Email Link Clicked</th>\n",
       "      <th>Last_Activity_Email Opened</th>\n",
       "      <th>Last_Activity_Form Submitted on Website</th>\n",
       "      <th>Last_Activity_Olark Chat Conversation</th>\n",
       "      <th>Last_Activity_Page Visited on Website</th>\n",
       "      <th>Last_Activity_SMS Sent</th>\n",
       "      <th>Specialization_Banking, Investment And Insurance</th>\n",
       "      <th>Specialization_Business Administration</th>\n",
       "      <th>Specialization_Business Specializations</th>\n",
       "      <th>Specialization_E-COMMERCE</th>\n",
       "      <th>Specialization_Management Specializations</th>\n",
       "      <th>Specialization_Media and Advertising</th>\n",
       "      <th>Specialization_Services Excellence</th>\n",
       "      <th>Specialization_Travel and Tourism</th>\n",
       "      <th>current_occupation_Not mentioned</th>\n",
       "      <th>current_occupation_Student</th>\n",
       "      <th>current_occupation_Unemployed</th>\n",
       "      <th>current_occupation_Working Professional</th>\n",
       "      <th>Tags_Already a student</th>\n",
       "      <th>Tags_Busy</th>\n",
       "      <th>Tags_Closed by Horizzon</th>\n",
       "      <th>Tags_Graduation in progress</th>\n",
       "      <th>Tags_Interested  in full time MBA</th>\n",
       "      <th>Tags_Interested in other courses</th>\n",
       "      <th>Tags_Lost to EINS</th>\n",
       "      <th>Tags_Not doing further education</th>\n",
       "      <th>Tags_Others</th>\n",
       "      <th>Tags_Ringing</th>\n",
       "      <th>Tags_Will revert after reading the email</th>\n",
       "      <th>Tags_switched off</th>\n",
       "      <th>Last_Notable_Activity_Email Link Clicked</th>\n",
       "      <th>Last_Notable_Activity_Email Opened</th>\n",
       "      <th>Last_Notable_Activity_Modified</th>\n",
       "      <th>Last_Notable_Activity_Olark Chat Conversation</th>\n",
       "      <th>Last_Notable_Activity_Page Visited on Website</th>\n",
       "      <th>Last_Notable_Activity_SMS Sent</th>\n",
       "    </tr>\n",
       "  </thead>\n",
       "  <tbody>\n",
       "    <tr>\n",
       "      <th>6906</th>\n",
       "      <td>0</td>\n",
       "      <td>0.294642</td>\n",
       "      <td>1.919395</td>\n",
       "      <td>-0.133122</td>\n",
       "      <td>0</td>\n",
       "      <td>0</td>\n",
       "      <td>1</td>\n",
       "      <td>0</td>\n",
       "      <td>0</td>\n",
       "      <td>1</td>\n",
       "      <td>0</td>\n",
       "      <td>0</td>\n",
       "      <td>0</td>\n",
       "      <td>0</td>\n",
       "      <td>0</td>\n",
       "      <td>0</td>\n",
       "      <td>0</td>\n",
       "      <td>0</td>\n",
       "      <td>0</td>\n",
       "      <td>0</td>\n",
       "      <td>0</td>\n",
       "      <td>0</td>\n",
       "      <td>0</td>\n",
       "      <td>1</td>\n",
       "      <td>0</td>\n",
       "      <td>0</td>\n",
       "      <td>0</td>\n",
       "      <td>0</td>\n",
       "      <td>1</td>\n",
       "      <td>0</td>\n",
       "      <td>0</td>\n",
       "      <td>0</td>\n",
       "      <td>0</td>\n",
       "      <td>0</td>\n",
       "      <td>1</td>\n",
       "      <td>0</td>\n",
       "      <td>0</td>\n",
       "      <td>0</td>\n",
       "      <td>0</td>\n",
       "      <td>0</td>\n",
       "      <td>0</td>\n",
       "      <td>0</td>\n",
       "      <td>0</td>\n",
       "      <td>0</td>\n",
       "      <td>0</td>\n",
       "      <td>0</td>\n",
       "      <td>1</td>\n",
       "      <td>0</td>\n",
       "      <td>0</td>\n",
       "      <td>0</td>\n",
       "      <td>0</td>\n",
       "      <td>0</td>\n",
       "      <td>0</td>\n",
       "      <td>1</td>\n",
       "    </tr>\n",
       "    <tr>\n",
       "      <th>1873</th>\n",
       "      <td>0</td>\n",
       "      <td>-0.400118</td>\n",
       "      <td>-0.546142</td>\n",
       "      <td>-0.133122</td>\n",
       "      <td>0</td>\n",
       "      <td>0</td>\n",
       "      <td>1</td>\n",
       "      <td>0</td>\n",
       "      <td>0</td>\n",
       "      <td>0</td>\n",
       "      <td>1</td>\n",
       "      <td>0</td>\n",
       "      <td>0</td>\n",
       "      <td>0</td>\n",
       "      <td>0</td>\n",
       "      <td>0</td>\n",
       "      <td>0</td>\n",
       "      <td>0</td>\n",
       "      <td>0</td>\n",
       "      <td>0</td>\n",
       "      <td>0</td>\n",
       "      <td>0</td>\n",
       "      <td>0</td>\n",
       "      <td>1</td>\n",
       "      <td>0</td>\n",
       "      <td>0</td>\n",
       "      <td>0</td>\n",
       "      <td>0</td>\n",
       "      <td>0</td>\n",
       "      <td>0</td>\n",
       "      <td>0</td>\n",
       "      <td>0</td>\n",
       "      <td>0</td>\n",
       "      <td>0</td>\n",
       "      <td>1</td>\n",
       "      <td>0</td>\n",
       "      <td>0</td>\n",
       "      <td>0</td>\n",
       "      <td>0</td>\n",
       "      <td>0</td>\n",
       "      <td>0</td>\n",
       "      <td>1</td>\n",
       "      <td>0</td>\n",
       "      <td>0</td>\n",
       "      <td>0</td>\n",
       "      <td>0</td>\n",
       "      <td>0</td>\n",
       "      <td>0</td>\n",
       "      <td>0</td>\n",
       "      <td>0</td>\n",
       "      <td>1</td>\n",
       "      <td>0</td>\n",
       "      <td>0</td>\n",
       "      <td>0</td>\n",
       "    </tr>\n",
       "    <tr>\n",
       "      <th>771</th>\n",
       "      <td>0</td>\n",
       "      <td>1.336782</td>\n",
       "      <td>-0.797465</td>\n",
       "      <td>2.550862</td>\n",
       "      <td>0</td>\n",
       "      <td>1</td>\n",
       "      <td>0</td>\n",
       "      <td>0</td>\n",
       "      <td>0</td>\n",
       "      <td>0</td>\n",
       "      <td>1</td>\n",
       "      <td>0</td>\n",
       "      <td>0</td>\n",
       "      <td>0</td>\n",
       "      <td>0</td>\n",
       "      <td>0</td>\n",
       "      <td>0</td>\n",
       "      <td>0</td>\n",
       "      <td>0</td>\n",
       "      <td>1</td>\n",
       "      <td>0</td>\n",
       "      <td>0</td>\n",
       "      <td>0</td>\n",
       "      <td>0</td>\n",
       "      <td>0</td>\n",
       "      <td>0</td>\n",
       "      <td>0</td>\n",
       "      <td>0</td>\n",
       "      <td>0</td>\n",
       "      <td>0</td>\n",
       "      <td>0</td>\n",
       "      <td>0</td>\n",
       "      <td>0</td>\n",
       "      <td>0</td>\n",
       "      <td>1</td>\n",
       "      <td>0</td>\n",
       "      <td>0</td>\n",
       "      <td>0</td>\n",
       "      <td>0</td>\n",
       "      <td>0</td>\n",
       "      <td>0</td>\n",
       "      <td>0</td>\n",
       "      <td>0</td>\n",
       "      <td>0</td>\n",
       "      <td>0</td>\n",
       "      <td>1</td>\n",
       "      <td>0</td>\n",
       "      <td>0</td>\n",
       "      <td>0</td>\n",
       "      <td>1</td>\n",
       "      <td>0</td>\n",
       "      <td>0</td>\n",
       "      <td>0</td>\n",
       "      <td>0</td>\n",
       "    </tr>\n",
       "    <tr>\n",
       "      <th>4495</th>\n",
       "      <td>0</td>\n",
       "      <td>0.294642</td>\n",
       "      <td>-0.623190</td>\n",
       "      <td>0.940472</td>\n",
       "      <td>1</td>\n",
       "      <td>0</td>\n",
       "      <td>1</td>\n",
       "      <td>0</td>\n",
       "      <td>0</td>\n",
       "      <td>0</td>\n",
       "      <td>1</td>\n",
       "      <td>0</td>\n",
       "      <td>0</td>\n",
       "      <td>0</td>\n",
       "      <td>0</td>\n",
       "      <td>0</td>\n",
       "      <td>0</td>\n",
       "      <td>0</td>\n",
       "      <td>0</td>\n",
       "      <td>1</td>\n",
       "      <td>0</td>\n",
       "      <td>0</td>\n",
       "      <td>0</td>\n",
       "      <td>0</td>\n",
       "      <td>0</td>\n",
       "      <td>0</td>\n",
       "      <td>0</td>\n",
       "      <td>0</td>\n",
       "      <td>1</td>\n",
       "      <td>0</td>\n",
       "      <td>0</td>\n",
       "      <td>0</td>\n",
       "      <td>0</td>\n",
       "      <td>0</td>\n",
       "      <td>1</td>\n",
       "      <td>0</td>\n",
       "      <td>0</td>\n",
       "      <td>0</td>\n",
       "      <td>0</td>\n",
       "      <td>0</td>\n",
       "      <td>0</td>\n",
       "      <td>0</td>\n",
       "      <td>0</td>\n",
       "      <td>0</td>\n",
       "      <td>0</td>\n",
       "      <td>1</td>\n",
       "      <td>0</td>\n",
       "      <td>0</td>\n",
       "      <td>0</td>\n",
       "      <td>1</td>\n",
       "      <td>0</td>\n",
       "      <td>0</td>\n",
       "      <td>0</td>\n",
       "      <td>0</td>\n",
       "    </tr>\n",
       "    <tr>\n",
       "      <th>9061</th>\n",
       "      <td>0</td>\n",
       "      <td>-0.400118</td>\n",
       "      <td>2.392690</td>\n",
       "      <td>-0.133122</td>\n",
       "      <td>1</td>\n",
       "      <td>0</td>\n",
       "      <td>1</td>\n",
       "      <td>0</td>\n",
       "      <td>0</td>\n",
       "      <td>1</td>\n",
       "      <td>0</td>\n",
       "      <td>0</td>\n",
       "      <td>0</td>\n",
       "      <td>0</td>\n",
       "      <td>0</td>\n",
       "      <td>0</td>\n",
       "      <td>0</td>\n",
       "      <td>0</td>\n",
       "      <td>0</td>\n",
       "      <td>1</td>\n",
       "      <td>0</td>\n",
       "      <td>0</td>\n",
       "      <td>0</td>\n",
       "      <td>0</td>\n",
       "      <td>0</td>\n",
       "      <td>0</td>\n",
       "      <td>0</td>\n",
       "      <td>0</td>\n",
       "      <td>1</td>\n",
       "      <td>0</td>\n",
       "      <td>0</td>\n",
       "      <td>0</td>\n",
       "      <td>1</td>\n",
       "      <td>0</td>\n",
       "      <td>0</td>\n",
       "      <td>0</td>\n",
       "      <td>0</td>\n",
       "      <td>0</td>\n",
       "      <td>0</td>\n",
       "      <td>0</td>\n",
       "      <td>0</td>\n",
       "      <td>0</td>\n",
       "      <td>1</td>\n",
       "      <td>0</td>\n",
       "      <td>0</td>\n",
       "      <td>0</td>\n",
       "      <td>0</td>\n",
       "      <td>0</td>\n",
       "      <td>0</td>\n",
       "      <td>0</td>\n",
       "      <td>1</td>\n",
       "      <td>0</td>\n",
       "      <td>0</td>\n",
       "      <td>0</td>\n",
       "    </tr>\n",
       "  </tbody>\n",
       "</table>\n",
       "</div>"
      ],
      "text/plain": [
       "      Do Not Email  TotalVisits  Total Time Spent on Website  \\\n",
       "6906             0     0.294642                     1.919395   \n",
       "1873             0    -0.400118                    -0.546142   \n",
       "771              0     1.336782                    -0.797465   \n",
       "4495             0     0.294642                    -0.623190   \n",
       "9061             0    -0.400118                     2.392690   \n",
       "\n",
       "      Page Views Per Visit  A free copy of Mastering The Interview  \\\n",
       "6906             -0.133122                                       0   \n",
       "1873             -0.133122                                       0   \n",
       "771               2.550862                                       0   \n",
       "4495              0.940472                                       1   \n",
       "9061             -0.133122                                       1   \n",
       "\n",
       "      Lead_Origin_API  Lead_Origin_Landing Page Submission  \\\n",
       "6906                0                                    1   \n",
       "1873                0                                    1   \n",
       "771                 1                                    0   \n",
       "4495                0                                    1   \n",
       "9061                0                                    1   \n",
       "\n",
       "      Lead_Origin_Lead Add Form  Lead_Origin_Lead Import  \\\n",
       "6906                          0                        0   \n",
       "1873                          0                        0   \n",
       "771                           0                        0   \n",
       "4495                          0                        0   \n",
       "9061                          0                        0   \n",
       "\n",
       "      Lead_Source_Direct Traffic  Lead_Source_Google  Lead_Source_Olark Chat  \\\n",
       "6906                           1                   0                       0   \n",
       "1873                           0                   1                       0   \n",
       "771                            0                   1                       0   \n",
       "4495                           0                   1                       0   \n",
       "9061                           1                   0                       0   \n",
       "\n",
       "      Lead_Source_Organic Search  Lead_Source_Reference  \\\n",
       "6906                           0                      0   \n",
       "1873                           0                      0   \n",
       "771                            0                      0   \n",
       "4495                           0                      0   \n",
       "9061                           0                      0   \n",
       "\n",
       "      Lead_Source_Referral Sites  Lead_Source_Welingak Website  \\\n",
       "6906                           0                             0   \n",
       "1873                           0                             0   \n",
       "771                            0                             0   \n",
       "4495                           0                             0   \n",
       "9061                           0                             0   \n",
       "\n",
       "      Last_Activity_Converted to Lead  Last_Activity_Email Bounced  \\\n",
       "6906                                0                            0   \n",
       "1873                                0                            0   \n",
       "771                                 0                            0   \n",
       "4495                                0                            0   \n",
       "9061                                0                            0   \n",
       "\n",
       "      Last_Activity_Email Link Clicked  Last_Activity_Email Opened  \\\n",
       "6906                                 0                           0   \n",
       "1873                                 0                           0   \n",
       "771                                  0                           1   \n",
       "4495                                 0                           1   \n",
       "9061                                 0                           1   \n",
       "\n",
       "      Last_Activity_Form Submitted on Website  \\\n",
       "6906                                        0   \n",
       "1873                                        0   \n",
       "771                                         0   \n",
       "4495                                        0   \n",
       "9061                                        0   \n",
       "\n",
       "      Last_Activity_Olark Chat Conversation  \\\n",
       "6906                                      0   \n",
       "1873                                      0   \n",
       "771                                       0   \n",
       "4495                                      0   \n",
       "9061                                      0   \n",
       "\n",
       "      Last_Activity_Page Visited on Website  Last_Activity_SMS Sent  \\\n",
       "6906                                      0                       1   \n",
       "1873                                      0                       1   \n",
       "771                                       0                       0   \n",
       "4495                                      0                       0   \n",
       "9061                                      0                       0   \n",
       "\n",
       "      Specialization_Banking, Investment And Insurance  \\\n",
       "6906                                                 0   \n",
       "1873                                                 0   \n",
       "771                                                  0   \n",
       "4495                                                 0   \n",
       "9061                                                 0   \n",
       "\n",
       "      Specialization_Business Administration  \\\n",
       "6906                                       0   \n",
       "1873                                       0   \n",
       "771                                        0   \n",
       "4495                                       0   \n",
       "9061                                       0   \n",
       "\n",
       "      Specialization_Business Specializations  Specialization_E-COMMERCE  \\\n",
       "6906                                        0                          0   \n",
       "1873                                        0                          0   \n",
       "771                                         0                          0   \n",
       "4495                                        0                          0   \n",
       "9061                                        0                          0   \n",
       "\n",
       "      Specialization_Management Specializations  \\\n",
       "6906                                          1   \n",
       "1873                                          0   \n",
       "771                                           0   \n",
       "4495                                          1   \n",
       "9061                                          1   \n",
       "\n",
       "      Specialization_Media and Advertising  \\\n",
       "6906                                     0   \n",
       "1873                                     0   \n",
       "771                                      0   \n",
       "4495                                     0   \n",
       "9061                                     0   \n",
       "\n",
       "      Specialization_Services Excellence  Specialization_Travel and Tourism  \\\n",
       "6906                                   0                                  0   \n",
       "1873                                   0                                  0   \n",
       "771                                    0                                  0   \n",
       "4495                                   0                                  0   \n",
       "9061                                   0                                  0   \n",
       "\n",
       "      current_occupation_Not mentioned  current_occupation_Student  \\\n",
       "6906                                 0                           0   \n",
       "1873                                 0                           0   \n",
       "771                                  0                           0   \n",
       "4495                                 0                           0   \n",
       "9061                                 1                           0   \n",
       "\n",
       "      current_occupation_Unemployed  current_occupation_Working Professional  \\\n",
       "6906                              1                                        0   \n",
       "1873                              1                                        0   \n",
       "771                               1                                        0   \n",
       "4495                              1                                        0   \n",
       "9061                              0                                        0   \n",
       "\n",
       "      Tags_Already a student  Tags_Busy  Tags_Closed by Horizzon  \\\n",
       "6906                       0          0                        0   \n",
       "1873                       0          0                        0   \n",
       "771                        0          0                        0   \n",
       "4495                       0          0                        0   \n",
       "9061                       0          0                        0   \n",
       "\n",
       "      Tags_Graduation in progress  Tags_Interested  in full time MBA  \\\n",
       "6906                            0                                  0   \n",
       "1873                            0                                  0   \n",
       "771                             0                                  0   \n",
       "4495                            0                                  0   \n",
       "9061                            0                                  0   \n",
       "\n",
       "      Tags_Interested in other courses  Tags_Lost to EINS  \\\n",
       "6906                                 0                  0   \n",
       "1873                                 1                  0   \n",
       "771                                  0                  0   \n",
       "4495                                 0                  0   \n",
       "9061                                 0                  1   \n",
       "\n",
       "      Tags_Not doing further education  Tags_Others  Tags_Ringing  \\\n",
       "6906                                 0            0             0   \n",
       "1873                                 0            0             0   \n",
       "771                                  0            0             1   \n",
       "4495                                 0            0             1   \n",
       "9061                                 0            0             0   \n",
       "\n",
       "      Tags_Will revert after reading the email  Tags_switched off  \\\n",
       "6906                                         1                  0   \n",
       "1873                                         0                  0   \n",
       "771                                          0                  0   \n",
       "4495                                         0                  0   \n",
       "9061                                         0                  0   \n",
       "\n",
       "      Last_Notable_Activity_Email Link Clicked  \\\n",
       "6906                                         0   \n",
       "1873                                         0   \n",
       "771                                          0   \n",
       "4495                                         0   \n",
       "9061                                         0   \n",
       "\n",
       "      Last_Notable_Activity_Email Opened  Last_Notable_Activity_Modified  \\\n",
       "6906                                   0                               0   \n",
       "1873                                   0                               1   \n",
       "771                                    1                               0   \n",
       "4495                                   1                               0   \n",
       "9061                                   0                               1   \n",
       "\n",
       "      Last_Notable_Activity_Olark Chat Conversation  \\\n",
       "6906                                              0   \n",
       "1873                                              0   \n",
       "771                                               0   \n",
       "4495                                              0   \n",
       "9061                                              0   \n",
       "\n",
       "      Last_Notable_Activity_Page Visited on Website  \\\n",
       "6906                                              0   \n",
       "1873                                              0   \n",
       "771                                               0   \n",
       "4495                                              0   \n",
       "9061                                              0   \n",
       "\n",
       "      Last_Notable_Activity_SMS Sent  \n",
       "6906                               1  \n",
       "1873                               0  \n",
       "771                                0  \n",
       "4495                               0  \n",
       "9061                               0  "
      ]
     },
     "execution_count": 204,
     "metadata": {},
     "output_type": "execute_result"
    }
   ],
   "source": [
    "# Applying scaler() to continuous variables \n",
    "#fitting on data\n",
    "num = ['TotalVisits','Total Time Spent on Website','Page Views Per Visit']\n",
    "X_test[num] = scaler.transform(X_test[num])\n",
    "X_test.head()"
   ]
  },
  {
   "cell_type": "code",
   "execution_count": 205,
   "id": "3aebd051",
   "metadata": {},
   "outputs": [
    {
     "data": {
      "text/html": [
       "<div>\n",
       "<style scoped>\n",
       "    .dataframe tbody tr th:only-of-type {\n",
       "        vertical-align: middle;\n",
       "    }\n",
       "\n",
       "    .dataframe tbody tr th {\n",
       "        vertical-align: top;\n",
       "    }\n",
       "\n",
       "    .dataframe thead th {\n",
       "        text-align: right;\n",
       "    }\n",
       "</style>\n",
       "<table border=\"1\" class=\"dataframe\">\n",
       "  <thead>\n",
       "    <tr style=\"text-align: right;\">\n",
       "      <th></th>\n",
       "      <th>Total Time Spent on Website</th>\n",
       "      <th>Lead_Origin_Lead Add Form</th>\n",
       "      <th>Lead_Source_Olark Chat</th>\n",
       "      <th>Lead_Source_Welingak Website</th>\n",
       "      <th>Last_Activity_Email Bounced</th>\n",
       "      <th>Last_Activity_SMS Sent</th>\n",
       "      <th>current_occupation_Not mentioned</th>\n",
       "      <th>Tags_Already a student</th>\n",
       "      <th>Tags_Closed by Horizzon</th>\n",
       "      <th>Tags_Graduation in progress</th>\n",
       "      <th>Tags_Interested  in full time MBA</th>\n",
       "      <th>Tags_Interested in other courses</th>\n",
       "      <th>Tags_Lost to EINS</th>\n",
       "      <th>Tags_Others</th>\n",
       "      <th>Tags_Ringing</th>\n",
       "      <th>Tags_Will revert after reading the email</th>\n",
       "      <th>Tags_switched off</th>\n",
       "      <th>Last_Notable_Activity_Modified</th>\n",
       "      <th>Last_Notable_Activity_Olark Chat Conversation</th>\n",
       "    </tr>\n",
       "  </thead>\n",
       "  <tbody>\n",
       "    <tr>\n",
       "      <th>6906</th>\n",
       "      <td>1.919395</td>\n",
       "      <td>0</td>\n",
       "      <td>0</td>\n",
       "      <td>0</td>\n",
       "      <td>0</td>\n",
       "      <td>1</td>\n",
       "      <td>0</td>\n",
       "      <td>0</td>\n",
       "      <td>0</td>\n",
       "      <td>0</td>\n",
       "      <td>0</td>\n",
       "      <td>0</td>\n",
       "      <td>0</td>\n",
       "      <td>0</td>\n",
       "      <td>0</td>\n",
       "      <td>1</td>\n",
       "      <td>0</td>\n",
       "      <td>0</td>\n",
       "      <td>0</td>\n",
       "    </tr>\n",
       "    <tr>\n",
       "      <th>1873</th>\n",
       "      <td>-0.546142</td>\n",
       "      <td>0</td>\n",
       "      <td>0</td>\n",
       "      <td>0</td>\n",
       "      <td>0</td>\n",
       "      <td>1</td>\n",
       "      <td>0</td>\n",
       "      <td>0</td>\n",
       "      <td>0</td>\n",
       "      <td>0</td>\n",
       "      <td>0</td>\n",
       "      <td>1</td>\n",
       "      <td>0</td>\n",
       "      <td>0</td>\n",
       "      <td>0</td>\n",
       "      <td>0</td>\n",
       "      <td>0</td>\n",
       "      <td>1</td>\n",
       "      <td>0</td>\n",
       "    </tr>\n",
       "    <tr>\n",
       "      <th>771</th>\n",
       "      <td>-0.797465</td>\n",
       "      <td>0</td>\n",
       "      <td>0</td>\n",
       "      <td>0</td>\n",
       "      <td>0</td>\n",
       "      <td>0</td>\n",
       "      <td>0</td>\n",
       "      <td>0</td>\n",
       "      <td>0</td>\n",
       "      <td>0</td>\n",
       "      <td>0</td>\n",
       "      <td>0</td>\n",
       "      <td>0</td>\n",
       "      <td>0</td>\n",
       "      <td>1</td>\n",
       "      <td>0</td>\n",
       "      <td>0</td>\n",
       "      <td>0</td>\n",
       "      <td>0</td>\n",
       "    </tr>\n",
       "    <tr>\n",
       "      <th>4495</th>\n",
       "      <td>-0.623190</td>\n",
       "      <td>0</td>\n",
       "      <td>0</td>\n",
       "      <td>0</td>\n",
       "      <td>0</td>\n",
       "      <td>0</td>\n",
       "      <td>0</td>\n",
       "      <td>0</td>\n",
       "      <td>0</td>\n",
       "      <td>0</td>\n",
       "      <td>0</td>\n",
       "      <td>0</td>\n",
       "      <td>0</td>\n",
       "      <td>0</td>\n",
       "      <td>1</td>\n",
       "      <td>0</td>\n",
       "      <td>0</td>\n",
       "      <td>0</td>\n",
       "      <td>0</td>\n",
       "    </tr>\n",
       "    <tr>\n",
       "      <th>9061</th>\n",
       "      <td>2.392690</td>\n",
       "      <td>0</td>\n",
       "      <td>0</td>\n",
       "      <td>0</td>\n",
       "      <td>0</td>\n",
       "      <td>0</td>\n",
       "      <td>1</td>\n",
       "      <td>0</td>\n",
       "      <td>0</td>\n",
       "      <td>0</td>\n",
       "      <td>0</td>\n",
       "      <td>0</td>\n",
       "      <td>1</td>\n",
       "      <td>0</td>\n",
       "      <td>0</td>\n",
       "      <td>0</td>\n",
       "      <td>0</td>\n",
       "      <td>1</td>\n",
       "      <td>0</td>\n",
       "    </tr>\n",
       "  </tbody>\n",
       "</table>\n",
       "</div>"
      ],
      "text/plain": [
       "      Total Time Spent on Website  Lead_Origin_Lead Add Form  \\\n",
       "6906                     1.919395                          0   \n",
       "1873                    -0.546142                          0   \n",
       "771                     -0.797465                          0   \n",
       "4495                    -0.623190                          0   \n",
       "9061                     2.392690                          0   \n",
       "\n",
       "      Lead_Source_Olark Chat  Lead_Source_Welingak Website  \\\n",
       "6906                       0                             0   \n",
       "1873                       0                             0   \n",
       "771                        0                             0   \n",
       "4495                       0                             0   \n",
       "9061                       0                             0   \n",
       "\n",
       "      Last_Activity_Email Bounced  Last_Activity_SMS Sent  \\\n",
       "6906                            0                       1   \n",
       "1873                            0                       1   \n",
       "771                             0                       0   \n",
       "4495                            0                       0   \n",
       "9061                            0                       0   \n",
       "\n",
       "      current_occupation_Not mentioned  Tags_Already a student  \\\n",
       "6906                                 0                       0   \n",
       "1873                                 0                       0   \n",
       "771                                  0                       0   \n",
       "4495                                 0                       0   \n",
       "9061                                 1                       0   \n",
       "\n",
       "      Tags_Closed by Horizzon  Tags_Graduation in progress  \\\n",
       "6906                        0                            0   \n",
       "1873                        0                            0   \n",
       "771                         0                            0   \n",
       "4495                        0                            0   \n",
       "9061                        0                            0   \n",
       "\n",
       "      Tags_Interested  in full time MBA  Tags_Interested in other courses  \\\n",
       "6906                                  0                                 0   \n",
       "1873                                  0                                 1   \n",
       "771                                   0                                 0   \n",
       "4495                                  0                                 0   \n",
       "9061                                  0                                 0   \n",
       "\n",
       "      Tags_Lost to EINS  Tags_Others  Tags_Ringing  \\\n",
       "6906                  0            0             0   \n",
       "1873                  0            0             0   \n",
       "771                   0            0             1   \n",
       "4495                  0            0             1   \n",
       "9061                  1            0             0   \n",
       "\n",
       "      Tags_Will revert after reading the email  Tags_switched off  \\\n",
       "6906                                         1                  0   \n",
       "1873                                         0                  0   \n",
       "771                                          0                  0   \n",
       "4495                                         0                  0   \n",
       "9061                                         0                  0   \n",
       "\n",
       "      Last_Notable_Activity_Modified  \\\n",
       "6906                               0   \n",
       "1873                               1   \n",
       "771                                0   \n",
       "4495                               0   \n",
       "9061                               1   \n",
       "\n",
       "      Last_Notable_Activity_Olark Chat Conversation  \n",
       "6906                                              0  \n",
       "1873                                              0  \n",
       "771                                               0  \n",
       "4495                                              0  \n",
       "9061                                              0  "
      ]
     },
     "execution_count": 205,
     "metadata": {},
     "output_type": "execute_result"
    }
   ],
   "source": [
    "# considering only selected columns in model\n",
    "X_test = X_test[col]\n",
    "X_test.head()"
   ]
  },
  {
   "cell_type": "code",
   "execution_count": 206,
   "id": "dfd1f032",
   "metadata": {},
   "outputs": [],
   "source": [
    "X_test_sm = sm.add_constant(X_test)"
   ]
  },
  {
   "cell_type": "markdown",
   "id": "bb1d4bbb",
   "metadata": {},
   "source": [
    "Making predictions on the test set"
   ]
  },
  {
   "cell_type": "code",
   "execution_count": 207,
   "id": "80390926",
   "metadata": {},
   "outputs": [],
   "source": [
    "y_test_pred = lgm3.predict(X_test_sm)"
   ]
  },
  {
   "cell_type": "code",
   "execution_count": 208,
   "id": "220aa66a",
   "metadata": {},
   "outputs": [
    {
     "data": {
      "text/plain": [
       "6906    0.998898\n",
       "1873    0.017804\n",
       "771     0.003147\n",
       "4495    0.003795\n",
       "9061    0.992384\n",
       "4929    0.321457\n",
       "2308    0.013300\n",
       "1034    0.050741\n",
       "9033    0.003122\n",
       "7008    0.977798\n",
       "dtype: float64"
      ]
     },
     "execution_count": 208,
     "metadata": {},
     "output_type": "execute_result"
    }
   ],
   "source": [
    "y_test_pred[:10]"
   ]
  },
  {
   "cell_type": "code",
   "execution_count": 209,
   "id": "85c01f37",
   "metadata": {},
   "outputs": [],
   "source": [
    "# Converting y_test_pred(which is an array) to a dataframe \n",
    "y_test_pred_df = pd.DataFrame(y_test_pred)"
   ]
  },
  {
   "cell_type": "code",
   "execution_count": 210,
   "id": "f546affa",
   "metadata": {},
   "outputs": [
    {
     "data": {
      "text/html": [
       "<div>\n",
       "<style scoped>\n",
       "    .dataframe tbody tr th:only-of-type {\n",
       "        vertical-align: middle;\n",
       "    }\n",
       "\n",
       "    .dataframe tbody tr th {\n",
       "        vertical-align: top;\n",
       "    }\n",
       "\n",
       "    .dataframe thead th {\n",
       "        text-align: right;\n",
       "    }\n",
       "</style>\n",
       "<table border=\"1\" class=\"dataframe\">\n",
       "  <thead>\n",
       "    <tr style=\"text-align: right;\">\n",
       "      <th></th>\n",
       "      <th>0</th>\n",
       "    </tr>\n",
       "  </thead>\n",
       "  <tbody>\n",
       "    <tr>\n",
       "      <th>6906</th>\n",
       "      <td>0.998898</td>\n",
       "    </tr>\n",
       "    <tr>\n",
       "      <th>1873</th>\n",
       "      <td>0.017804</td>\n",
       "    </tr>\n",
       "    <tr>\n",
       "      <th>771</th>\n",
       "      <td>0.003147</td>\n",
       "    </tr>\n",
       "    <tr>\n",
       "      <th>4495</th>\n",
       "      <td>0.003795</td>\n",
       "    </tr>\n",
       "    <tr>\n",
       "      <th>9061</th>\n",
       "      <td>0.992384</td>\n",
       "    </tr>\n",
       "  </tbody>\n",
       "</table>\n",
       "</div>"
      ],
      "text/plain": [
       "             0\n",
       "6906  0.998898\n",
       "1873  0.017804\n",
       "771   0.003147\n",
       "4495  0.003795\n",
       "9061  0.992384"
      ]
     },
     "execution_count": 210,
     "metadata": {},
     "output_type": "execute_result"
    }
   ],
   "source": [
    "y_test_pred_df.head()"
   ]
  },
  {
   "cell_type": "code",
   "execution_count": 211,
   "id": "a1e354ec",
   "metadata": {},
   "outputs": [],
   "source": [
    "# Converting y_test to dataframe\n",
    "y_test_df = pd.DataFrame(y_test)"
   ]
  },
  {
   "cell_type": "code",
   "execution_count": 212,
   "id": "d9d7ddc4",
   "metadata": {},
   "outputs": [],
   "source": [
    "# Putting Prospect_ID to index\n",
    "y_test_df['Prospect ID'] = y_test_df.index"
   ]
  },
  {
   "cell_type": "code",
   "execution_count": 213,
   "id": "cfe64387",
   "metadata": {},
   "outputs": [],
   "source": [
    "# Removing index for both dataframes to append them side by side \n",
    "y_test_pred_df.reset_index(drop = True,inplace =True)\n",
    "y_test_df.reset_index(drop = True, inplace= True)"
   ]
  },
  {
   "cell_type": "code",
   "execution_count": 214,
   "id": "edaecb11",
   "metadata": {},
   "outputs": [
    {
     "data": {
      "text/html": [
       "<div>\n",
       "<style scoped>\n",
       "    .dataframe tbody tr th:only-of-type {\n",
       "        vertical-align: middle;\n",
       "    }\n",
       "\n",
       "    .dataframe tbody tr th {\n",
       "        vertical-align: top;\n",
       "    }\n",
       "\n",
       "    .dataframe thead th {\n",
       "        text-align: right;\n",
       "    }\n",
       "</style>\n",
       "<table border=\"1\" class=\"dataframe\">\n",
       "  <thead>\n",
       "    <tr style=\"text-align: right;\">\n",
       "      <th></th>\n",
       "      <th>Converted</th>\n",
       "      <th>Prospect ID</th>\n",
       "      <th>0</th>\n",
       "    </tr>\n",
       "  </thead>\n",
       "  <tbody>\n",
       "    <tr>\n",
       "      <th>0</th>\n",
       "      <td>1</td>\n",
       "      <td>6906</td>\n",
       "      <td>0.998898</td>\n",
       "    </tr>\n",
       "    <tr>\n",
       "      <th>1</th>\n",
       "      <td>0</td>\n",
       "      <td>1873</td>\n",
       "      <td>0.017804</td>\n",
       "    </tr>\n",
       "    <tr>\n",
       "      <th>2</th>\n",
       "      <td>0</td>\n",
       "      <td>771</td>\n",
       "      <td>0.003147</td>\n",
       "    </tr>\n",
       "    <tr>\n",
       "      <th>3</th>\n",
       "      <td>0</td>\n",
       "      <td>4495</td>\n",
       "      <td>0.003795</td>\n",
       "    </tr>\n",
       "    <tr>\n",
       "      <th>4</th>\n",
       "      <td>1</td>\n",
       "      <td>9061</td>\n",
       "      <td>0.992384</td>\n",
       "    </tr>\n",
       "  </tbody>\n",
       "</table>\n",
       "</div>"
      ],
      "text/plain": [
       "   Converted  Prospect ID         0\n",
       "0          1         6906  0.998898\n",
       "1          0         1873  0.017804\n",
       "2          0          771  0.003147\n",
       "3          0         4495  0.003795\n",
       "4          1         9061  0.992384"
      ]
     },
     "execution_count": 214,
     "metadata": {},
     "output_type": "execute_result"
    }
   ],
   "source": [
    "#appending both\n",
    "y_test_pred_final = pd.concat([y_test_df,y_test_pred_df],axis=1)\n",
    "y_test_pred_final.head()"
   ]
  },
  {
   "cell_type": "code",
   "execution_count": 215,
   "id": "a057c3d6",
   "metadata": {},
   "outputs": [],
   "source": [
    "# Renaming the column \n",
    "y_test_pred_final = y_test_pred_final.rename(columns = {0:'Conversion_prob'})"
   ]
  },
  {
   "cell_type": "code",
   "execution_count": 216,
   "id": "96e4f766",
   "metadata": {},
   "outputs": [
    {
     "data": {
      "text/html": [
       "<div>\n",
       "<style scoped>\n",
       "    .dataframe tbody tr th:only-of-type {\n",
       "        vertical-align: middle;\n",
       "    }\n",
       "\n",
       "    .dataframe tbody tr th {\n",
       "        vertical-align: top;\n",
       "    }\n",
       "\n",
       "    .dataframe thead th {\n",
       "        text-align: right;\n",
       "    }\n",
       "</style>\n",
       "<table border=\"1\" class=\"dataframe\">\n",
       "  <thead>\n",
       "    <tr style=\"text-align: right;\">\n",
       "      <th></th>\n",
       "      <th>Prospect ID</th>\n",
       "      <th>Converted</th>\n",
       "      <th>Conversion_prob</th>\n",
       "    </tr>\n",
       "  </thead>\n",
       "  <tbody>\n",
       "    <tr>\n",
       "      <th>0</th>\n",
       "      <td>6906</td>\n",
       "      <td>1</td>\n",
       "      <td>0.998898</td>\n",
       "    </tr>\n",
       "    <tr>\n",
       "      <th>1</th>\n",
       "      <td>1873</td>\n",
       "      <td>0</td>\n",
       "      <td>0.017804</td>\n",
       "    </tr>\n",
       "    <tr>\n",
       "      <th>2</th>\n",
       "      <td>771</td>\n",
       "      <td>0</td>\n",
       "      <td>0.003147</td>\n",
       "    </tr>\n",
       "    <tr>\n",
       "      <th>3</th>\n",
       "      <td>4495</td>\n",
       "      <td>0</td>\n",
       "      <td>0.003795</td>\n",
       "    </tr>\n",
       "    <tr>\n",
       "      <th>4</th>\n",
       "      <td>9061</td>\n",
       "      <td>1</td>\n",
       "      <td>0.992384</td>\n",
       "    </tr>\n",
       "  </tbody>\n",
       "</table>\n",
       "</div>"
      ],
      "text/plain": [
       "   Prospect ID  Converted  Conversion_prob\n",
       "0         6906          1         0.998898\n",
       "1         1873          0         0.017804\n",
       "2          771          0         0.003147\n",
       "3         4495          0         0.003795\n",
       "4         9061          1         0.992384"
      ]
     },
     "execution_count": 216,
     "metadata": {},
     "output_type": "execute_result"
    }
   ],
   "source": [
    "#rearranging\n",
    "y_test_pred_final = y_test_pred_final[['Prospect ID','Converted','Conversion_prob']]\n",
    "y_test_pred_final.head()"
   ]
  },
  {
   "cell_type": "code",
   "execution_count": 217,
   "id": "823d873a",
   "metadata": {},
   "outputs": [],
   "source": [
    "y_test_pred_final['final_predicted'] = y_test_pred_final.Conversion_prob.apply(lambda x: 1 if x> 0.3 else 0)"
   ]
  },
  {
   "cell_type": "code",
   "execution_count": 218,
   "id": "ec28396f",
   "metadata": {},
   "outputs": [
    {
     "data": {
      "text/html": [
       "<div>\n",
       "<style scoped>\n",
       "    .dataframe tbody tr th:only-of-type {\n",
       "        vertical-align: middle;\n",
       "    }\n",
       "\n",
       "    .dataframe tbody tr th {\n",
       "        vertical-align: top;\n",
       "    }\n",
       "\n",
       "    .dataframe thead th {\n",
       "        text-align: right;\n",
       "    }\n",
       "</style>\n",
       "<table border=\"1\" class=\"dataframe\">\n",
       "  <thead>\n",
       "    <tr style=\"text-align: right;\">\n",
       "      <th></th>\n",
       "      <th>Prospect ID</th>\n",
       "      <th>Converted</th>\n",
       "      <th>Conversion_prob</th>\n",
       "      <th>final_predicted</th>\n",
       "    </tr>\n",
       "  </thead>\n",
       "  <tbody>\n",
       "    <tr>\n",
       "      <th>0</th>\n",
       "      <td>6906</td>\n",
       "      <td>1</td>\n",
       "      <td>0.998898</td>\n",
       "      <td>1</td>\n",
       "    </tr>\n",
       "    <tr>\n",
       "      <th>1</th>\n",
       "      <td>1873</td>\n",
       "      <td>0</td>\n",
       "      <td>0.017804</td>\n",
       "      <td>0</td>\n",
       "    </tr>\n",
       "    <tr>\n",
       "      <th>2</th>\n",
       "      <td>771</td>\n",
       "      <td>0</td>\n",
       "      <td>0.003147</td>\n",
       "      <td>0</td>\n",
       "    </tr>\n",
       "    <tr>\n",
       "      <th>3</th>\n",
       "      <td>4495</td>\n",
       "      <td>0</td>\n",
       "      <td>0.003795</td>\n",
       "      <td>0</td>\n",
       "    </tr>\n",
       "    <tr>\n",
       "      <th>4</th>\n",
       "      <td>9061</td>\n",
       "      <td>1</td>\n",
       "      <td>0.992384</td>\n",
       "      <td>1</td>\n",
       "    </tr>\n",
       "  </tbody>\n",
       "</table>\n",
       "</div>"
      ],
      "text/plain": [
       "   Prospect ID  Converted  Conversion_prob  final_predicted\n",
       "0         6906          1         0.998898                1\n",
       "1         1873          0         0.017804                0\n",
       "2          771          0         0.003147                0\n",
       "3         4495          0         0.003795                0\n",
       "4         9061          1         0.992384                1"
      ]
     },
     "execution_count": 218,
     "metadata": {},
     "output_type": "execute_result"
    }
   ],
   "source": [
    "y_test_pred_final.head()"
   ]
  },
  {
   "cell_type": "code",
   "execution_count": 219,
   "id": "097e6652",
   "metadata": {},
   "outputs": [
    {
     "data": {
      "text/plain": [
       "0.9328932893289329"
      ]
     },
     "execution_count": 219,
     "metadata": {},
     "output_type": "execute_result"
    }
   ],
   "source": [
    "# Let's check the overall accuracy.\n",
    "metrics.accuracy_score(y_test_pred_final.Converted,y_test_pred_final.final_predicted)"
   ]
  },
  {
   "cell_type": "markdown",
   "id": "3b0dd6e0",
   "metadata": {},
   "source": [
    "- Our model has an accuracy of ~93.3% on the test set"
   ]
  },
  {
   "cell_type": "code",
   "execution_count": 220,
   "id": "4dd58258",
   "metadata": {},
   "outputs": [
    {
     "data": {
      "text/plain": [
       "array([[1552,  108],\n",
       "       [  75,  992]], dtype=int64)"
      ]
     },
     "execution_count": 220,
     "metadata": {},
     "output_type": "execute_result"
    }
   ],
   "source": [
    "# let's have a look at the confusion matrix\n",
    "confusion3 = metrics.confusion_matrix(y_test_pred_final.Converted, y_test_pred_final.final_predicted)\n",
    "confusion3 "
   ]
  },
  {
   "cell_type": "code",
   "execution_count": 221,
   "id": "ac0e1f4d",
   "metadata": {},
   "outputs": [],
   "source": [
    "TP = confusion3[1,1] \n",
    "TN = confusion3[0,0]\n",
    "FP = confusion3[0,1]\n",
    "FN = confusion3[1,0]"
   ]
  },
  {
   "cell_type": "code",
   "execution_count": 222,
   "id": "2c043c4a",
   "metadata": {},
   "outputs": [
    {
     "data": {
      "text/plain": [
       "0.92970946579194"
      ]
     },
     "execution_count": 222,
     "metadata": {},
     "output_type": "execute_result"
    }
   ],
   "source": [
    "# Let's see the sensitivity of our logistic regression model on test set\n",
    "TP/(TP+FN)"
   ]
  },
  {
   "cell_type": "code",
   "execution_count": 223,
   "id": "0d5997bc",
   "metadata": {},
   "outputs": [
    {
     "data": {
      "text/plain": [
       "0.9349397590361446"
      ]
     },
     "execution_count": 223,
     "metadata": {},
     "output_type": "execute_result"
    }
   ],
   "source": [
    "# Let us calculate specificity of our logistic regression model on test set\n",
    "TN/(TN+FP)"
   ]
  },
  {
   "cell_type": "markdown",
   "id": "af8a2257",
   "metadata": {},
   "source": [
    "- On the test set Model's\n",
    "    - accuracy : 93.3%\n",
    "    - sensitivity : 93%\n",
    "    - specificity : 93.5%\n"
   ]
  },
  {
   "cell_type": "code",
   "execution_count": 224,
   "id": "067afe8f",
   "metadata": {},
   "outputs": [
    {
     "data": {
      "text/plain": [
       "0.06506024096385542"
      ]
     },
     "execution_count": 224,
     "metadata": {},
     "output_type": "execute_result"
    }
   ],
   "source": [
    "# False positive rate\n",
    "FP/(TN+FP)"
   ]
  },
  {
   "cell_type": "code",
   "execution_count": 225,
   "id": "c7ba6399",
   "metadata": {},
   "outputs": [
    {
     "data": {
      "text/plain": [
       "0.9018181818181819"
      ]
     },
     "execution_count": 225,
     "metadata": {},
     "output_type": "execute_result"
    }
   ],
   "source": [
    "# Positive predictive value \n",
    "TP/(TP+FP)"
   ]
  },
  {
   "cell_type": "code",
   "execution_count": 226,
   "id": "a61d7183",
   "metadata": {},
   "outputs": [
    {
     "data": {
      "text/plain": [
       "0.9539028887523049"
      ]
     },
     "execution_count": 226,
     "metadata": {},
     "output_type": "execute_result"
    }
   ],
   "source": [
    "# Negative predictive value\n",
    "TN/(TN+FN)"
   ]
  },
  {
   "cell_type": "markdown",
   "id": "84f346c2",
   "metadata": {},
   "source": [
    "# Step 17: Adding lead score to the data file"
   ]
  },
  {
   "cell_type": "code",
   "execution_count": 227,
   "id": "4f9dd311",
   "metadata": {},
   "outputs": [
    {
     "data": {
      "text/html": [
       "<div>\n",
       "<style scoped>\n",
       "    .dataframe tbody tr th:only-of-type {\n",
       "        vertical-align: middle;\n",
       "    }\n",
       "\n",
       "    .dataframe tbody tr th {\n",
       "        vertical-align: top;\n",
       "    }\n",
       "\n",
       "    .dataframe thead th {\n",
       "        text-align: right;\n",
       "    }\n",
       "</style>\n",
       "<table border=\"1\" class=\"dataframe\">\n",
       "  <thead>\n",
       "    <tr style=\"text-align: right;\">\n",
       "      <th></th>\n",
       "      <th>Do Not Email</th>\n",
       "      <th>Converted</th>\n",
       "      <th>TotalVisits</th>\n",
       "      <th>Total Time Spent on Website</th>\n",
       "      <th>Page Views Per Visit</th>\n",
       "      <th>A free copy of Mastering The Interview</th>\n",
       "      <th>Lead_Origin_API</th>\n",
       "      <th>Lead_Origin_Landing Page Submission</th>\n",
       "      <th>Lead_Origin_Lead Add Form</th>\n",
       "      <th>Lead_Origin_Lead Import</th>\n",
       "      <th>Lead_Source_Direct Traffic</th>\n",
       "      <th>Lead_Source_Google</th>\n",
       "      <th>Lead_Source_Olark Chat</th>\n",
       "      <th>Lead_Source_Organic Search</th>\n",
       "      <th>Lead_Source_Reference</th>\n",
       "      <th>Lead_Source_Referral Sites</th>\n",
       "      <th>Lead_Source_Welingak Website</th>\n",
       "      <th>Last_Activity_Converted to Lead</th>\n",
       "      <th>Last_Activity_Email Bounced</th>\n",
       "      <th>Last_Activity_Email Link Clicked</th>\n",
       "      <th>Last_Activity_Email Opened</th>\n",
       "      <th>Last_Activity_Form Submitted on Website</th>\n",
       "      <th>Last_Activity_Olark Chat Conversation</th>\n",
       "      <th>Last_Activity_Page Visited on Website</th>\n",
       "      <th>Last_Activity_SMS Sent</th>\n",
       "      <th>Specialization_Banking, Investment And Insurance</th>\n",
       "      <th>Specialization_Business Administration</th>\n",
       "      <th>Specialization_Business Specializations</th>\n",
       "      <th>Specialization_E-COMMERCE</th>\n",
       "      <th>Specialization_Management Specializations</th>\n",
       "      <th>Specialization_Media and Advertising</th>\n",
       "      <th>Specialization_Services Excellence</th>\n",
       "      <th>Specialization_Travel and Tourism</th>\n",
       "      <th>current_occupation_Not mentioned</th>\n",
       "      <th>current_occupation_Student</th>\n",
       "      <th>current_occupation_Unemployed</th>\n",
       "      <th>current_occupation_Working Professional</th>\n",
       "      <th>Tags_Already a student</th>\n",
       "      <th>Tags_Busy</th>\n",
       "      <th>Tags_Closed by Horizzon</th>\n",
       "      <th>Tags_Graduation in progress</th>\n",
       "      <th>Tags_Interested  in full time MBA</th>\n",
       "      <th>Tags_Interested in other courses</th>\n",
       "      <th>Tags_Lost to EINS</th>\n",
       "      <th>Tags_Not doing further education</th>\n",
       "      <th>Tags_Others</th>\n",
       "      <th>Tags_Ringing</th>\n",
       "      <th>Tags_Will revert after reading the email</th>\n",
       "      <th>Tags_switched off</th>\n",
       "      <th>Last_Notable_Activity_Email Link Clicked</th>\n",
       "      <th>Last_Notable_Activity_Email Opened</th>\n",
       "      <th>Last_Notable_Activity_Modified</th>\n",
       "      <th>Last_Notable_Activity_Olark Chat Conversation</th>\n",
       "      <th>Last_Notable_Activity_Page Visited on Website</th>\n",
       "      <th>Last_Notable_Activity_SMS Sent</th>\n",
       "    </tr>\n",
       "  </thead>\n",
       "  <tbody>\n",
       "    <tr>\n",
       "      <th>0</th>\n",
       "      <td>0</td>\n",
       "      <td>0</td>\n",
       "      <td>0.0</td>\n",
       "      <td>0</td>\n",
       "      <td>0.0</td>\n",
       "      <td>0</td>\n",
       "      <td>1</td>\n",
       "      <td>0</td>\n",
       "      <td>0</td>\n",
       "      <td>0</td>\n",
       "      <td>0</td>\n",
       "      <td>0</td>\n",
       "      <td>1</td>\n",
       "      <td>0</td>\n",
       "      <td>0</td>\n",
       "      <td>0</td>\n",
       "      <td>0</td>\n",
       "      <td>0</td>\n",
       "      <td>0</td>\n",
       "      <td>0</td>\n",
       "      <td>0</td>\n",
       "      <td>0</td>\n",
       "      <td>0</td>\n",
       "      <td>1</td>\n",
       "      <td>0</td>\n",
       "      <td>0</td>\n",
       "      <td>0</td>\n",
       "      <td>0</td>\n",
       "      <td>0</td>\n",
       "      <td>0</td>\n",
       "      <td>0</td>\n",
       "      <td>0</td>\n",
       "      <td>0</td>\n",
       "      <td>0</td>\n",
       "      <td>0</td>\n",
       "      <td>1</td>\n",
       "      <td>0</td>\n",
       "      <td>0</td>\n",
       "      <td>0</td>\n",
       "      <td>0</td>\n",
       "      <td>0</td>\n",
       "      <td>0</td>\n",
       "      <td>1</td>\n",
       "      <td>0</td>\n",
       "      <td>0</td>\n",
       "      <td>0</td>\n",
       "      <td>0</td>\n",
       "      <td>0</td>\n",
       "      <td>0</td>\n",
       "      <td>0</td>\n",
       "      <td>0</td>\n",
       "      <td>1</td>\n",
       "      <td>0</td>\n",
       "      <td>0</td>\n",
       "      <td>0</td>\n",
       "    </tr>\n",
       "    <tr>\n",
       "      <th>1</th>\n",
       "      <td>0</td>\n",
       "      <td>0</td>\n",
       "      <td>5.0</td>\n",
       "      <td>674</td>\n",
       "      <td>2.5</td>\n",
       "      <td>0</td>\n",
       "      <td>1</td>\n",
       "      <td>0</td>\n",
       "      <td>0</td>\n",
       "      <td>0</td>\n",
       "      <td>0</td>\n",
       "      <td>0</td>\n",
       "      <td>0</td>\n",
       "      <td>1</td>\n",
       "      <td>0</td>\n",
       "      <td>0</td>\n",
       "      <td>0</td>\n",
       "      <td>0</td>\n",
       "      <td>0</td>\n",
       "      <td>0</td>\n",
       "      <td>1</td>\n",
       "      <td>0</td>\n",
       "      <td>0</td>\n",
       "      <td>0</td>\n",
       "      <td>0</td>\n",
       "      <td>0</td>\n",
       "      <td>0</td>\n",
       "      <td>0</td>\n",
       "      <td>0</td>\n",
       "      <td>0</td>\n",
       "      <td>0</td>\n",
       "      <td>0</td>\n",
       "      <td>0</td>\n",
       "      <td>0</td>\n",
       "      <td>0</td>\n",
       "      <td>1</td>\n",
       "      <td>0</td>\n",
       "      <td>0</td>\n",
       "      <td>0</td>\n",
       "      <td>0</td>\n",
       "      <td>0</td>\n",
       "      <td>0</td>\n",
       "      <td>0</td>\n",
       "      <td>0</td>\n",
       "      <td>0</td>\n",
       "      <td>0</td>\n",
       "      <td>1</td>\n",
       "      <td>0</td>\n",
       "      <td>0</td>\n",
       "      <td>0</td>\n",
       "      <td>1</td>\n",
       "      <td>0</td>\n",
       "      <td>0</td>\n",
       "      <td>0</td>\n",
       "      <td>0</td>\n",
       "    </tr>\n",
       "    <tr>\n",
       "      <th>2</th>\n",
       "      <td>0</td>\n",
       "      <td>1</td>\n",
       "      <td>2.0</td>\n",
       "      <td>1532</td>\n",
       "      <td>2.0</td>\n",
       "      <td>1</td>\n",
       "      <td>0</td>\n",
       "      <td>1</td>\n",
       "      <td>0</td>\n",
       "      <td>0</td>\n",
       "      <td>1</td>\n",
       "      <td>0</td>\n",
       "      <td>0</td>\n",
       "      <td>0</td>\n",
       "      <td>0</td>\n",
       "      <td>0</td>\n",
       "      <td>0</td>\n",
       "      <td>0</td>\n",
       "      <td>0</td>\n",
       "      <td>0</td>\n",
       "      <td>1</td>\n",
       "      <td>0</td>\n",
       "      <td>0</td>\n",
       "      <td>0</td>\n",
       "      <td>0</td>\n",
       "      <td>0</td>\n",
       "      <td>1</td>\n",
       "      <td>0</td>\n",
       "      <td>0</td>\n",
       "      <td>0</td>\n",
       "      <td>0</td>\n",
       "      <td>0</td>\n",
       "      <td>0</td>\n",
       "      <td>0</td>\n",
       "      <td>1</td>\n",
       "      <td>0</td>\n",
       "      <td>0</td>\n",
       "      <td>0</td>\n",
       "      <td>0</td>\n",
       "      <td>0</td>\n",
       "      <td>0</td>\n",
       "      <td>0</td>\n",
       "      <td>0</td>\n",
       "      <td>0</td>\n",
       "      <td>0</td>\n",
       "      <td>0</td>\n",
       "      <td>0</td>\n",
       "      <td>1</td>\n",
       "      <td>0</td>\n",
       "      <td>0</td>\n",
       "      <td>1</td>\n",
       "      <td>0</td>\n",
       "      <td>0</td>\n",
       "      <td>0</td>\n",
       "      <td>0</td>\n",
       "    </tr>\n",
       "    <tr>\n",
       "      <th>3</th>\n",
       "      <td>0</td>\n",
       "      <td>0</td>\n",
       "      <td>1.0</td>\n",
       "      <td>305</td>\n",
       "      <td>1.0</td>\n",
       "      <td>0</td>\n",
       "      <td>0</td>\n",
       "      <td>1</td>\n",
       "      <td>0</td>\n",
       "      <td>0</td>\n",
       "      <td>1</td>\n",
       "      <td>0</td>\n",
       "      <td>0</td>\n",
       "      <td>0</td>\n",
       "      <td>0</td>\n",
       "      <td>0</td>\n",
       "      <td>0</td>\n",
       "      <td>0</td>\n",
       "      <td>0</td>\n",
       "      <td>0</td>\n",
       "      <td>0</td>\n",
       "      <td>0</td>\n",
       "      <td>0</td>\n",
       "      <td>0</td>\n",
       "      <td>0</td>\n",
       "      <td>0</td>\n",
       "      <td>0</td>\n",
       "      <td>0</td>\n",
       "      <td>0</td>\n",
       "      <td>0</td>\n",
       "      <td>1</td>\n",
       "      <td>0</td>\n",
       "      <td>0</td>\n",
       "      <td>0</td>\n",
       "      <td>0</td>\n",
       "      <td>1</td>\n",
       "      <td>0</td>\n",
       "      <td>0</td>\n",
       "      <td>0</td>\n",
       "      <td>0</td>\n",
       "      <td>0</td>\n",
       "      <td>0</td>\n",
       "      <td>0</td>\n",
       "      <td>0</td>\n",
       "      <td>0</td>\n",
       "      <td>0</td>\n",
       "      <td>1</td>\n",
       "      <td>0</td>\n",
       "      <td>0</td>\n",
       "      <td>0</td>\n",
       "      <td>0</td>\n",
       "      <td>1</td>\n",
       "      <td>0</td>\n",
       "      <td>0</td>\n",
       "      <td>0</td>\n",
       "    </tr>\n",
       "    <tr>\n",
       "      <th>4</th>\n",
       "      <td>0</td>\n",
       "      <td>1</td>\n",
       "      <td>2.0</td>\n",
       "      <td>1428</td>\n",
       "      <td>1.0</td>\n",
       "      <td>0</td>\n",
       "      <td>0</td>\n",
       "      <td>1</td>\n",
       "      <td>0</td>\n",
       "      <td>0</td>\n",
       "      <td>0</td>\n",
       "      <td>1</td>\n",
       "      <td>0</td>\n",
       "      <td>0</td>\n",
       "      <td>0</td>\n",
       "      <td>0</td>\n",
       "      <td>0</td>\n",
       "      <td>1</td>\n",
       "      <td>0</td>\n",
       "      <td>0</td>\n",
       "      <td>0</td>\n",
       "      <td>0</td>\n",
       "      <td>0</td>\n",
       "      <td>0</td>\n",
       "      <td>0</td>\n",
       "      <td>0</td>\n",
       "      <td>0</td>\n",
       "      <td>0</td>\n",
       "      <td>0</td>\n",
       "      <td>0</td>\n",
       "      <td>0</td>\n",
       "      <td>0</td>\n",
       "      <td>0</td>\n",
       "      <td>0</td>\n",
       "      <td>0</td>\n",
       "      <td>1</td>\n",
       "      <td>0</td>\n",
       "      <td>0</td>\n",
       "      <td>0</td>\n",
       "      <td>0</td>\n",
       "      <td>0</td>\n",
       "      <td>0</td>\n",
       "      <td>0</td>\n",
       "      <td>0</td>\n",
       "      <td>0</td>\n",
       "      <td>0</td>\n",
       "      <td>0</td>\n",
       "      <td>1</td>\n",
       "      <td>0</td>\n",
       "      <td>0</td>\n",
       "      <td>0</td>\n",
       "      <td>1</td>\n",
       "      <td>0</td>\n",
       "      <td>0</td>\n",
       "      <td>0</td>\n",
       "    </tr>\n",
       "  </tbody>\n",
       "</table>\n",
       "</div>"
      ],
      "text/plain": [
       "   Do Not Email  Converted  TotalVisits  Total Time Spent on Website  \\\n",
       "0             0          0          0.0                            0   \n",
       "1             0          0          5.0                          674   \n",
       "2             0          1          2.0                         1532   \n",
       "3             0          0          1.0                          305   \n",
       "4             0          1          2.0                         1428   \n",
       "\n",
       "   Page Views Per Visit  A free copy of Mastering The Interview  \\\n",
       "0                   0.0                                       0   \n",
       "1                   2.5                                       0   \n",
       "2                   2.0                                       1   \n",
       "3                   1.0                                       0   \n",
       "4                   1.0                                       0   \n",
       "\n",
       "   Lead_Origin_API  Lead_Origin_Landing Page Submission  \\\n",
       "0                1                                    0   \n",
       "1                1                                    0   \n",
       "2                0                                    1   \n",
       "3                0                                    1   \n",
       "4                0                                    1   \n",
       "\n",
       "   Lead_Origin_Lead Add Form  Lead_Origin_Lead Import  \\\n",
       "0                          0                        0   \n",
       "1                          0                        0   \n",
       "2                          0                        0   \n",
       "3                          0                        0   \n",
       "4                          0                        0   \n",
       "\n",
       "   Lead_Source_Direct Traffic  Lead_Source_Google  Lead_Source_Olark Chat  \\\n",
       "0                           0                   0                       1   \n",
       "1                           0                   0                       0   \n",
       "2                           1                   0                       0   \n",
       "3                           1                   0                       0   \n",
       "4                           0                   1                       0   \n",
       "\n",
       "   Lead_Source_Organic Search  Lead_Source_Reference  \\\n",
       "0                           0                      0   \n",
       "1                           1                      0   \n",
       "2                           0                      0   \n",
       "3                           0                      0   \n",
       "4                           0                      0   \n",
       "\n",
       "   Lead_Source_Referral Sites  Lead_Source_Welingak Website  \\\n",
       "0                           0                             0   \n",
       "1                           0                             0   \n",
       "2                           0                             0   \n",
       "3                           0                             0   \n",
       "4                           0                             0   \n",
       "\n",
       "   Last_Activity_Converted to Lead  Last_Activity_Email Bounced  \\\n",
       "0                                0                            0   \n",
       "1                                0                            0   \n",
       "2                                0                            0   \n",
       "3                                0                            0   \n",
       "4                                1                            0   \n",
       "\n",
       "   Last_Activity_Email Link Clicked  Last_Activity_Email Opened  \\\n",
       "0                                 0                           0   \n",
       "1                                 0                           1   \n",
       "2                                 0                           1   \n",
       "3                                 0                           0   \n",
       "4                                 0                           0   \n",
       "\n",
       "   Last_Activity_Form Submitted on Website  \\\n",
       "0                                        0   \n",
       "1                                        0   \n",
       "2                                        0   \n",
       "3                                        0   \n",
       "4                                        0   \n",
       "\n",
       "   Last_Activity_Olark Chat Conversation  \\\n",
       "0                                      0   \n",
       "1                                      0   \n",
       "2                                      0   \n",
       "3                                      0   \n",
       "4                                      0   \n",
       "\n",
       "   Last_Activity_Page Visited on Website  Last_Activity_SMS Sent  \\\n",
       "0                                      1                       0   \n",
       "1                                      0                       0   \n",
       "2                                      0                       0   \n",
       "3                                      0                       0   \n",
       "4                                      0                       0   \n",
       "\n",
       "   Specialization_Banking, Investment And Insurance  \\\n",
       "0                                                 0   \n",
       "1                                                 0   \n",
       "2                                                 0   \n",
       "3                                                 0   \n",
       "4                                                 0   \n",
       "\n",
       "   Specialization_Business Administration  \\\n",
       "0                                       0   \n",
       "1                                       0   \n",
       "2                                       1   \n",
       "3                                       0   \n",
       "4                                       0   \n",
       "\n",
       "   Specialization_Business Specializations  Specialization_E-COMMERCE  \\\n",
       "0                                        0                          0   \n",
       "1                                        0                          0   \n",
       "2                                        0                          0   \n",
       "3                                        0                          0   \n",
       "4                                        0                          0   \n",
       "\n",
       "   Specialization_Management Specializations  \\\n",
       "0                                          0   \n",
       "1                                          0   \n",
       "2                                          0   \n",
       "3                                          0   \n",
       "4                                          0   \n",
       "\n",
       "   Specialization_Media and Advertising  Specialization_Services Excellence  \\\n",
       "0                                     0                                   0   \n",
       "1                                     0                                   0   \n",
       "2                                     0                                   0   \n",
       "3                                     1                                   0   \n",
       "4                                     0                                   0   \n",
       "\n",
       "   Specialization_Travel and Tourism  current_occupation_Not mentioned  \\\n",
       "0                                  0                                 0   \n",
       "1                                  0                                 0   \n",
       "2                                  0                                 0   \n",
       "3                                  0                                 0   \n",
       "4                                  0                                 0   \n",
       "\n",
       "   current_occupation_Student  current_occupation_Unemployed  \\\n",
       "0                           0                              1   \n",
       "1                           0                              1   \n",
       "2                           1                              0   \n",
       "3                           0                              1   \n",
       "4                           0                              1   \n",
       "\n",
       "   current_occupation_Working Professional  Tags_Already a student  Tags_Busy  \\\n",
       "0                                        0                       0          0   \n",
       "1                                        0                       0          0   \n",
       "2                                        0                       0          0   \n",
       "3                                        0                       0          0   \n",
       "4                                        0                       0          0   \n",
       "\n",
       "   Tags_Closed by Horizzon  Tags_Graduation in progress  \\\n",
       "0                        0                            0   \n",
       "1                        0                            0   \n",
       "2                        0                            0   \n",
       "3                        0                            0   \n",
       "4                        0                            0   \n",
       "\n",
       "   Tags_Interested  in full time MBA  Tags_Interested in other courses  \\\n",
       "0                                  0                                 1   \n",
       "1                                  0                                 0   \n",
       "2                                  0                                 0   \n",
       "3                                  0                                 0   \n",
       "4                                  0                                 0   \n",
       "\n",
       "   Tags_Lost to EINS  Tags_Not doing further education  Tags_Others  \\\n",
       "0                  0                                 0            0   \n",
       "1                  0                                 0            0   \n",
       "2                  0                                 0            0   \n",
       "3                  0                                 0            0   \n",
       "4                  0                                 0            0   \n",
       "\n",
       "   Tags_Ringing  Tags_Will revert after reading the email  Tags_switched off  \\\n",
       "0             0                                         0                  0   \n",
       "1             1                                         0                  0   \n",
       "2             0                                         1                  0   \n",
       "3             1                                         0                  0   \n",
       "4             0                                         1                  0   \n",
       "\n",
       "   Last_Notable_Activity_Email Link Clicked  \\\n",
       "0                                         0   \n",
       "1                                         0   \n",
       "2                                         0   \n",
       "3                                         0   \n",
       "4                                         0   \n",
       "\n",
       "   Last_Notable_Activity_Email Opened  Last_Notable_Activity_Modified  \\\n",
       "0                                   0                               1   \n",
       "1                                   1                               0   \n",
       "2                                   1                               0   \n",
       "3                                   0                               1   \n",
       "4                                   0                               1   \n",
       "\n",
       "   Last_Notable_Activity_Olark Chat Conversation  \\\n",
       "0                                              0   \n",
       "1                                              0   \n",
       "2                                              0   \n",
       "3                                              0   \n",
       "4                                              0   \n",
       "\n",
       "   Last_Notable_Activity_Page Visited on Website  \\\n",
       "0                                              0   \n",
       "1                                              0   \n",
       "2                                              0   \n",
       "3                                              0   \n",
       "4                                              0   \n",
       "\n",
       "   Last_Notable_Activity_SMS Sent  \n",
       "0                               0  \n",
       "1                               0  \n",
       "2                               0  \n",
       "3                               0  \n",
       "4                               0  "
      ]
     },
     "execution_count": 227,
     "metadata": {},
     "output_type": "execute_result"
    }
   ],
   "source": [
    "df.head()"
   ]
  },
  {
   "cell_type": "code",
   "execution_count": 228,
   "id": "edebf5f0",
   "metadata": {},
   "outputs": [
    {
     "data": {
      "text/html": [
       "<div>\n",
       "<style scoped>\n",
       "    .dataframe tbody tr th:only-of-type {\n",
       "        vertical-align: middle;\n",
       "    }\n",
       "\n",
       "    .dataframe tbody tr th {\n",
       "        vertical-align: top;\n",
       "    }\n",
       "\n",
       "    .dataframe thead th {\n",
       "        text-align: right;\n",
       "    }\n",
       "</style>\n",
       "<table border=\"1\" class=\"dataframe\">\n",
       "  <thead>\n",
       "    <tr style=\"text-align: right;\">\n",
       "      <th></th>\n",
       "      <th>Do Not Email</th>\n",
       "      <th>Converted</th>\n",
       "      <th>TotalVisits</th>\n",
       "      <th>Total Time Spent on Website</th>\n",
       "      <th>Page Views Per Visit</th>\n",
       "      <th>A free copy of Mastering The Interview</th>\n",
       "      <th>Lead_Origin_API</th>\n",
       "      <th>Lead_Origin_Landing Page Submission</th>\n",
       "      <th>Lead_Origin_Lead Add Form</th>\n",
       "      <th>Lead_Origin_Lead Import</th>\n",
       "      <th>Lead_Source_Direct Traffic</th>\n",
       "      <th>Lead_Source_Google</th>\n",
       "      <th>Lead_Source_Olark Chat</th>\n",
       "      <th>Lead_Source_Organic Search</th>\n",
       "      <th>Lead_Source_Reference</th>\n",
       "      <th>Lead_Source_Referral Sites</th>\n",
       "      <th>Lead_Source_Welingak Website</th>\n",
       "      <th>Last_Activity_Converted to Lead</th>\n",
       "      <th>Last_Activity_Email Bounced</th>\n",
       "      <th>Last_Activity_Email Link Clicked</th>\n",
       "      <th>Last_Activity_Email Opened</th>\n",
       "      <th>Last_Activity_Form Submitted on Website</th>\n",
       "      <th>Last_Activity_Olark Chat Conversation</th>\n",
       "      <th>Last_Activity_Page Visited on Website</th>\n",
       "      <th>Last_Activity_SMS Sent</th>\n",
       "      <th>Specialization_Banking, Investment And Insurance</th>\n",
       "      <th>Specialization_Business Administration</th>\n",
       "      <th>Specialization_Business Specializations</th>\n",
       "      <th>Specialization_E-COMMERCE</th>\n",
       "      <th>Specialization_Management Specializations</th>\n",
       "      <th>Specialization_Media and Advertising</th>\n",
       "      <th>Specialization_Services Excellence</th>\n",
       "      <th>Specialization_Travel and Tourism</th>\n",
       "      <th>current_occupation_Not mentioned</th>\n",
       "      <th>current_occupation_Student</th>\n",
       "      <th>current_occupation_Unemployed</th>\n",
       "      <th>current_occupation_Working Professional</th>\n",
       "      <th>Tags_Already a student</th>\n",
       "      <th>Tags_Busy</th>\n",
       "      <th>Tags_Closed by Horizzon</th>\n",
       "      <th>Tags_Graduation in progress</th>\n",
       "      <th>Tags_Interested  in full time MBA</th>\n",
       "      <th>Tags_Interested in other courses</th>\n",
       "      <th>Tags_Lost to EINS</th>\n",
       "      <th>Tags_Not doing further education</th>\n",
       "      <th>Tags_Others</th>\n",
       "      <th>Tags_Ringing</th>\n",
       "      <th>Tags_Will revert after reading the email</th>\n",
       "      <th>Tags_switched off</th>\n",
       "      <th>Last_Notable_Activity_Email Link Clicked</th>\n",
       "      <th>Last_Notable_Activity_Email Opened</th>\n",
       "      <th>Last_Notable_Activity_Modified</th>\n",
       "      <th>Last_Notable_Activity_Olark Chat Conversation</th>\n",
       "      <th>Last_Notable_Activity_Page Visited on Website</th>\n",
       "      <th>Last_Notable_Activity_SMS Sent</th>\n",
       "    </tr>\n",
       "  </thead>\n",
       "  <tbody>\n",
       "    <tr>\n",
       "      <th>0</th>\n",
       "      <td>0</td>\n",
       "      <td>0</td>\n",
       "      <td>-1.094877</td>\n",
       "      <td>-0.887355</td>\n",
       "      <td>-1.206716</td>\n",
       "      <td>0</td>\n",
       "      <td>1</td>\n",
       "      <td>0</td>\n",
       "      <td>0</td>\n",
       "      <td>0</td>\n",
       "      <td>0</td>\n",
       "      <td>0</td>\n",
       "      <td>1</td>\n",
       "      <td>0</td>\n",
       "      <td>0</td>\n",
       "      <td>0</td>\n",
       "      <td>0</td>\n",
       "      <td>0</td>\n",
       "      <td>0</td>\n",
       "      <td>0</td>\n",
       "      <td>0</td>\n",
       "      <td>0</td>\n",
       "      <td>0</td>\n",
       "      <td>1</td>\n",
       "      <td>0</td>\n",
       "      <td>0</td>\n",
       "      <td>0</td>\n",
       "      <td>0</td>\n",
       "      <td>0</td>\n",
       "      <td>0</td>\n",
       "      <td>0</td>\n",
       "      <td>0</td>\n",
       "      <td>0</td>\n",
       "      <td>0</td>\n",
       "      <td>0</td>\n",
       "      <td>1</td>\n",
       "      <td>0</td>\n",
       "      <td>0</td>\n",
       "      <td>0</td>\n",
       "      <td>0</td>\n",
       "      <td>0</td>\n",
       "      <td>0</td>\n",
       "      <td>1</td>\n",
       "      <td>0</td>\n",
       "      <td>0</td>\n",
       "      <td>0</td>\n",
       "      <td>0</td>\n",
       "      <td>0</td>\n",
       "      <td>0</td>\n",
       "      <td>0</td>\n",
       "      <td>0</td>\n",
       "      <td>1</td>\n",
       "      <td>0</td>\n",
       "      <td>0</td>\n",
       "      <td>0</td>\n",
       "    </tr>\n",
       "    <tr>\n",
       "      <th>1</th>\n",
       "      <td>0</td>\n",
       "      <td>0</td>\n",
       "      <td>0.642022</td>\n",
       "      <td>0.349083</td>\n",
       "      <td>0.135277</td>\n",
       "      <td>0</td>\n",
       "      <td>1</td>\n",
       "      <td>0</td>\n",
       "      <td>0</td>\n",
       "      <td>0</td>\n",
       "      <td>0</td>\n",
       "      <td>0</td>\n",
       "      <td>0</td>\n",
       "      <td>1</td>\n",
       "      <td>0</td>\n",
       "      <td>0</td>\n",
       "      <td>0</td>\n",
       "      <td>0</td>\n",
       "      <td>0</td>\n",
       "      <td>0</td>\n",
       "      <td>1</td>\n",
       "      <td>0</td>\n",
       "      <td>0</td>\n",
       "      <td>0</td>\n",
       "      <td>0</td>\n",
       "      <td>0</td>\n",
       "      <td>0</td>\n",
       "      <td>0</td>\n",
       "      <td>0</td>\n",
       "      <td>0</td>\n",
       "      <td>0</td>\n",
       "      <td>0</td>\n",
       "      <td>0</td>\n",
       "      <td>0</td>\n",
       "      <td>0</td>\n",
       "      <td>1</td>\n",
       "      <td>0</td>\n",
       "      <td>0</td>\n",
       "      <td>0</td>\n",
       "      <td>0</td>\n",
       "      <td>0</td>\n",
       "      <td>0</td>\n",
       "      <td>0</td>\n",
       "      <td>0</td>\n",
       "      <td>0</td>\n",
       "      <td>0</td>\n",
       "      <td>1</td>\n",
       "      <td>0</td>\n",
       "      <td>0</td>\n",
       "      <td>0</td>\n",
       "      <td>1</td>\n",
       "      <td>0</td>\n",
       "      <td>0</td>\n",
       "      <td>0</td>\n",
       "      <td>0</td>\n",
       "    </tr>\n",
       "    <tr>\n",
       "      <th>2</th>\n",
       "      <td>0</td>\n",
       "      <td>1</td>\n",
       "      <td>-0.400118</td>\n",
       "      <td>1.923064</td>\n",
       "      <td>-0.133122</td>\n",
       "      <td>1</td>\n",
       "      <td>0</td>\n",
       "      <td>1</td>\n",
       "      <td>0</td>\n",
       "      <td>0</td>\n",
       "      <td>1</td>\n",
       "      <td>0</td>\n",
       "      <td>0</td>\n",
       "      <td>0</td>\n",
       "      <td>0</td>\n",
       "      <td>0</td>\n",
       "      <td>0</td>\n",
       "      <td>0</td>\n",
       "      <td>0</td>\n",
       "      <td>0</td>\n",
       "      <td>1</td>\n",
       "      <td>0</td>\n",
       "      <td>0</td>\n",
       "      <td>0</td>\n",
       "      <td>0</td>\n",
       "      <td>0</td>\n",
       "      <td>1</td>\n",
       "      <td>0</td>\n",
       "      <td>0</td>\n",
       "      <td>0</td>\n",
       "      <td>0</td>\n",
       "      <td>0</td>\n",
       "      <td>0</td>\n",
       "      <td>0</td>\n",
       "      <td>1</td>\n",
       "      <td>0</td>\n",
       "      <td>0</td>\n",
       "      <td>0</td>\n",
       "      <td>0</td>\n",
       "      <td>0</td>\n",
       "      <td>0</td>\n",
       "      <td>0</td>\n",
       "      <td>0</td>\n",
       "      <td>0</td>\n",
       "      <td>0</td>\n",
       "      <td>0</td>\n",
       "      <td>0</td>\n",
       "      <td>1</td>\n",
       "      <td>0</td>\n",
       "      <td>0</td>\n",
       "      <td>1</td>\n",
       "      <td>0</td>\n",
       "      <td>0</td>\n",
       "      <td>0</td>\n",
       "      <td>0</td>\n",
       "    </tr>\n",
       "    <tr>\n",
       "      <th>3</th>\n",
       "      <td>0</td>\n",
       "      <td>0</td>\n",
       "      <td>-0.747497</td>\n",
       "      <td>-0.327839</td>\n",
       "      <td>-0.669919</td>\n",
       "      <td>0</td>\n",
       "      <td>0</td>\n",
       "      <td>1</td>\n",
       "      <td>0</td>\n",
       "      <td>0</td>\n",
       "      <td>1</td>\n",
       "      <td>0</td>\n",
       "      <td>0</td>\n",
       "      <td>0</td>\n",
       "      <td>0</td>\n",
       "      <td>0</td>\n",
       "      <td>0</td>\n",
       "      <td>0</td>\n",
       "      <td>0</td>\n",
       "      <td>0</td>\n",
       "      <td>0</td>\n",
       "      <td>0</td>\n",
       "      <td>0</td>\n",
       "      <td>0</td>\n",
       "      <td>0</td>\n",
       "      <td>0</td>\n",
       "      <td>0</td>\n",
       "      <td>0</td>\n",
       "      <td>0</td>\n",
       "      <td>0</td>\n",
       "      <td>1</td>\n",
       "      <td>0</td>\n",
       "      <td>0</td>\n",
       "      <td>0</td>\n",
       "      <td>0</td>\n",
       "      <td>1</td>\n",
       "      <td>0</td>\n",
       "      <td>0</td>\n",
       "      <td>0</td>\n",
       "      <td>0</td>\n",
       "      <td>0</td>\n",
       "      <td>0</td>\n",
       "      <td>0</td>\n",
       "      <td>0</td>\n",
       "      <td>0</td>\n",
       "      <td>0</td>\n",
       "      <td>1</td>\n",
       "      <td>0</td>\n",
       "      <td>0</td>\n",
       "      <td>0</td>\n",
       "      <td>0</td>\n",
       "      <td>1</td>\n",
       "      <td>0</td>\n",
       "      <td>0</td>\n",
       "      <td>0</td>\n",
       "    </tr>\n",
       "    <tr>\n",
       "      <th>4</th>\n",
       "      <td>0</td>\n",
       "      <td>1</td>\n",
       "      <td>-0.400118</td>\n",
       "      <td>1.732278</td>\n",
       "      <td>-0.669919</td>\n",
       "      <td>0</td>\n",
       "      <td>0</td>\n",
       "      <td>1</td>\n",
       "      <td>0</td>\n",
       "      <td>0</td>\n",
       "      <td>0</td>\n",
       "      <td>1</td>\n",
       "      <td>0</td>\n",
       "      <td>0</td>\n",
       "      <td>0</td>\n",
       "      <td>0</td>\n",
       "      <td>0</td>\n",
       "      <td>1</td>\n",
       "      <td>0</td>\n",
       "      <td>0</td>\n",
       "      <td>0</td>\n",
       "      <td>0</td>\n",
       "      <td>0</td>\n",
       "      <td>0</td>\n",
       "      <td>0</td>\n",
       "      <td>0</td>\n",
       "      <td>0</td>\n",
       "      <td>0</td>\n",
       "      <td>0</td>\n",
       "      <td>0</td>\n",
       "      <td>0</td>\n",
       "      <td>0</td>\n",
       "      <td>0</td>\n",
       "      <td>0</td>\n",
       "      <td>0</td>\n",
       "      <td>1</td>\n",
       "      <td>0</td>\n",
       "      <td>0</td>\n",
       "      <td>0</td>\n",
       "      <td>0</td>\n",
       "      <td>0</td>\n",
       "      <td>0</td>\n",
       "      <td>0</td>\n",
       "      <td>0</td>\n",
       "      <td>0</td>\n",
       "      <td>0</td>\n",
       "      <td>0</td>\n",
       "      <td>1</td>\n",
       "      <td>0</td>\n",
       "      <td>0</td>\n",
       "      <td>0</td>\n",
       "      <td>1</td>\n",
       "      <td>0</td>\n",
       "      <td>0</td>\n",
       "      <td>0</td>\n",
       "    </tr>\n",
       "  </tbody>\n",
       "</table>\n",
       "</div>"
      ],
      "text/plain": [
       "   Do Not Email  Converted  TotalVisits  Total Time Spent on Website  \\\n",
       "0             0          0    -1.094877                    -0.887355   \n",
       "1             0          0     0.642022                     0.349083   \n",
       "2             0          1    -0.400118                     1.923064   \n",
       "3             0          0    -0.747497                    -0.327839   \n",
       "4             0          1    -0.400118                     1.732278   \n",
       "\n",
       "   Page Views Per Visit  A free copy of Mastering The Interview  \\\n",
       "0             -1.206716                                       0   \n",
       "1              0.135277                                       0   \n",
       "2             -0.133122                                       1   \n",
       "3             -0.669919                                       0   \n",
       "4             -0.669919                                       0   \n",
       "\n",
       "   Lead_Origin_API  Lead_Origin_Landing Page Submission  \\\n",
       "0                1                                    0   \n",
       "1                1                                    0   \n",
       "2                0                                    1   \n",
       "3                0                                    1   \n",
       "4                0                                    1   \n",
       "\n",
       "   Lead_Origin_Lead Add Form  Lead_Origin_Lead Import  \\\n",
       "0                          0                        0   \n",
       "1                          0                        0   \n",
       "2                          0                        0   \n",
       "3                          0                        0   \n",
       "4                          0                        0   \n",
       "\n",
       "   Lead_Source_Direct Traffic  Lead_Source_Google  Lead_Source_Olark Chat  \\\n",
       "0                           0                   0                       1   \n",
       "1                           0                   0                       0   \n",
       "2                           1                   0                       0   \n",
       "3                           1                   0                       0   \n",
       "4                           0                   1                       0   \n",
       "\n",
       "   Lead_Source_Organic Search  Lead_Source_Reference  \\\n",
       "0                           0                      0   \n",
       "1                           1                      0   \n",
       "2                           0                      0   \n",
       "3                           0                      0   \n",
       "4                           0                      0   \n",
       "\n",
       "   Lead_Source_Referral Sites  Lead_Source_Welingak Website  \\\n",
       "0                           0                             0   \n",
       "1                           0                             0   \n",
       "2                           0                             0   \n",
       "3                           0                             0   \n",
       "4                           0                             0   \n",
       "\n",
       "   Last_Activity_Converted to Lead  Last_Activity_Email Bounced  \\\n",
       "0                                0                            0   \n",
       "1                                0                            0   \n",
       "2                                0                            0   \n",
       "3                                0                            0   \n",
       "4                                1                            0   \n",
       "\n",
       "   Last_Activity_Email Link Clicked  Last_Activity_Email Opened  \\\n",
       "0                                 0                           0   \n",
       "1                                 0                           1   \n",
       "2                                 0                           1   \n",
       "3                                 0                           0   \n",
       "4                                 0                           0   \n",
       "\n",
       "   Last_Activity_Form Submitted on Website  \\\n",
       "0                                        0   \n",
       "1                                        0   \n",
       "2                                        0   \n",
       "3                                        0   \n",
       "4                                        0   \n",
       "\n",
       "   Last_Activity_Olark Chat Conversation  \\\n",
       "0                                      0   \n",
       "1                                      0   \n",
       "2                                      0   \n",
       "3                                      0   \n",
       "4                                      0   \n",
       "\n",
       "   Last_Activity_Page Visited on Website  Last_Activity_SMS Sent  \\\n",
       "0                                      1                       0   \n",
       "1                                      0                       0   \n",
       "2                                      0                       0   \n",
       "3                                      0                       0   \n",
       "4                                      0                       0   \n",
       "\n",
       "   Specialization_Banking, Investment And Insurance  \\\n",
       "0                                                 0   \n",
       "1                                                 0   \n",
       "2                                                 0   \n",
       "3                                                 0   \n",
       "4                                                 0   \n",
       "\n",
       "   Specialization_Business Administration  \\\n",
       "0                                       0   \n",
       "1                                       0   \n",
       "2                                       1   \n",
       "3                                       0   \n",
       "4                                       0   \n",
       "\n",
       "   Specialization_Business Specializations  Specialization_E-COMMERCE  \\\n",
       "0                                        0                          0   \n",
       "1                                        0                          0   \n",
       "2                                        0                          0   \n",
       "3                                        0                          0   \n",
       "4                                        0                          0   \n",
       "\n",
       "   Specialization_Management Specializations  \\\n",
       "0                                          0   \n",
       "1                                          0   \n",
       "2                                          0   \n",
       "3                                          0   \n",
       "4                                          0   \n",
       "\n",
       "   Specialization_Media and Advertising  Specialization_Services Excellence  \\\n",
       "0                                     0                                   0   \n",
       "1                                     0                                   0   \n",
       "2                                     0                                   0   \n",
       "3                                     1                                   0   \n",
       "4                                     0                                   0   \n",
       "\n",
       "   Specialization_Travel and Tourism  current_occupation_Not mentioned  \\\n",
       "0                                  0                                 0   \n",
       "1                                  0                                 0   \n",
       "2                                  0                                 0   \n",
       "3                                  0                                 0   \n",
       "4                                  0                                 0   \n",
       "\n",
       "   current_occupation_Student  current_occupation_Unemployed  \\\n",
       "0                           0                              1   \n",
       "1                           0                              1   \n",
       "2                           1                              0   \n",
       "3                           0                              1   \n",
       "4                           0                              1   \n",
       "\n",
       "   current_occupation_Working Professional  Tags_Already a student  Tags_Busy  \\\n",
       "0                                        0                       0          0   \n",
       "1                                        0                       0          0   \n",
       "2                                        0                       0          0   \n",
       "3                                        0                       0          0   \n",
       "4                                        0                       0          0   \n",
       "\n",
       "   Tags_Closed by Horizzon  Tags_Graduation in progress  \\\n",
       "0                        0                            0   \n",
       "1                        0                            0   \n",
       "2                        0                            0   \n",
       "3                        0                            0   \n",
       "4                        0                            0   \n",
       "\n",
       "   Tags_Interested  in full time MBA  Tags_Interested in other courses  \\\n",
       "0                                  0                                 1   \n",
       "1                                  0                                 0   \n",
       "2                                  0                                 0   \n",
       "3                                  0                                 0   \n",
       "4                                  0                                 0   \n",
       "\n",
       "   Tags_Lost to EINS  Tags_Not doing further education  Tags_Others  \\\n",
       "0                  0                                 0            0   \n",
       "1                  0                                 0            0   \n",
       "2                  0                                 0            0   \n",
       "3                  0                                 0            0   \n",
       "4                  0                                 0            0   \n",
       "\n",
       "   Tags_Ringing  Tags_Will revert after reading the email  Tags_switched off  \\\n",
       "0             0                                         0                  0   \n",
       "1             1                                         0                  0   \n",
       "2             0                                         1                  0   \n",
       "3             1                                         0                  0   \n",
       "4             0                                         1                  0   \n",
       "\n",
       "   Last_Notable_Activity_Email Link Clicked  \\\n",
       "0                                         0   \n",
       "1                                         0   \n",
       "2                                         0   \n",
       "3                                         0   \n",
       "4                                         0   \n",
       "\n",
       "   Last_Notable_Activity_Email Opened  Last_Notable_Activity_Modified  \\\n",
       "0                                   0                               1   \n",
       "1                                   1                               0   \n",
       "2                                   1                               0   \n",
       "3                                   0                               1   \n",
       "4                                   0                               1   \n",
       "\n",
       "   Last_Notable_Activity_Olark Chat Conversation  \\\n",
       "0                                              0   \n",
       "1                                              0   \n",
       "2                                              0   \n",
       "3                                              0   \n",
       "4                                              0   \n",
       "\n",
       "   Last_Notable_Activity_Page Visited on Website  \\\n",
       "0                                              0   \n",
       "1                                              0   \n",
       "2                                              0   \n",
       "3                                              0   \n",
       "4                                              0   \n",
       "\n",
       "   Last_Notable_Activity_SMS Sent  \n",
       "0                               0  \n",
       "1                               0  \n",
       "2                               0  \n",
       "3                               0  \n",
       "4                               0  "
      ]
     },
     "execution_count": 228,
     "metadata": {},
     "output_type": "execute_result"
    }
   ],
   "source": [
    "# scaling continuous variables\n",
    "num = ['TotalVisits','Total Time Spent on Website','Page Views Per Visit']\n",
    "df[num] = scaler.transform(df[num])\n",
    "df.head()"
   ]
  },
  {
   "cell_type": "code",
   "execution_count": 229,
   "id": "88886699",
   "metadata": {},
   "outputs": [
    {
     "data": {
      "text/plain": [
       "(9090, 19)"
      ]
     },
     "execution_count": 229,
     "metadata": {},
     "output_type": "execute_result"
    }
   ],
   "source": [
    "# considering only selected columns in model\n",
    "df = df[col]\n",
    "df.shape"
   ]
  },
  {
   "cell_type": "code",
   "execution_count": 230,
   "id": "686c123c",
   "metadata": {},
   "outputs": [],
   "source": [
    "df_sm = sm.add_constant(df)"
   ]
  },
  {
   "cell_type": "markdown",
   "id": "08034758",
   "metadata": {},
   "source": [
    "Making predictions "
   ]
  },
  {
   "cell_type": "code",
   "execution_count": 231,
   "id": "fd735b58",
   "metadata": {},
   "outputs": [
    {
     "data": {
      "text/plain": [
       "0    0.006170\n",
       "1    0.010752\n",
       "2    0.992209\n",
       "3    0.001052\n",
       "4    0.954225\n",
       "5    0.022633\n",
       "6    0.969425\n",
       "7    0.022633\n",
       "8    0.036120\n",
       "9    0.035235\n",
       "dtype: float64"
      ]
     },
     "execution_count": 231,
     "metadata": {},
     "output_type": "execute_result"
    }
   ],
   "source": [
    "df_pred_score = lgm3.predict(df_sm)\n",
    "df_pred_score[:10]"
   ]
  },
  {
   "cell_type": "code",
   "execution_count": 232,
   "id": "57693599",
   "metadata": {},
   "outputs": [],
   "source": [
    "# adding lead score for every lead in the dataframe\n",
    "df['Lead_score'] = round(100*df_pred_score)"
   ]
  },
  {
   "cell_type": "code",
   "execution_count": 233,
   "id": "21d42927",
   "metadata": {},
   "outputs": [
    {
     "data": {
      "text/html": [
       "<div>\n",
       "<style scoped>\n",
       "    .dataframe tbody tr th:only-of-type {\n",
       "        vertical-align: middle;\n",
       "    }\n",
       "\n",
       "    .dataframe tbody tr th {\n",
       "        vertical-align: top;\n",
       "    }\n",
       "\n",
       "    .dataframe thead th {\n",
       "        text-align: right;\n",
       "    }\n",
       "</style>\n",
       "<table border=\"1\" class=\"dataframe\">\n",
       "  <thead>\n",
       "    <tr style=\"text-align: right;\">\n",
       "      <th></th>\n",
       "      <th>Total Time Spent on Website</th>\n",
       "      <th>Lead_Origin_Lead Add Form</th>\n",
       "      <th>Lead_Source_Olark Chat</th>\n",
       "      <th>Lead_Source_Welingak Website</th>\n",
       "      <th>Last_Activity_Email Bounced</th>\n",
       "      <th>Last_Activity_SMS Sent</th>\n",
       "      <th>current_occupation_Not mentioned</th>\n",
       "      <th>Tags_Already a student</th>\n",
       "      <th>Tags_Closed by Horizzon</th>\n",
       "      <th>Tags_Graduation in progress</th>\n",
       "      <th>Tags_Interested  in full time MBA</th>\n",
       "      <th>Tags_Interested in other courses</th>\n",
       "      <th>Tags_Lost to EINS</th>\n",
       "      <th>Tags_Others</th>\n",
       "      <th>Tags_Ringing</th>\n",
       "      <th>Tags_Will revert after reading the email</th>\n",
       "      <th>Tags_switched off</th>\n",
       "      <th>Last_Notable_Activity_Modified</th>\n",
       "      <th>Last_Notable_Activity_Olark Chat Conversation</th>\n",
       "      <th>Lead_score</th>\n",
       "    </tr>\n",
       "  </thead>\n",
       "  <tbody>\n",
       "    <tr>\n",
       "      <th>0</th>\n",
       "      <td>-0.887355</td>\n",
       "      <td>0</td>\n",
       "      <td>1</td>\n",
       "      <td>0</td>\n",
       "      <td>0</td>\n",
       "      <td>0</td>\n",
       "      <td>0</td>\n",
       "      <td>0</td>\n",
       "      <td>0</td>\n",
       "      <td>0</td>\n",
       "      <td>0</td>\n",
       "      <td>1</td>\n",
       "      <td>0</td>\n",
       "      <td>0</td>\n",
       "      <td>0</td>\n",
       "      <td>0</td>\n",
       "      <td>0</td>\n",
       "      <td>1</td>\n",
       "      <td>0</td>\n",
       "      <td>1.0</td>\n",
       "    </tr>\n",
       "    <tr>\n",
       "      <th>1</th>\n",
       "      <td>0.349083</td>\n",
       "      <td>0</td>\n",
       "      <td>0</td>\n",
       "      <td>0</td>\n",
       "      <td>0</td>\n",
       "      <td>0</td>\n",
       "      <td>0</td>\n",
       "      <td>0</td>\n",
       "      <td>0</td>\n",
       "      <td>0</td>\n",
       "      <td>0</td>\n",
       "      <td>0</td>\n",
       "      <td>0</td>\n",
       "      <td>0</td>\n",
       "      <td>1</td>\n",
       "      <td>0</td>\n",
       "      <td>0</td>\n",
       "      <td>0</td>\n",
       "      <td>0</td>\n",
       "      <td>1.0</td>\n",
       "    </tr>\n",
       "    <tr>\n",
       "      <th>2</th>\n",
       "      <td>1.923064</td>\n",
       "      <td>0</td>\n",
       "      <td>0</td>\n",
       "      <td>0</td>\n",
       "      <td>0</td>\n",
       "      <td>0</td>\n",
       "      <td>0</td>\n",
       "      <td>0</td>\n",
       "      <td>0</td>\n",
       "      <td>0</td>\n",
       "      <td>0</td>\n",
       "      <td>0</td>\n",
       "      <td>0</td>\n",
       "      <td>0</td>\n",
       "      <td>0</td>\n",
       "      <td>1</td>\n",
       "      <td>0</td>\n",
       "      <td>0</td>\n",
       "      <td>0</td>\n",
       "      <td>99.0</td>\n",
       "    </tr>\n",
       "    <tr>\n",
       "      <th>3</th>\n",
       "      <td>-0.327839</td>\n",
       "      <td>0</td>\n",
       "      <td>0</td>\n",
       "      <td>0</td>\n",
       "      <td>0</td>\n",
       "      <td>0</td>\n",
       "      <td>0</td>\n",
       "      <td>0</td>\n",
       "      <td>0</td>\n",
       "      <td>0</td>\n",
       "      <td>0</td>\n",
       "      <td>0</td>\n",
       "      <td>0</td>\n",
       "      <td>0</td>\n",
       "      <td>1</td>\n",
       "      <td>0</td>\n",
       "      <td>0</td>\n",
       "      <td>1</td>\n",
       "      <td>0</td>\n",
       "      <td>0.0</td>\n",
       "    </tr>\n",
       "    <tr>\n",
       "      <th>4</th>\n",
       "      <td>1.732278</td>\n",
       "      <td>0</td>\n",
       "      <td>0</td>\n",
       "      <td>0</td>\n",
       "      <td>0</td>\n",
       "      <td>0</td>\n",
       "      <td>0</td>\n",
       "      <td>0</td>\n",
       "      <td>0</td>\n",
       "      <td>0</td>\n",
       "      <td>0</td>\n",
       "      <td>0</td>\n",
       "      <td>0</td>\n",
       "      <td>0</td>\n",
       "      <td>0</td>\n",
       "      <td>1</td>\n",
       "      <td>0</td>\n",
       "      <td>1</td>\n",
       "      <td>0</td>\n",
       "      <td>95.0</td>\n",
       "    </tr>\n",
       "  </tbody>\n",
       "</table>\n",
       "</div>"
      ],
      "text/plain": [
       "   Total Time Spent on Website  Lead_Origin_Lead Add Form  \\\n",
       "0                    -0.887355                          0   \n",
       "1                     0.349083                          0   \n",
       "2                     1.923064                          0   \n",
       "3                    -0.327839                          0   \n",
       "4                     1.732278                          0   \n",
       "\n",
       "   Lead_Source_Olark Chat  Lead_Source_Welingak Website  \\\n",
       "0                       1                             0   \n",
       "1                       0                             0   \n",
       "2                       0                             0   \n",
       "3                       0                             0   \n",
       "4                       0                             0   \n",
       "\n",
       "   Last_Activity_Email Bounced  Last_Activity_SMS Sent  \\\n",
       "0                            0                       0   \n",
       "1                            0                       0   \n",
       "2                            0                       0   \n",
       "3                            0                       0   \n",
       "4                            0                       0   \n",
       "\n",
       "   current_occupation_Not mentioned  Tags_Already a student  \\\n",
       "0                                 0                       0   \n",
       "1                                 0                       0   \n",
       "2                                 0                       0   \n",
       "3                                 0                       0   \n",
       "4                                 0                       0   \n",
       "\n",
       "   Tags_Closed by Horizzon  Tags_Graduation in progress  \\\n",
       "0                        0                            0   \n",
       "1                        0                            0   \n",
       "2                        0                            0   \n",
       "3                        0                            0   \n",
       "4                        0                            0   \n",
       "\n",
       "   Tags_Interested  in full time MBA  Tags_Interested in other courses  \\\n",
       "0                                  0                                 1   \n",
       "1                                  0                                 0   \n",
       "2                                  0                                 0   \n",
       "3                                  0                                 0   \n",
       "4                                  0                                 0   \n",
       "\n",
       "   Tags_Lost to EINS  Tags_Others  Tags_Ringing  \\\n",
       "0                  0            0             0   \n",
       "1                  0            0             1   \n",
       "2                  0            0             0   \n",
       "3                  0            0             1   \n",
       "4                  0            0             0   \n",
       "\n",
       "   Tags_Will revert after reading the email  Tags_switched off  \\\n",
       "0                                         0                  0   \n",
       "1                                         0                  0   \n",
       "2                                         1                  0   \n",
       "3                                         0                  0   \n",
       "4                                         1                  0   \n",
       "\n",
       "   Last_Notable_Activity_Modified  \\\n",
       "0                               1   \n",
       "1                               0   \n",
       "2                               0   \n",
       "3                               1   \n",
       "4                               1   \n",
       "\n",
       "   Last_Notable_Activity_Olark Chat Conversation  Lead_score  \n",
       "0                                              0         1.0  \n",
       "1                                              0         1.0  \n",
       "2                                              0        99.0  \n",
       "3                                              0         0.0  \n",
       "4                                              0        95.0  "
      ]
     },
     "execution_count": 233,
     "metadata": {},
     "output_type": "execute_result"
    }
   ],
   "source": [
    "df.head()"
   ]
  },
  {
   "cell_type": "code",
   "execution_count": 234,
   "id": "0f8c91e6",
   "metadata": {
    "scrolled": true
   },
   "outputs": [
    {
     "data": {
      "text/plain": [
       "count    9090.000000\n",
       "mean       38.133993\n",
       "std        43.143688\n",
       "min         0.000000\n",
       "25%         1.000000\n",
       "50%         9.000000\n",
       "75%        96.000000\n",
       "max       100.000000\n",
       "Name: Lead_score, dtype: float64"
      ]
     },
     "execution_count": 234,
     "metadata": {},
     "output_type": "execute_result"
    }
   ],
   "source": [
    "#describing lead_score\n",
    "df.Lead_score.describe()"
   ]
  },
  {
   "cell_type": "code",
   "execution_count": 235,
   "id": "0edc8e4c",
   "metadata": {},
   "outputs": [
    {
     "data": {
      "text/plain": [
       "<AxesSubplot:ylabel='Lead_score'>"
      ]
     },
     "execution_count": 235,
     "metadata": {},
     "output_type": "execute_result"
    },
    {
     "data": {
      "image/png": "[encoded data removed]",
      "text/plain": [
       "<Figure size 432x288 with 1 Axes>"
      ]
     },
     "metadata": {
      "needs_background": "light"
     },
     "output_type": "display_data"
    }
   ],
   "source": [
    "# boxplot of lead_score\n",
    "sns.boxplot(y= df.Lead_score)"
   ]
  },
  {
   "cell_type": "markdown",
   "id": "ad5197f9",
   "metadata": {},
   "source": [
    "- Every lead has a lead score between 0 and 100\n",
    "- Leads with very high lead score belong to hot leads, who are most likely to be converted.\n"
   ]
  },
  {
   "cell_type": "markdown",
   "id": "ad474ace",
   "metadata": {},
   "source": [
    "# Conclusions"
   ]
  },
  {
   "cell_type": "markdown",
   "id": "d32414b4",
   "metadata": {},
   "source": [
    "- Our model has 93% accuracy,93.7% sensitivity and 92.6% specificity on training set\n",
    "- Final model has 93.3%  accuracy,93% sensitivity and 93.5% specificity on test set\n",
    "- Variables which helps most in predicting lead conversion in our model are\n",
    "    - Tags_Lost to EINS (coef 6.3616)\n",
    "    - Tags_switched off (coef -5.7080)\n",
    "    - Tags_Closed by Horizzon (coef 5.5389)\n",
    "    - Tags_Ringing (coef -4.5025)\n",
    "    - Tags_Already a student (coef -4.3912)\n",
    "    - Lead_Source_Welingak Website (coef 3.7183)\n",
    "- The Model seems to predict the Conversion Rate very well,so the sales team can make good calls based on this model.\n",
    "    \n",
    "\n",
    "    \n"
   ]
  },
  {
   "cell_type": "markdown",
   "id": "e63e4017",
   "metadata": {},
   "source": [
    "X education can use our model and give a lead score for every leads. Once the leads have been scored the sales team can focus on leads with scores above 30(since our probability cut off was 0.3) to ensure higher lead conversion.\n",
    "           \n",
    " Sales team doesn't want to miss calling leads tagged as Lost to EINS (coef  6.3616),Closed by Horizon (coef 5.5389) or lead source with Welingak Website (coef 3.7183) as they have higher coefficient values in our model. Higher coefficient values of these dummy variables indicate that there is a higher chance of lead conversion among leads with these dummies.\n",
    "Sales team may avoid calling leads who are tagged as switched off (coef -5.7080),Ringing (coef -4.5025) or Already a student (coef -4.3912),as their coefficient values are highly negative in our model and they will affect the conversion probability negatively. \n"
   ]
  },
  {
   "cell_type": "code",
   "execution_count": null,
   "id": "7537619f",
   "metadata": {},
   "outputs": [],
   "source": []
  }
 ],
 "metadata": {
  "kernelspec": {
   "display_name": "Python 3 (ipykernel)",
   "language": "python",
   "name": "python3"
  },
  "language_info": {
   "codemirror_mode": {
    "name": "ipython",
    "version": 3
   },
   "file_extension": ".py",
   "mimetype": "text/x-python",
   "name": "python",
   "nbconvert_exporter": "python",
   "pygments_lexer": "ipython3",
   "version": "3.9.7"
  }
 },
 "nbformat": 4,
 "nbformat_minor": 5
}
